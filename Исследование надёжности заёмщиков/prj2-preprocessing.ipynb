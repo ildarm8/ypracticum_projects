{
 "cells": [
  {
   "cell_type": "markdown",
   "id": "90e13fb9",
   "metadata": {
    "toc": true
   },
   "source": [
    "<h1>Содержание<span class=\"tocSkip\"></span></h1>\n",
    "<div class=\"toc\"><ul class=\"toc-item\"><li><span><a href=\"#Откройте-таблицу-и-изучите-общую-информацию-о-данных\" data-toc-modified-id=\"Откройте-таблицу-и-изучите-общую-информацию-о-данных-1\"><span class=\"toc-item-num\">1&nbsp;&nbsp;</span>Откройте таблицу и изучите общую информацию о данных</a></span></li><li><span><a href=\"#Предобработка-данных\" data-toc-modified-id=\"Предобработка-данных-2\"><span class=\"toc-item-num\">2&nbsp;&nbsp;</span>Предобработка данных</a></span><ul class=\"toc-item\"><li><span><a href=\"#Удаление-пропусков\" data-toc-modified-id=\"Удаление-пропусков-2.1\"><span class=\"toc-item-num\">2.1&nbsp;&nbsp;</span>Удаление пропусков</a></span></li><li><span><a href=\"#Обработка-аномальных-значений\" data-toc-modified-id=\"Обработка-аномальных-значений-2.2\"><span class=\"toc-item-num\">2.2&nbsp;&nbsp;</span>Обработка аномальных значений</a></span></li><li><span><a href=\"#Удаление-пропусков-(продолжение)\" data-toc-modified-id=\"Удаление-пропусков-(продолжение)-2.3\"><span class=\"toc-item-num\">2.3&nbsp;&nbsp;</span>Удаление пропусков (продолжение)</a></span></li><li><span><a href=\"#Изменение-типов-данных\" data-toc-modified-id=\"Изменение-типов-данных-2.4\"><span class=\"toc-item-num\">2.4&nbsp;&nbsp;</span>Изменение типов данных</a></span></li><li><span><a href=\"#Обработка-дубликатов\" data-toc-modified-id=\"Обработка-дубликатов-2.5\"><span class=\"toc-item-num\">2.5&nbsp;&nbsp;</span>Обработка дубликатов</a></span></li><li><span><a href=\"#Категоризация-данных\" data-toc-modified-id=\"Категоризация-данных-2.6\"><span class=\"toc-item-num\">2.6&nbsp;&nbsp;</span>Категоризация данных</a></span></li><li><span><a href=\"#Шаг-3.-Исследуйте-данные-и-ответьте-на-вопросы\" data-toc-modified-id=\"Шаг-3.-Исследуйте-данные-и-ответьте-на-вопросы-2.7\"><span class=\"toc-item-num\">2.7&nbsp;&nbsp;</span>Шаг 3. Исследуйте данные и ответьте на вопросы</a></span></li><li><span><a href=\"#Шаг-3.-Исследуйте-данные-и-ответьте-на-вопросы\" data-toc-modified-id=\"Шаг-3.-Исследуйте-данные-и-ответьте-на-вопросы-2.8\"><span class=\"toc-item-num\">2.8&nbsp;&nbsp;</span>Шаг 3. Исследуйте данные и ответьте на вопросы</a></span><ul class=\"toc-item\"><li><span><a href=\"#3.1-Есть-ли-зависимость-между-количеством-детей-и-возвратом-кредита-в-срок?\" data-toc-modified-id=\"3.1-Есть-ли-зависимость-между-количеством-детей-и-возвратом-кредита-в-срок?-2.8.1\"><span class=\"toc-item-num\">2.8.1&nbsp;&nbsp;</span>3.1 Есть ли зависимость между количеством детей и возвратом кредита в срок?</a></span></li><li><span><a href=\"#3.2-Есть-ли-зависимость-между-семейным-положением-и-возвратом-кредита-в-срок?\" data-toc-modified-id=\"3.2-Есть-ли-зависимость-между-семейным-положением-и-возвратом-кредита-в-срок?-2.8.2\"><span class=\"toc-item-num\">2.8.2&nbsp;&nbsp;</span>3.2 Есть ли зависимость между семейным положением и возвратом кредита в срок?</a></span></li><li><span><a href=\"#3.3-Есть-ли-зависимость-между-уровнем-дохода-и-возвратом-кредита-в-срок?\" data-toc-modified-id=\"3.3-Есть-ли-зависимость-между-уровнем-дохода-и-возвратом-кредита-в-срок?-2.8.3\"><span class=\"toc-item-num\">2.8.3&nbsp;&nbsp;</span>3.3 Есть ли зависимость между уровнем дохода и возвратом кредита в срок?</a></span></li><li><span><a href=\"#3.4-Как-разные-цели-кредита-влияют-на-его-возврат-в-срок?\" data-toc-modified-id=\"3.4-Как-разные-цели-кредита-влияют-на-его-возврат-в-срок?-2.8.4\"><span class=\"toc-item-num\">2.8.4&nbsp;&nbsp;</span>3.4 Как разные цели кредита влияют на его возврат в срок?</a></span></li><li><span><a href=\"#3.5-Приведите-возможные-причины-появления-пропусков-в-исходных-данных.\" data-toc-modified-id=\"3.5-Приведите-возможные-причины-появления-пропусков-в-исходных-данных.-2.8.5\"><span class=\"toc-item-num\">2.8.5&nbsp;&nbsp;</span>3.5 Приведите возможные причины появления пропусков в исходных данных.</a></span></li><li><span><a href=\"#3.6-Объясните,-почему-заполнить-пропуски-медианным-значением-—-лучшее-решение-для-количественных-переменных.\" data-toc-modified-id=\"3.6-Объясните,-почему-заполнить-пропуски-медианным-значением-—-лучшее-решение-для-количественных-переменных.-2.8.6\"><span class=\"toc-item-num\">2.8.6&nbsp;&nbsp;</span>3.6 Объясните, почему заполнить пропуски медианным значением — лучшее решение для количественных переменных.</a></span></li></ul></li><li><span><a href=\"#Шаг-4:-общий-вывод.\" data-toc-modified-id=\"Шаг-4:-общий-вывод.-2.9\"><span class=\"toc-item-num\">2.9&nbsp;&nbsp;</span>Шаг 4: общий вывод.</a></span></li></ul></li></ul></div>"
   ]
  },
  {
   "cell_type": "markdown",
   "id": "50cb0ecb",
   "metadata": {
    "deletable": false,
    "editable": false,
    "id": "c81daeeb"
   },
   "source": [
    "# Исследование надежности заемщиков\n"
   ]
  },
  {
   "cell_type": "markdown",
   "id": "452a5e83",
   "metadata": {},
   "source": [
    " Заказчик — кредитный отдел банка. Нужно разобраться, влияет ли семейное положение и количество детей клиента на факт погашения кредита в срок. Результаты исследования будут учтены при построении модели кредитного скоринга — специальной системы, которая оценивает способность потенциального заёмщика вернуть кредит банку.\n",
    " \n",
    " **Цели:** Определить влияет ли семейное положение и количество детей клиента на факт погашения кредита в срок.  \n",
    " \n",
    " **Предоставленные данные:** Входные данные от банка — статистика о платёжеспособности клиентов."
   ]
  },
  {
   "cell_type": "markdown",
   "id": "f9894be0",
   "metadata": {
    "deletable": false,
    "editable": false,
    "id": "827c20bf"
   },
   "source": [
    "Во второй части проекта вы выполните шаги 3 и 4. Их вручную проверит ревьюер.\n",
    "Чтобы вам не пришлось писать код заново для шагов 1 и 2, мы добавили авторские решения в ячейки с кодом. \n",
    "\n"
   ]
  },
  {
   "cell_type": "markdown",
   "id": "843fdbe2",
   "metadata": {
    "deletable": false,
    "editable": false,
    "id": "744d7639"
   },
   "source": [
    "## Откройте таблицу и изучите общую информацию о данных"
   ]
  },
  {
   "cell_type": "markdown",
   "id": "ef6e343e",
   "metadata": {
    "deletable": false,
    "editable": false,
    "id": "e7a14c31"
   },
   "source": [
    "**Задание 1. Импортируйте библиотеку pandas. Считайте данные из csv-файла в датафрейм и сохраните в переменную `data`. Путь к файлу:**\n",
    "\n",
    "`/datasets/data.csv`"
   ]
  },
  {
   "cell_type": "code",
   "execution_count": 1,
   "id": "a3a9ee86",
   "metadata": {},
   "outputs": [],
   "source": [
    "import pandas as pd"
   ]
  },
  {
   "cell_type": "code",
   "execution_count": 2,
   "id": "ac3012d6",
   "metadata": {
    "deletable": false,
    "id": "7bcf75c9"
   },
   "outputs": [],
   "source": [
    "try:\n",
    "    data = pd.read_csv('/datasets/data.csv') #\n",
    "except:\n",
    "    data = pd.read_csv('data.csv')"
   ]
  },
  {
   "cell_type": "markdown",
   "id": "bd6b1c22",
   "metadata": {
    "deletable": false,
    "editable": false,
    "id": "b8038fe3"
   },
   "source": [
    "**Задание 2. Выведите первые 20 строчек датафрейма `data` на экран.**"
   ]
  },
  {
   "cell_type": "code",
   "execution_count": 3,
   "id": "47d10f19",
   "metadata": {
    "deletable": false,
    "id": "2a7cab99",
    "outputId": "1a8f3ef2-d323-4ec2-ddf7-89670b5944c4"
   },
   "outputs": [
    {
     "data": {
      "text/html": [
       "<div>\n",
       "<style scoped>\n",
       "    .dataframe tbody tr th:only-of-type {\n",
       "        vertical-align: middle;\n",
       "    }\n",
       "\n",
       "    .dataframe tbody tr th {\n",
       "        vertical-align: top;\n",
       "    }\n",
       "\n",
       "    .dataframe thead th {\n",
       "        text-align: right;\n",
       "    }\n",
       "</style>\n",
       "<table border=\"1\" class=\"dataframe\">\n",
       "  <thead>\n",
       "    <tr style=\"text-align: right;\">\n",
       "      <th></th>\n",
       "      <th>children</th>\n",
       "      <th>days_employed</th>\n",
       "      <th>dob_years</th>\n",
       "      <th>education</th>\n",
       "      <th>education_id</th>\n",
       "      <th>family_status</th>\n",
       "      <th>family_status_id</th>\n",
       "      <th>gender</th>\n",
       "      <th>income_type</th>\n",
       "      <th>debt</th>\n",
       "      <th>total_income</th>\n",
       "      <th>purpose</th>\n",
       "    </tr>\n",
       "  </thead>\n",
       "  <tbody>\n",
       "    <tr>\n",
       "      <th>0</th>\n",
       "      <td>1</td>\n",
       "      <td>-8437.673028</td>\n",
       "      <td>42</td>\n",
       "      <td>высшее</td>\n",
       "      <td>0</td>\n",
       "      <td>женат / замужем</td>\n",
       "      <td>0</td>\n",
       "      <td>F</td>\n",
       "      <td>сотрудник</td>\n",
       "      <td>0</td>\n",
       "      <td>253875.639453</td>\n",
       "      <td>покупка жилья</td>\n",
       "    </tr>\n",
       "    <tr>\n",
       "      <th>1</th>\n",
       "      <td>1</td>\n",
       "      <td>-4024.803754</td>\n",
       "      <td>36</td>\n",
       "      <td>среднее</td>\n",
       "      <td>1</td>\n",
       "      <td>женат / замужем</td>\n",
       "      <td>0</td>\n",
       "      <td>F</td>\n",
       "      <td>сотрудник</td>\n",
       "      <td>0</td>\n",
       "      <td>112080.014102</td>\n",
       "      <td>приобретение автомобиля</td>\n",
       "    </tr>\n",
       "    <tr>\n",
       "      <th>2</th>\n",
       "      <td>0</td>\n",
       "      <td>-5623.422610</td>\n",
       "      <td>33</td>\n",
       "      <td>Среднее</td>\n",
       "      <td>1</td>\n",
       "      <td>женат / замужем</td>\n",
       "      <td>0</td>\n",
       "      <td>M</td>\n",
       "      <td>сотрудник</td>\n",
       "      <td>0</td>\n",
       "      <td>145885.952297</td>\n",
       "      <td>покупка жилья</td>\n",
       "    </tr>\n",
       "    <tr>\n",
       "      <th>3</th>\n",
       "      <td>3</td>\n",
       "      <td>-4124.747207</td>\n",
       "      <td>32</td>\n",
       "      <td>среднее</td>\n",
       "      <td>1</td>\n",
       "      <td>женат / замужем</td>\n",
       "      <td>0</td>\n",
       "      <td>M</td>\n",
       "      <td>сотрудник</td>\n",
       "      <td>0</td>\n",
       "      <td>267628.550329</td>\n",
       "      <td>дополнительное образование</td>\n",
       "    </tr>\n",
       "    <tr>\n",
       "      <th>4</th>\n",
       "      <td>0</td>\n",
       "      <td>340266.072047</td>\n",
       "      <td>53</td>\n",
       "      <td>среднее</td>\n",
       "      <td>1</td>\n",
       "      <td>гражданский брак</td>\n",
       "      <td>1</td>\n",
       "      <td>F</td>\n",
       "      <td>пенсионер</td>\n",
       "      <td>0</td>\n",
       "      <td>158616.077870</td>\n",
       "      <td>сыграть свадьбу</td>\n",
       "    </tr>\n",
       "    <tr>\n",
       "      <th>5</th>\n",
       "      <td>0</td>\n",
       "      <td>-926.185831</td>\n",
       "      <td>27</td>\n",
       "      <td>высшее</td>\n",
       "      <td>0</td>\n",
       "      <td>гражданский брак</td>\n",
       "      <td>1</td>\n",
       "      <td>M</td>\n",
       "      <td>компаньон</td>\n",
       "      <td>0</td>\n",
       "      <td>255763.565419</td>\n",
       "      <td>покупка жилья</td>\n",
       "    </tr>\n",
       "    <tr>\n",
       "      <th>6</th>\n",
       "      <td>0</td>\n",
       "      <td>-2879.202052</td>\n",
       "      <td>43</td>\n",
       "      <td>высшее</td>\n",
       "      <td>0</td>\n",
       "      <td>женат / замужем</td>\n",
       "      <td>0</td>\n",
       "      <td>F</td>\n",
       "      <td>компаньон</td>\n",
       "      <td>0</td>\n",
       "      <td>240525.971920</td>\n",
       "      <td>операции с жильем</td>\n",
       "    </tr>\n",
       "    <tr>\n",
       "      <th>7</th>\n",
       "      <td>0</td>\n",
       "      <td>-152.779569</td>\n",
       "      <td>50</td>\n",
       "      <td>СРЕДНЕЕ</td>\n",
       "      <td>1</td>\n",
       "      <td>женат / замужем</td>\n",
       "      <td>0</td>\n",
       "      <td>M</td>\n",
       "      <td>сотрудник</td>\n",
       "      <td>0</td>\n",
       "      <td>135823.934197</td>\n",
       "      <td>образование</td>\n",
       "    </tr>\n",
       "    <tr>\n",
       "      <th>8</th>\n",
       "      <td>2</td>\n",
       "      <td>-6929.865299</td>\n",
       "      <td>35</td>\n",
       "      <td>ВЫСШЕЕ</td>\n",
       "      <td>0</td>\n",
       "      <td>гражданский брак</td>\n",
       "      <td>1</td>\n",
       "      <td>F</td>\n",
       "      <td>сотрудник</td>\n",
       "      <td>0</td>\n",
       "      <td>95856.832424</td>\n",
       "      <td>на проведение свадьбы</td>\n",
       "    </tr>\n",
       "    <tr>\n",
       "      <th>9</th>\n",
       "      <td>0</td>\n",
       "      <td>-2188.756445</td>\n",
       "      <td>41</td>\n",
       "      <td>среднее</td>\n",
       "      <td>1</td>\n",
       "      <td>женат / замужем</td>\n",
       "      <td>0</td>\n",
       "      <td>M</td>\n",
       "      <td>сотрудник</td>\n",
       "      <td>0</td>\n",
       "      <td>144425.938277</td>\n",
       "      <td>покупка жилья для семьи</td>\n",
       "    </tr>\n",
       "    <tr>\n",
       "      <th>10</th>\n",
       "      <td>2</td>\n",
       "      <td>-4171.483647</td>\n",
       "      <td>36</td>\n",
       "      <td>высшее</td>\n",
       "      <td>0</td>\n",
       "      <td>женат / замужем</td>\n",
       "      <td>0</td>\n",
       "      <td>M</td>\n",
       "      <td>компаньон</td>\n",
       "      <td>0</td>\n",
       "      <td>113943.491460</td>\n",
       "      <td>покупка недвижимости</td>\n",
       "    </tr>\n",
       "    <tr>\n",
       "      <th>11</th>\n",
       "      <td>0</td>\n",
       "      <td>-792.701887</td>\n",
       "      <td>40</td>\n",
       "      <td>среднее</td>\n",
       "      <td>1</td>\n",
       "      <td>женат / замужем</td>\n",
       "      <td>0</td>\n",
       "      <td>F</td>\n",
       "      <td>сотрудник</td>\n",
       "      <td>0</td>\n",
       "      <td>77069.234271</td>\n",
       "      <td>покупка коммерческой недвижимости</td>\n",
       "    </tr>\n",
       "    <tr>\n",
       "      <th>12</th>\n",
       "      <td>0</td>\n",
       "      <td>NaN</td>\n",
       "      <td>65</td>\n",
       "      <td>среднее</td>\n",
       "      <td>1</td>\n",
       "      <td>гражданский брак</td>\n",
       "      <td>1</td>\n",
       "      <td>M</td>\n",
       "      <td>пенсионер</td>\n",
       "      <td>0</td>\n",
       "      <td>NaN</td>\n",
       "      <td>сыграть свадьбу</td>\n",
       "    </tr>\n",
       "    <tr>\n",
       "      <th>13</th>\n",
       "      <td>0</td>\n",
       "      <td>-1846.641941</td>\n",
       "      <td>54</td>\n",
       "      <td>неоконченное высшее</td>\n",
       "      <td>2</td>\n",
       "      <td>женат / замужем</td>\n",
       "      <td>0</td>\n",
       "      <td>F</td>\n",
       "      <td>сотрудник</td>\n",
       "      <td>0</td>\n",
       "      <td>130458.228857</td>\n",
       "      <td>приобретение автомобиля</td>\n",
       "    </tr>\n",
       "    <tr>\n",
       "      <th>14</th>\n",
       "      <td>0</td>\n",
       "      <td>-1844.956182</td>\n",
       "      <td>56</td>\n",
       "      <td>высшее</td>\n",
       "      <td>0</td>\n",
       "      <td>гражданский брак</td>\n",
       "      <td>1</td>\n",
       "      <td>F</td>\n",
       "      <td>компаньон</td>\n",
       "      <td>1</td>\n",
       "      <td>165127.911772</td>\n",
       "      <td>покупка жилой недвижимости</td>\n",
       "    </tr>\n",
       "    <tr>\n",
       "      <th>15</th>\n",
       "      <td>1</td>\n",
       "      <td>-972.364419</td>\n",
       "      <td>26</td>\n",
       "      <td>среднее</td>\n",
       "      <td>1</td>\n",
       "      <td>женат / замужем</td>\n",
       "      <td>0</td>\n",
       "      <td>F</td>\n",
       "      <td>сотрудник</td>\n",
       "      <td>0</td>\n",
       "      <td>116820.904450</td>\n",
       "      <td>строительство собственной недвижимости</td>\n",
       "    </tr>\n",
       "    <tr>\n",
       "      <th>16</th>\n",
       "      <td>0</td>\n",
       "      <td>-1719.934226</td>\n",
       "      <td>35</td>\n",
       "      <td>среднее</td>\n",
       "      <td>1</td>\n",
       "      <td>женат / замужем</td>\n",
       "      <td>0</td>\n",
       "      <td>F</td>\n",
       "      <td>сотрудник</td>\n",
       "      <td>0</td>\n",
       "      <td>289202.704229</td>\n",
       "      <td>недвижимость</td>\n",
       "    </tr>\n",
       "    <tr>\n",
       "      <th>17</th>\n",
       "      <td>0</td>\n",
       "      <td>-2369.999720</td>\n",
       "      <td>33</td>\n",
       "      <td>высшее</td>\n",
       "      <td>0</td>\n",
       "      <td>гражданский брак</td>\n",
       "      <td>1</td>\n",
       "      <td>M</td>\n",
       "      <td>сотрудник</td>\n",
       "      <td>0</td>\n",
       "      <td>90410.586745</td>\n",
       "      <td>строительство недвижимости</td>\n",
       "    </tr>\n",
       "    <tr>\n",
       "      <th>18</th>\n",
       "      <td>0</td>\n",
       "      <td>400281.136913</td>\n",
       "      <td>53</td>\n",
       "      <td>среднее</td>\n",
       "      <td>1</td>\n",
       "      <td>вдовец / вдова</td>\n",
       "      <td>2</td>\n",
       "      <td>F</td>\n",
       "      <td>пенсионер</td>\n",
       "      <td>0</td>\n",
       "      <td>56823.777243</td>\n",
       "      <td>на покупку подержанного автомобиля</td>\n",
       "    </tr>\n",
       "    <tr>\n",
       "      <th>19</th>\n",
       "      <td>0</td>\n",
       "      <td>-10038.818549</td>\n",
       "      <td>48</td>\n",
       "      <td>СРЕДНЕЕ</td>\n",
       "      <td>1</td>\n",
       "      <td>в разводе</td>\n",
       "      <td>3</td>\n",
       "      <td>F</td>\n",
       "      <td>сотрудник</td>\n",
       "      <td>0</td>\n",
       "      <td>242831.107982</td>\n",
       "      <td>на покупку своего автомобиля</td>\n",
       "    </tr>\n",
       "  </tbody>\n",
       "</table>\n",
       "</div>"
      ],
      "text/plain": [
       "    children  days_employed  dob_years            education  education_id  \\\n",
       "0          1   -8437.673028         42               высшее             0   \n",
       "1          1   -4024.803754         36              среднее             1   \n",
       "2          0   -5623.422610         33              Среднее             1   \n",
       "3          3   -4124.747207         32              среднее             1   \n",
       "4          0  340266.072047         53              среднее             1   \n",
       "5          0    -926.185831         27               высшее             0   \n",
       "6          0   -2879.202052         43               высшее             0   \n",
       "7          0    -152.779569         50              СРЕДНЕЕ             1   \n",
       "8          2   -6929.865299         35               ВЫСШЕЕ             0   \n",
       "9          0   -2188.756445         41              среднее             1   \n",
       "10         2   -4171.483647         36               высшее             0   \n",
       "11         0    -792.701887         40              среднее             1   \n",
       "12         0            NaN         65              среднее             1   \n",
       "13         0   -1846.641941         54  неоконченное высшее             2   \n",
       "14         0   -1844.956182         56               высшее             0   \n",
       "15         1    -972.364419         26              среднее             1   \n",
       "16         0   -1719.934226         35              среднее             1   \n",
       "17         0   -2369.999720         33               высшее             0   \n",
       "18         0  400281.136913         53              среднее             1   \n",
       "19         0  -10038.818549         48              СРЕДНЕЕ             1   \n",
       "\n",
       "       family_status  family_status_id gender income_type  debt  \\\n",
       "0    женат / замужем                 0      F   сотрудник     0   \n",
       "1    женат / замужем                 0      F   сотрудник     0   \n",
       "2    женат / замужем                 0      M   сотрудник     0   \n",
       "3    женат / замужем                 0      M   сотрудник     0   \n",
       "4   гражданский брак                 1      F   пенсионер     0   \n",
       "5   гражданский брак                 1      M   компаньон     0   \n",
       "6    женат / замужем                 0      F   компаньон     0   \n",
       "7    женат / замужем                 0      M   сотрудник     0   \n",
       "8   гражданский брак                 1      F   сотрудник     0   \n",
       "9    женат / замужем                 0      M   сотрудник     0   \n",
       "10   женат / замужем                 0      M   компаньон     0   \n",
       "11   женат / замужем                 0      F   сотрудник     0   \n",
       "12  гражданский брак                 1      M   пенсионер     0   \n",
       "13   женат / замужем                 0      F   сотрудник     0   \n",
       "14  гражданский брак                 1      F   компаньон     1   \n",
       "15   женат / замужем                 0      F   сотрудник     0   \n",
       "16   женат / замужем                 0      F   сотрудник     0   \n",
       "17  гражданский брак                 1      M   сотрудник     0   \n",
       "18    вдовец / вдова                 2      F   пенсионер     0   \n",
       "19         в разводе                 3      F   сотрудник     0   \n",
       "\n",
       "     total_income                                 purpose  \n",
       "0   253875.639453                           покупка жилья  \n",
       "1   112080.014102                 приобретение автомобиля  \n",
       "2   145885.952297                           покупка жилья  \n",
       "3   267628.550329              дополнительное образование  \n",
       "4   158616.077870                         сыграть свадьбу  \n",
       "5   255763.565419                           покупка жилья  \n",
       "6   240525.971920                       операции с жильем  \n",
       "7   135823.934197                             образование  \n",
       "8    95856.832424                   на проведение свадьбы  \n",
       "9   144425.938277                 покупка жилья для семьи  \n",
       "10  113943.491460                    покупка недвижимости  \n",
       "11   77069.234271       покупка коммерческой недвижимости  \n",
       "12            NaN                         сыграть свадьбу  \n",
       "13  130458.228857                 приобретение автомобиля  \n",
       "14  165127.911772              покупка жилой недвижимости  \n",
       "15  116820.904450  строительство собственной недвижимости  \n",
       "16  289202.704229                            недвижимость  \n",
       "17   90410.586745              строительство недвижимости  \n",
       "18   56823.777243      на покупку подержанного автомобиля  \n",
       "19  242831.107982            на покупку своего автомобиля  "
      ]
     },
     "execution_count": 3,
     "metadata": {},
     "output_type": "execute_result"
    }
   ],
   "source": [
    "data.head(20)"
   ]
  },
  {
   "cell_type": "markdown",
   "id": "2ba90841",
   "metadata": {
    "deletable": false,
    "editable": false,
    "id": "1c12e233"
   },
   "source": [
    "**Задание 3. Выведите основную информацию о датафрейме с помощью метода `info()`.**"
   ]
  },
  {
   "cell_type": "code",
   "execution_count": 4,
   "id": "858c650d",
   "metadata": {
    "deletable": false,
    "id": "2b757bca",
    "outputId": "15376089-8dad-46c9-b520-c05248d43158"
   },
   "outputs": [
    {
     "name": "stdout",
     "output_type": "stream",
     "text": [
      "<class 'pandas.core.frame.DataFrame'>\n",
      "RangeIndex: 21525 entries, 0 to 21524\n",
      "Data columns (total 12 columns):\n",
      " #   Column            Non-Null Count  Dtype  \n",
      "---  ------            --------------  -----  \n",
      " 0   children          21525 non-null  int64  \n",
      " 1   days_employed     19351 non-null  float64\n",
      " 2   dob_years         21525 non-null  int64  \n",
      " 3   education         21525 non-null  object \n",
      " 4   education_id      21525 non-null  int64  \n",
      " 5   family_status     21525 non-null  object \n",
      " 6   family_status_id  21525 non-null  int64  \n",
      " 7   gender            21525 non-null  object \n",
      " 8   income_type       21525 non-null  object \n",
      " 9   debt              21525 non-null  int64  \n",
      " 10  total_income      19351 non-null  float64\n",
      " 11  purpose           21525 non-null  object \n",
      "dtypes: float64(2), int64(5), object(5)\n",
      "memory usage: 2.0+ MB\n"
     ]
    }
   ],
   "source": [
    "data.info()"
   ]
  },
  {
   "cell_type": "markdown",
   "id": "bf3cdcc2",
   "metadata": {},
   "source": [
    "**Краткий вывод:** Осуществили выгрузку базы, вывели общую информацию. Таблица состоит из 21525 строк и 12 столбцов. Столбцы \"days_employed\" и \"total_income\" имеют пропуски, они будут обработаны в следующем разделе."
   ]
  },
  {
   "cell_type": "markdown",
   "id": "860823cc",
   "metadata": {
    "deletable": false,
    "editable": false,
    "id": "333ec665"
   },
   "source": [
    "## Предобработка данных"
   ]
  },
  {
   "cell_type": "markdown",
   "id": "2cc56932",
   "metadata": {
    "deletable": false,
    "editable": false,
    "id": "02d92d53"
   },
   "source": [
    "### Удаление пропусков"
   ]
  },
  {
   "cell_type": "markdown",
   "id": "9515d7a8",
   "metadata": {
    "deletable": false,
    "editable": false,
    "id": "cd84967c"
   },
   "source": [
    "**Задание 4. Выведите количество пропущенных значений для каждого столбца. Используйте комбинацию двух методов.**"
   ]
  },
  {
   "cell_type": "code",
   "execution_count": 5,
   "id": "24959b3a",
   "metadata": {
    "deletable": false,
    "id": "7f9b2309",
    "outputId": "81f4d817-781c-465c-ed15-91ce4446810d"
   },
   "outputs": [
    {
     "data": {
      "text/plain": [
       "children               0\n",
       "days_employed       2174\n",
       "dob_years              0\n",
       "education              0\n",
       "education_id           0\n",
       "family_status          0\n",
       "family_status_id       0\n",
       "gender                 0\n",
       "income_type            0\n",
       "debt                   0\n",
       "total_income        2174\n",
       "purpose                0\n",
       "dtype: int64"
      ]
     },
     "execution_count": 5,
     "metadata": {},
     "output_type": "execute_result"
    }
   ],
   "source": [
    "data.isna().sum()"
   ]
  },
  {
   "cell_type": "markdown",
   "id": "57ecc7b7",
   "metadata": {
    "deletable": false,
    "editable": false,
    "id": "db86e27b"
   },
   "source": [
    "**Задание 5. В двух столбцах есть пропущенные значения. Один из них — `days_employed`. Пропуски в этом столбце вы обработаете на следующем этапе. Другой столбец с пропущенными значениями — `total_income` — хранит данные о доходах. На сумму дохода сильнее всего влияет тип занятости, поэтому заполнить пропуски в этом столбце нужно медианным значением по каждому типу из столбца `income_type`. Например, у человека с типом занятости `сотрудник` пропуск в столбце `total_income` должен быть заполнен медианным доходом среди всех записей с тем же типом.**"
   ]
  },
  {
   "cell_type": "code",
   "execution_count": 6,
   "id": "53b565e6",
   "metadata": {
    "deletable": false,
    "id": "42006a93"
   },
   "outputs": [],
   "source": [
    "for t in data['income_type'].unique():\n",
    "    data.loc[(data['income_type'] == t) & (data['total_income'].isna()), 'total_income'] = \\\n",
    "    data.loc[(data['income_type'] == t), 'total_income'].median()"
   ]
  },
  {
   "cell_type": "markdown",
   "id": "a2ee1780",
   "metadata": {
    "deletable": false,
    "editable": false,
    "id": "89da5ece"
   },
   "source": [
    "### Обработка аномальных значений"
   ]
  },
  {
   "cell_type": "markdown",
   "id": "03979201",
   "metadata": {
    "deletable": false,
    "editable": false,
    "id": "57964554"
   },
   "source": [
    "**Задание 6. В данных могут встречаться артефакты (аномалии) — значения, которые не отражают действительность и появились по какой-то ошибке. таким артефактом будет отрицательное количество дней трудового стажа в столбце `days_employed`. Для реальных данных это нормально. Обработайте значения в этом столбце: замените все отрицательные значения положительными с помощью метода `abs()`.**"
   ]
  },
  {
   "cell_type": "code",
   "execution_count": 7,
   "id": "74de0b68",
   "metadata": {
    "deletable": false,
    "id": "f6f055bf"
   },
   "outputs": [],
   "source": [
    "data['days_employed'] = data['days_employed'].abs()"
   ]
  },
  {
   "cell_type": "markdown",
   "id": "072c1040",
   "metadata": {
    "deletable": false,
    "editable": false,
    "id": "6107dd2f"
   },
   "source": [
    "**Задание 7. Для каждого типа занятости выведите медианное значение трудового стажа `days_employed` в днях.**"
   ]
  },
  {
   "cell_type": "code",
   "execution_count": 8,
   "id": "2f362d72",
   "metadata": {
    "deletable": false,
    "id": "85a5faf6",
    "outputId": "801ef80e-522b-4668-f34e-565af7432bcf"
   },
   "outputs": [
    {
     "data": {
      "text/plain": [
       "income_type\n",
       "безработный        366413.652744\n",
       "в декрете            3296.759962\n",
       "госслужащий          2689.368353\n",
       "компаньон            1547.382223\n",
       "пенсионер          365213.306266\n",
       "предприниматель       520.848083\n",
       "сотрудник            1574.202821\n",
       "студент               578.751554\n",
       "Name: days_employed, dtype: float64"
      ]
     },
     "execution_count": 8,
     "metadata": {},
     "output_type": "execute_result"
    }
   ],
   "source": [
    "data.groupby('income_type')['days_employed'].agg('median')"
   ]
  },
  {
   "cell_type": "markdown",
   "id": "db7fd73c",
   "metadata": {
    "deletable": false,
    "editable": false,
    "id": "38d1a030"
   },
   "source": [
    "У двух типов (безработные и пенсионеры) получатся аномально большие значения. Исправить такие значения сложно, поэтому оставьте их как есть. Тем более этот столбец не понадобится вам для исследования."
   ]
  },
  {
   "cell_type": "markdown",
   "id": "cc610e19",
   "metadata": {
    "deletable": false,
    "editable": false,
    "id": "d8a9f147"
   },
   "source": [
    "**Задание 8. Выведите перечень уникальных значений столбца `children`.**"
   ]
  },
  {
   "cell_type": "code",
   "execution_count": 9,
   "id": "78a938dd",
   "metadata": {
    "deletable": false,
    "id": "ef5056eb",
    "outputId": "6975b15c-7f95-4697-d16d-a0c79b657b03"
   },
   "outputs": [
    {
     "data": {
      "text/plain": [
       "array([ 1,  0,  3,  2, -1,  4, 20,  5], dtype=int64)"
      ]
     },
     "execution_count": 9,
     "metadata": {},
     "output_type": "execute_result"
    }
   ],
   "source": [
    "data['children'].unique()"
   ]
  },
  {
   "cell_type": "markdown",
   "id": "570dfde8",
   "metadata": {
    "deletable": false,
    "editable": false,
    "id": "40b9ebf2"
   },
   "source": [
    "**Задание 9. В столбце `children` есть два аномальных значения. Удалите строки, в которых встречаются такие аномальные значения из датафрейма `data`.**"
   ]
  },
  {
   "cell_type": "code",
   "execution_count": 10,
   "id": "6d082325",
   "metadata": {
    "deletable": false,
    "id": "3ff9801d"
   },
   "outputs": [],
   "source": [
    "data = data[(data['children'] != -1) & (data['children'] != 20)]"
   ]
  },
  {
   "cell_type": "markdown",
   "id": "8e880a93",
   "metadata": {
    "deletable": false,
    "editable": false,
    "id": "bbc4d0ce"
   },
   "source": [
    "**Задание 10. Ещё раз выведите перечень уникальных значений столбца `children`, чтобы убедиться, что артефакты удалены.**"
   ]
  },
  {
   "cell_type": "code",
   "execution_count": 11,
   "id": "19470a8d",
   "metadata": {
    "deletable": false,
    "id": "ad4fa8b7",
    "outputId": "b2097101-d49d-44d9-901b-32a65c9463d1"
   },
   "outputs": [
    {
     "data": {
      "text/plain": [
       "array([1, 0, 3, 2, 4, 5], dtype=int64)"
      ]
     },
     "execution_count": 11,
     "metadata": {},
     "output_type": "execute_result"
    }
   ],
   "source": [
    "data['children'].unique()"
   ]
  },
  {
   "cell_type": "markdown",
   "id": "510c3163",
   "metadata": {
    "deletable": false,
    "editable": false,
    "id": "75440b63"
   },
   "source": [
    "### Удаление пропусков (продолжение)"
   ]
  },
  {
   "cell_type": "markdown",
   "id": "3bf8130a",
   "metadata": {
    "deletable": false,
    "editable": false,
    "id": "f4ea573f"
   },
   "source": [
    "**Задание 11. Заполните пропуски в столбце `days_employed` медианными значениями по каждого типа занятости `income_type`.**"
   ]
  },
  {
   "cell_type": "code",
   "execution_count": 12,
   "id": "b332951a",
   "metadata": {
    "deletable": false,
    "id": "af6b1a7e"
   },
   "outputs": [],
   "source": [
    "for t in data['income_type'].unique():\n",
    "    data.loc[(data['income_type'] == t) & (data['days_employed'].isna()), 'days_employed'] = \\\n",
    "    data.loc[(data['income_type'] == t), 'days_employed'].median()"
   ]
  },
  {
   "cell_type": "markdown",
   "id": "032a91c0",
   "metadata": {
    "deletable": false,
    "editable": false,
    "id": "2753f40d"
   },
   "source": [
    "**Задание 12. Убедитесь, что все пропуски заполнены. Проверьте себя и ещё раз выведите количество пропущенных значений для каждого столбца с помощью двух методов.**"
   ]
  },
  {
   "cell_type": "code",
   "execution_count": 13,
   "id": "83a16f6a",
   "metadata": {
    "deletable": false,
    "id": "55f78bc2",
    "outputId": "8da1e4e1-358e-4e87-98c9-f261bce0a7b2"
   },
   "outputs": [
    {
     "data": {
      "text/plain": [
       "children            0\n",
       "days_employed       0\n",
       "dob_years           0\n",
       "education           0\n",
       "education_id        0\n",
       "family_status       0\n",
       "family_status_id    0\n",
       "gender              0\n",
       "income_type         0\n",
       "debt                0\n",
       "total_income        0\n",
       "purpose             0\n",
       "dtype: int64"
      ]
     },
     "execution_count": 13,
     "metadata": {},
     "output_type": "execute_result"
    }
   ],
   "source": [
    "data.isna().sum()"
   ]
  },
  {
   "cell_type": "markdown",
   "id": "5d2942ad",
   "metadata": {
    "deletable": false,
    "editable": false,
    "id": "ddc81e43"
   },
   "source": [
    "### Изменение типов данных"
   ]
  },
  {
   "cell_type": "markdown",
   "id": "da348f68",
   "metadata": {
    "deletable": false,
    "editable": false,
    "id": "42d19d24"
   },
   "source": [
    "**Задание 13. Замените вещественный тип данных в столбце `total_income` на целочисленный с помощью метода `astype()`.**"
   ]
  },
  {
   "cell_type": "code",
   "execution_count": 14,
   "id": "6aab68fa",
   "metadata": {
    "deletable": false,
    "id": "920b65ad"
   },
   "outputs": [],
   "source": [
    "data['total_income'] = data['total_income'].astype(int)"
   ]
  },
  {
   "cell_type": "markdown",
   "id": "9ac02cdb",
   "metadata": {
    "deletable": false,
    "editable": false,
    "id": "80c420ba"
   },
   "source": [
    "### Обработка дубликатов"
   ]
  },
  {
   "cell_type": "markdown",
   "id": "a151a09d",
   "metadata": {
    "deletable": false,
    "editable": false
   },
   "source": [
    "**Задание 14. Обработайте неявные дубликаты в столбце `education`. В этом столбце есть одни и те же значения, но записанные по-разному: с использованием заглавных и строчных букв. Приведите их к нижнему регистру. Проверьте остальные столбцы.**"
   ]
  },
  {
   "cell_type": "code",
   "execution_count": 15,
   "id": "0eb4df06",
   "metadata": {
    "deletable": false
   },
   "outputs": [],
   "source": [
    "data['education'] = data['education'].str.lower()"
   ]
  },
  {
   "cell_type": "markdown",
   "id": "c3f9ceaf",
   "metadata": {
    "deletable": false,
    "editable": false,
    "id": "dc587695"
   },
   "source": [
    "**Задание 15. Выведите на экран количество строк-дубликатов в данных. Если такие строки присутствуют, удалите их.**"
   ]
  },
  {
   "cell_type": "code",
   "execution_count": 16,
   "id": "ed9322b3",
   "metadata": {
    "deletable": false,
    "id": "3ee445e4",
    "outputId": "9684deba-1934-42d1-99e1-cda61740f822"
   },
   "outputs": [
    {
     "data": {
      "text/plain": [
       "71"
      ]
     },
     "execution_count": 16,
     "metadata": {},
     "output_type": "execute_result"
    }
   ],
   "source": [
    "data.duplicated().sum()"
   ]
  },
  {
   "cell_type": "code",
   "execution_count": 17,
   "id": "79587b42",
   "metadata": {
    "deletable": false,
    "id": "8575fe05"
   },
   "outputs": [],
   "source": [
    "data = data.drop_duplicates()"
   ]
  },
  {
   "cell_type": "markdown",
   "id": "a20203b7",
   "metadata": {
    "deletable": false,
    "editable": false,
    "id": "9904cf55"
   },
   "source": [
    "### Категоризация данных"
   ]
  },
  {
   "cell_type": "markdown",
   "id": "e13a8338",
   "metadata": {
    "deletable": false,
    "editable": false,
    "id": "72fcc8a2"
   },
   "source": [
    "**Задание 16. На основании диапазонов, указанных ниже, создайте в датафрейме `data` столбец `total_income_category` с категориями:**\n",
    "\n",
    "- 0–30000 — `'E'`;\n",
    "- 30001–50000 — `'D'`;\n",
    "- 50001–200000 — `'C'`;\n",
    "- 200001–1000000 — `'B'`;\n",
    "- 1000001 и выше — `'A'`.\n",
    "\n",
    "\n",
    "**Например, кредитополучателю с доходом 25000 нужно назначить категорию `'E'`, а клиенту, получающему 235000, — `'B'`. Используйте собственную функцию с именем `categorize_income()` и метод `apply()`.**"
   ]
  },
  {
   "cell_type": "code",
   "execution_count": 18,
   "id": "8f8d4331",
   "metadata": {
    "deletable": false,
    "id": "e1771346"
   },
   "outputs": [],
   "source": [
    "def categorize_income(income):\n",
    "    try:\n",
    "        if 0 <= income <= 30000:\n",
    "            return 'E'\n",
    "        elif 30001 <= income <= 50000:\n",
    "            return 'D'\n",
    "        elif 50001 <= income <= 200000:\n",
    "            return 'C'\n",
    "        elif 200001 <= income <= 1000000:\n",
    "            return 'B'\n",
    "        elif income >= 1000001:\n",
    "            return 'A'\n",
    "    except:\n",
    "        pass"
   ]
  },
  {
   "cell_type": "code",
   "execution_count": 19,
   "id": "92032d94",
   "metadata": {
    "deletable": false,
    "id": "d5f3586d"
   },
   "outputs": [],
   "source": [
    "data['total_income_category'] = data['total_income'].apply(categorize_income)"
   ]
  },
  {
   "cell_type": "markdown",
   "id": "71d3373c",
   "metadata": {
    "deletable": false,
    "editable": false,
    "id": "dde49b5c"
   },
   "source": [
    "**Задание 17. Выведите на экран перечень уникальных целей взятия кредита из столбца `purpose`.**"
   ]
  },
  {
   "cell_type": "code",
   "execution_count": 20,
   "id": "073fd59f",
   "metadata": {
    "deletable": false,
    "id": "f67ce9b3",
    "outputId": "673c12d9-7d7e-4ae0-9812-c622c89dd244"
   },
   "outputs": [
    {
     "data": {
      "text/plain": [
       "array(['покупка жилья', 'приобретение автомобиля',\n",
       "       'дополнительное образование', 'сыграть свадьбу',\n",
       "       'операции с жильем', 'образование', 'на проведение свадьбы',\n",
       "       'покупка жилья для семьи', 'покупка недвижимости',\n",
       "       'покупка коммерческой недвижимости', 'покупка жилой недвижимости',\n",
       "       'строительство собственной недвижимости', 'недвижимость',\n",
       "       'строительство недвижимости', 'на покупку подержанного автомобиля',\n",
       "       'на покупку своего автомобиля',\n",
       "       'операции с коммерческой недвижимостью',\n",
       "       'строительство жилой недвижимости', 'жилье',\n",
       "       'операции со своей недвижимостью', 'автомобили',\n",
       "       'заняться образованием', 'сделка с подержанным автомобилем',\n",
       "       'получение образования', 'автомобиль', 'свадьба',\n",
       "       'получение дополнительного образования', 'покупка своего жилья',\n",
       "       'операции с недвижимостью', 'получение высшего образования',\n",
       "       'свой автомобиль', 'сделка с автомобилем',\n",
       "       'профильное образование', 'высшее образование',\n",
       "       'покупка жилья для сдачи', 'на покупку автомобиля', 'ремонт жилью',\n",
       "       'заняться высшим образованием'], dtype=object)"
      ]
     },
     "execution_count": 20,
     "metadata": {},
     "output_type": "execute_result"
    }
   ],
   "source": [
    "data['purpose'].unique()"
   ]
  },
  {
   "cell_type": "markdown",
   "id": "befc6ff8",
   "metadata": {
    "deletable": false,
    "editable": false,
    "id": "85d0aef0"
   },
   "source": [
    "**Задание 18. Создайте функцию, которая на основании данных из столбца `purpose` сформирует новый столбец `purpose_category`, в который войдут следующие категории:**\n",
    "\n",
    "- `'операции с автомобилем'`,\n",
    "- `'операции с недвижимостью'`,\n",
    "- `'проведение свадьбы'`,\n",
    "- `'получение образования'`.\n",
    "\n",
    "**Например, если в столбце `purpose` находится подстрока `'на покупку автомобиля'`, то в столбце `purpose_category` должна появиться строка `'операции с автомобилем'`.**\n",
    "\n",
    "**Используйте собственную функцию с именем `categorize_purpose()` и метод `apply()`. Изучите данные в столбце `purpose` и определите, какие подстроки помогут вам правильно определить категорию.**"
   ]
  },
  {
   "cell_type": "code",
   "execution_count": 21,
   "id": "cc8ebcff",
   "metadata": {
    "deletable": false,
    "id": "e149fab4"
   },
   "outputs": [],
   "source": [
    "def categorize_purpose(row):\n",
    "    try:\n",
    "        if 'автом' in row:\n",
    "            return 'операции с автомобилем'\n",
    "        elif 'жил' in row or 'недвиж' in row:\n",
    "            return 'операции с недвижимостью'\n",
    "        elif 'свад' in row:\n",
    "            return 'проведение свадьбы'\n",
    "        elif 'образов' in row:\n",
    "            return 'получение образования'\n",
    "    except:\n",
    "        return 'нет категории'"
   ]
  },
  {
   "cell_type": "code",
   "execution_count": 22,
   "id": "a88e872b",
   "metadata": {
    "deletable": false,
    "id": "bf36e69b"
   },
   "outputs": [],
   "source": [
    "data['purpose_category'] = data['purpose'].apply(categorize_purpose)"
   ]
  },
  {
   "cell_type": "markdown",
   "id": "796208da",
   "metadata": {},
   "source": [
    "**Краткий вывод:** Были обработаны пропуски в столбцах \"days_employed\" и \"total_income\", аномальные значения в стлбце \"сhildren\", обработаны дубликаты в столбце \"education\". Обработаны столбцы total_income и purpose, и выполнена их категоризация."
   ]
  },
  {
   "cell_type": "markdown",
   "id": "40948a4a",
   "metadata": {
    "deletable": false,
    "editable": false,
    "id": "09b242bf"
   },
   "source": [
    "### Шаг 3. Исследуйте данные и ответьте на вопросы"
   ]
  },
  {
   "cell_type": "markdown",
   "id": "2571d0cb",
   "metadata": {
    "editable": false,
    "id": "09b242bf"
   },
   "source": [
    "### Шаг 3. Исследуйте данные и ответьте на вопросы"
   ]
  },
  {
   "cell_type": "markdown",
   "id": "8cc65af0",
   "metadata": {
    "deletable": false,
    "editable": false,
    "id": "c5d66278"
   },
   "source": [
    "#### 3.1 Есть ли зависимость между количеством детей и возвратом кредита в срок?"
   ]
  },
  {
   "cell_type": "code",
   "execution_count": 23,
   "id": "78be8565",
   "metadata": {
    "deletable": false,
    "id": "2cacfc4a"
   },
   "outputs": [
    {
     "name": "stdout",
     "output_type": "stream",
     "text": [
      "Процент должников по количеству детей:\n",
      "          count      mean\n",
      "children                 \n",
      "4            41  0.097561\n",
      "2          2052  0.094542\n",
      "1          4808  0.092346\n",
      "3           330  0.081818\n",
      "0         14091  0.075438\n",
      "5             9  0.000000\n"
     ]
    }
   ],
   "source": [
    "children_debt = data.groupby('children')['debt'].agg(['count', 'mean']).sort_values(by = 'mean', ascending = False)\n",
    "\n",
    "print ('Процент должников по количеству детей:')\n",
    "print (children_debt)\n"
   ]
  },
  {
   "cell_type": "markdown",
   "id": "deb08e40",
   "metadata": {
    "deletable": false,
    "id": "3a6b99ec"
   },
   "source": [
    "**Вывод:** Из таблицы видно, что среди кредитополучателей без детей, должников намного меньше. С уверенностью можно сказать, что  семьи с 1 и 2 детьми задерживают оплату чаще. Многодетные семьи так же задерживают оплату, но одназначного ответа по этим категориям дать нельзя, по причине малой выборки. "
   ]
  },
  {
   "cell_type": "code",
   "execution_count": 24,
   "id": "2b87e185",
   "metadata": {},
   "outputs": [
    {
     "data": {
      "text/html": [
       "<div>\n",
       "<style scoped>\n",
       "    .dataframe tbody tr th:only-of-type {\n",
       "        vertical-align: middle;\n",
       "    }\n",
       "\n",
       "    .dataframe tbody tr th {\n",
       "        vertical-align: top;\n",
       "    }\n",
       "\n",
       "    .dataframe thead th {\n",
       "        text-align: right;\n",
       "    }\n",
       "</style>\n",
       "<table border=\"1\" class=\"dataframe\">\n",
       "  <thead>\n",
       "    <tr style=\"text-align: right;\">\n",
       "      <th></th>\n",
       "      <th>count</th>\n",
       "      <th>mean</th>\n",
       "    </tr>\n",
       "    <tr>\n",
       "      <th>children</th>\n",
       "      <th></th>\n",
       "      <th></th>\n",
       "    </tr>\n",
       "  </thead>\n",
       "  <tbody>\n",
       "    <tr>\n",
       "      <th>4</th>\n",
       "      <td>41</td>\n",
       "      <td>0.097561</td>\n",
       "    </tr>\n",
       "    <tr>\n",
       "      <th>2</th>\n",
       "      <td>2052</td>\n",
       "      <td>0.094542</td>\n",
       "    </tr>\n",
       "    <tr>\n",
       "      <th>1</th>\n",
       "      <td>4808</td>\n",
       "      <td>0.092346</td>\n",
       "    </tr>\n",
       "    <tr>\n",
       "      <th>3</th>\n",
       "      <td>330</td>\n",
       "      <td>0.081818</td>\n",
       "    </tr>\n",
       "    <tr>\n",
       "      <th>0</th>\n",
       "      <td>14091</td>\n",
       "      <td>0.075438</td>\n",
       "    </tr>\n",
       "    <tr>\n",
       "      <th>5</th>\n",
       "      <td>9</td>\n",
       "      <td>0.000000</td>\n",
       "    </tr>\n",
       "  </tbody>\n",
       "</table>\n",
       "</div>"
      ],
      "text/plain": [
       "          count      mean\n",
       "children                 \n",
       "4            41  0.097561\n",
       "2          2052  0.094542\n",
       "1          4808  0.092346\n",
       "3           330  0.081818\n",
       "0         14091  0.075438\n",
       "5             9  0.000000"
      ]
     },
     "execution_count": 24,
     "metadata": {},
     "output_type": "execute_result"
    }
   ],
   "source": [
    "children_debt"
   ]
  },
  {
   "cell_type": "code",
   "execution_count": 25,
   "id": "5389d4e8",
   "metadata": {},
   "outputs": [
    {
     "data": {
      "text/html": [
       "<style type=\"text/css\">\n",
       "#T_40a78_row0_col1 {\n",
       "  background-color: #034d79;\n",
       "  color: #f1f1f1;\n",
       "}\n",
       "#T_40a78_row1_col1 {\n",
       "  background-color: #04649d;\n",
       "  color: #f1f1f1;\n",
       "}\n",
       "#T_40a78_row2_col1 {\n",
       "  background-color: #0771b1;\n",
       "  color: #f1f1f1;\n",
       "}\n",
       "#T_40a78_row3_col1 {\n",
       "  background-color: #9fbad9;\n",
       "  color: #000000;\n",
       "}\n",
       "#T_40a78_row4_col1 {\n",
       "  background-color: #e0dded;\n",
       "  color: #000000;\n",
       "}\n",
       "#T_40a78_row5_col1 {\n",
       "  background-color: #fff7fb;\n",
       "  color: #000000;\n",
       "}\n",
       "</style>\n",
       "<table id=\"T_40a78\">\n",
       "  <thead>\n",
       "    <tr>\n",
       "      <th class=\"blank level0\" >&nbsp;</th>\n",
       "      <th id=\"T_40a78_level0_col0\" class=\"col_heading level0 col0\" >count</th>\n",
       "      <th id=\"T_40a78_level0_col1\" class=\"col_heading level0 col1\" >mean</th>\n",
       "    </tr>\n",
       "    <tr>\n",
       "      <th class=\"index_name level0\" >children</th>\n",
       "      <th class=\"blank col0\" >&nbsp;</th>\n",
       "      <th class=\"blank col1\" >&nbsp;</th>\n",
       "    </tr>\n",
       "  </thead>\n",
       "  <tbody>\n",
       "    <tr>\n",
       "      <th id=\"T_40a78_level0_row0\" class=\"row_heading level0 row0\" >4</th>\n",
       "      <td id=\"T_40a78_row0_col0\" class=\"data row0 col0\" >41</td>\n",
       "      <td id=\"T_40a78_row0_col1\" class=\"data row0 col1\" >0.097561</td>\n",
       "    </tr>\n",
       "    <tr>\n",
       "      <th id=\"T_40a78_level0_row1\" class=\"row_heading level0 row1\" >2</th>\n",
       "      <td id=\"T_40a78_row1_col0\" class=\"data row1 col0\" >2052</td>\n",
       "      <td id=\"T_40a78_row1_col1\" class=\"data row1 col1\" >0.094542</td>\n",
       "    </tr>\n",
       "    <tr>\n",
       "      <th id=\"T_40a78_level0_row2\" class=\"row_heading level0 row2\" >1</th>\n",
       "      <td id=\"T_40a78_row2_col0\" class=\"data row2 col0\" >4808</td>\n",
       "      <td id=\"T_40a78_row2_col1\" class=\"data row2 col1\" >0.092346</td>\n",
       "    </tr>\n",
       "    <tr>\n",
       "      <th id=\"T_40a78_level0_row3\" class=\"row_heading level0 row3\" >3</th>\n",
       "      <td id=\"T_40a78_row3_col0\" class=\"data row3 col0\" >330</td>\n",
       "      <td id=\"T_40a78_row3_col1\" class=\"data row3 col1\" >0.081818</td>\n",
       "    </tr>\n",
       "    <tr>\n",
       "      <th id=\"T_40a78_level0_row4\" class=\"row_heading level0 row4\" >0</th>\n",
       "      <td id=\"T_40a78_row4_col0\" class=\"data row4 col0\" >14091</td>\n",
       "      <td id=\"T_40a78_row4_col1\" class=\"data row4 col1\" >0.075438</td>\n",
       "    </tr>\n",
       "    <tr>\n",
       "      <th id=\"T_40a78_level0_row5\" class=\"row_heading level0 row5\" >5</th>\n",
       "      <td id=\"T_40a78_row5_col0\" class=\"data row5 col0\" >9</td>\n",
       "      <td id=\"T_40a78_row5_col1\" class=\"data row5 col1\" >0.000000</td>\n",
       "    </tr>\n",
       "  </tbody>\n",
       "</table>\n"
      ],
      "text/plain": [
       "<pandas.io.formats.style.Styler at 0x1857994bee0>"
      ]
     },
     "execution_count": 25,
     "metadata": {},
     "output_type": "execute_result"
    }
   ],
   "source": [
    "children_debt.style.background_gradient(subset = 'mean', vmin=0.07, vmax=0.1)"
   ]
  },
  {
   "cell_type": "markdown",
   "id": "bebd56a2",
   "metadata": {
    "deletable": false,
    "editable": false,
    "id": "97be82ca"
   },
   "source": [
    "#### 3.2 Есть ли зависимость между семейным положением и возвратом кредита в срок?"
   ]
  },
  {
   "cell_type": "code",
   "execution_count": 26,
   "id": "f64617f4",
   "metadata": {
    "deletable": false,
    "id": "dc3f7ee8"
   },
   "outputs": [
    {
     "name": "stdout",
     "output_type": "stream",
     "text": [
      "Процент должников в зависимости от семейного статуса:\n",
      "                       count      mean\n",
      "                        debt      debt\n",
      "family_status                         \n",
      "Не женат / не замужем   2796  0.097639\n",
      "гражданский брак        4134  0.093130\n",
      "женат / замужем        12261  0.075606\n",
      "в разводе               1189  0.070648\n",
      "вдовец / вдова           951  0.066246\n"
     ]
    }
   ],
   "source": [
    "fstatus_debt = data.pivot_table(index = 'family_status', values = 'debt', aggfunc = ['count', 'mean'])\\\n",
    "    .sort_values(by = ('mean', 'debt'), ascending = False)\n",
    "print ('Процент должников в зависимости от семейного статуса:')\n",
    "print (fstatus_debt)"
   ]
  },
  {
   "cell_type": "markdown",
   "id": "83dcf941",
   "metadata": {
    "deletable": false,
    "id": "1cef7837"
   },
   "source": [
    "**Вывод:** Среди тех кто состоит или состояли в браке, процент должников значительно меньше."
   ]
  },
  {
   "cell_type": "markdown",
   "id": "77c25660",
   "metadata": {
    "deletable": false,
    "editable": false,
    "id": "1e8b2fca"
   },
   "source": [
    "#### 3.3 Есть ли зависимость между уровнем дохода и возвратом кредита в срок?"
   ]
  },
  {
   "cell_type": "code",
   "execution_count": 27,
   "id": "49979542",
   "metadata": {
    "deletable": false,
    "id": "cd7e3720"
   },
   "outputs": [
    {
     "name": "stdout",
     "output_type": "stream",
     "text": [
      "Процент должников в зависимости от уровня дохода:\n",
      "  total_income_cat_diap total_income_category  (count, debt)  (mean, debt)\n",
      "0               0–30000                     E             22      0.090909\n",
      "2          50001–200000                     C          15921      0.084982\n",
      "4        1000001 и выше                     A             25      0.080000\n",
      "3        200001–1000000                     B           5014      0.070602\n",
      "1           30001–50000                     D            349      0.060172\n"
     ]
    },
    {
     "name": "stderr",
     "output_type": "stream",
     "text": [
      "C:\\Temp\\ipykernel_9064\\4288466819.py:7: FutureWarning: merging between different levels is deprecated and will be removed in a future version. (1 levels on the left, 2 on the right)\n",
      "  income_debt_result = df_diap.merge(income_debt, on='total_income_category', how='left')\\\n"
     ]
    }
   ],
   "source": [
    "diap = {'total_income_cat_diap' : ['0–30000', '30001–50000', '50001–200000','200001–1000000', '1000001 и выше'],\\\n",
    "        'total_income_category' : ['E','D','C','B','A']}\n",
    "df_diap = pd.DataFrame(diap)\n",
    "\n",
    "income_debt = data.pivot_table(index = 'total_income_category', values = 'debt', aggfunc = ['count', 'mean'])\n",
    "\n",
    "income_debt_result = df_diap.merge(income_debt, on='total_income_category', how='left')\\\n",
    "    .sort_values(by = ('mean', 'debt'), ascending = False)\n",
    "print ('Процент должников в зависимости от уровня дохода:')\n",
    "print (income_debt_result)\n",
    "\n"
   ]
  },
  {
   "cell_type": "markdown",
   "id": "5e76065f",
   "metadata": {
    "deletable": false,
    "id": "e8593def"
   },
   "source": [
    "**Вывод:** С уверенностью можно сделать вывод лишь по двум категориям, (C и B), с увеличением дохода процент должников по этим категориям падает. Для полноценного анализа завсимости, необходимо иметь большую выборку по всем категориям."
   ]
  },
  {
   "cell_type": "markdown",
   "id": "039f1ed2",
   "metadata": {
    "deletable": false,
    "editable": false,
    "id": "99ecbd1f"
   },
   "source": [
    "#### 3.4 Как разные цели кредита влияют на его возврат в срок?"
   ]
  },
  {
   "cell_type": "code",
   "execution_count": 28,
   "id": "e1613865",
   "metadata": {
    "deletable": false,
    "id": "2b687290"
   },
   "outputs": [
    {
     "name": "stdout",
     "output_type": "stream",
     "text": [
      "Процент должников в зависимости от цели взятия кредита:\n",
      "                          count      mean\n",
      "purpose_category                         \n",
      "операции с автомобилем     4279  0.093480\n",
      "получение образования      3988  0.092528\n",
      "проведение свадьбы         2313  0.079118\n",
      "операции с недвижимостью  10751  0.072551\n"
     ]
    }
   ],
   "source": [
    "purpose_debt = data.groupby('purpose_category')['debt'].agg(['count', 'mean']).sort_values(by = 'mean', ascending = False)\n",
    "\n",
    "print ('Процент должников в зависимости от цели взятия кредита:')\n",
    "print (purpose_debt)"
   ]
  },
  {
   "cell_type": "markdown",
   "id": "ada51186",
   "metadata": {
    "deletable": false,
    "id": "b4bb2ce6"
   },
   "source": [
    "**Вывод**: Должников среди тех, кто берет кредит на покупку недвижимости или проведение свадьбы, значительно меньше, чем в других случаях."
   ]
  },
  {
   "cell_type": "markdown",
   "id": "46cdfe81",
   "metadata": {
    "deletable": false,
    "editable": false,
    "id": "09c3ac4c"
   },
   "source": [
    "#### 3.5 Приведите возможные причины появления пропусков в исходных данных."
   ]
  },
  {
   "cell_type": "markdown",
   "id": "93d3ed53",
   "metadata": {
    "deletable": false,
    "id": "9da2ceda"
   },
   "source": [
    "*Ответ:* Причины: 1. Человеческий фактор.(Забыли заполнить поле, заполнили не верно, итд.) 2. Техническая ошибка (ошибка при выгрузке, неправильный алгоритм выгрузки)"
   ]
  },
  {
   "cell_type": "markdown",
   "id": "6644dddf",
   "metadata": {
    "deletable": false,
    "editable": false,
    "id": "7b0487d6"
   },
   "source": [
    "#### 3.6 Объясните, почему заполнить пропуски медианным значением — лучшее решение для количественных переменных."
   ]
  },
  {
   "cell_type": "markdown",
   "id": "bf5e28e6",
   "metadata": {
    "deletable": false,
    "id": "7ecf2b8e"
   },
   "source": [
    "*Ответ:* Среднее значение может сильно искажать статистику в большую или меньшую сторону, при наличии очень больших\\маленьких значений. Медиана лишена этого недостатка т.к. используется серединное значение всего диапазона."
   ]
  },
  {
   "cell_type": "markdown",
   "id": "9a888221",
   "metadata": {
    "deletable": false,
    "editable": false,
    "id": "6db5255a"
   },
   "source": [
    "### Шаг 4: общий вывод."
   ]
  },
  {
   "cell_type": "markdown",
   "id": "56f69b14",
   "metadata": {
    "deletable": false,
    "id": "bad65432"
   },
   "source": [
    "    В ходе проведенной работы, предоставленная банком информация, база данных должников кредитного отдела была соответствующим образом обработана (обработаны пропуски, дубликаты, данные приведены в надлежащий вид, произведена категоризация).  \n",
    "        Банком была поставлена задача: определить влияет ли семейное положение и количество детей клиента на факт погашения кредита в срок.\n",
    "    - Семейное положение влияет на погашения кредита в срок. Среди людей не состоявших в браке (неженатые\\незамужние\\гражданский брак ) в среднем должников на 2% больше, чем люди состоявшие в браке.\n",
    "    \n",
    "    - Количество детей так же влияет на погашения кредита в срок, семьи без детей реже становяться должникам, чем семьи с детьми. Среди кредитополучателей без детей, должников намного меньше (примерно на 2%). С уверенностью можно сказать, что семьи с 1 и 2 детьми задерживают оплату чаще. Многодетные семьи(3+) так же задерживают оплату, но одназначного ответа по этим категориям дать нельзя, по причине малой выборки.\n",
    "\n"
   ]
  }
 ],
 "metadata": {
  "ExecuteTimeLog": [
   {
    "duration": 43,
    "start_time": "2022-08-16T07:36:51.241Z"
   },
   {
    "duration": 551,
    "start_time": "2022-08-16T07:37:05.951Z"
   },
   {
    "duration": 28,
    "start_time": "2022-08-16T07:37:06.503Z"
   },
   {
    "duration": 19,
    "start_time": "2022-08-16T07:37:06.533Z"
   },
   {
    "duration": 12,
    "start_time": "2022-08-16T07:37:06.554Z"
   },
   {
    "duration": 38,
    "start_time": "2022-08-16T07:37:06.568Z"
   },
   {
    "duration": 4,
    "start_time": "2022-08-16T07:37:06.607Z"
   },
   {
    "duration": 10,
    "start_time": "2022-08-16T07:37:06.613Z"
   },
   {
    "duration": 32,
    "start_time": "2022-08-16T07:37:06.625Z"
   },
   {
    "duration": 8,
    "start_time": "2022-08-16T07:37:06.658Z"
   },
   {
    "duration": 14,
    "start_time": "2022-08-16T07:37:06.679Z"
   },
   {
    "duration": 40,
    "start_time": "2022-08-16T07:37:06.695Z"
   },
   {
    "duration": 10,
    "start_time": "2022-08-16T07:37:06.737Z"
   },
   {
    "duration": 6,
    "start_time": "2022-08-16T07:37:06.749Z"
   },
   {
    "duration": 37,
    "start_time": "2022-08-16T07:37:06.757Z"
   },
   {
    "duration": 34,
    "start_time": "2022-08-16T07:37:06.796Z"
   },
   {
    "duration": 17,
    "start_time": "2022-08-16T07:37:06.832Z"
   },
   {
    "duration": 4,
    "start_time": "2022-08-16T07:37:06.851Z"
   },
   {
    "duration": 17,
    "start_time": "2022-08-16T07:37:06.857Z"
   },
   {
    "duration": 6,
    "start_time": "2022-08-16T07:37:06.875Z"
   },
   {
    "duration": 7,
    "start_time": "2022-08-16T07:37:06.882Z"
   },
   {
    "duration": 18,
    "start_time": "2022-08-16T07:37:06.890Z"
   },
   {
    "duration": 9,
    "start_time": "2022-08-16T07:37:06.910Z"
   },
   {
    "duration": 5,
    "start_time": "2022-08-16T07:37:06.921Z"
   },
   {
    "duration": 6,
    "start_time": "2022-08-16T07:37:06.928Z"
   },
   {
    "duration": 6,
    "start_time": "2022-08-16T07:37:06.935Z"
   },
   {
    "duration": 4,
    "start_time": "2022-08-16T07:37:29.547Z"
   },
   {
    "duration": 1203,
    "start_time": "2022-08-16T07:46:43.036Z"
   },
   {
    "duration": 83,
    "start_time": "2022-08-16T08:34:53.212Z"
   },
   {
    "duration": 6,
    "start_time": "2022-08-16T08:35:59.043Z"
   },
   {
    "duration": 6,
    "start_time": "2022-08-16T08:36:20.393Z"
   },
   {
    "duration": 6,
    "start_time": "2022-08-16T08:39:05.890Z"
   },
   {
    "duration": 8,
    "start_time": "2022-08-16T08:40:19.162Z"
   },
   {
    "duration": 9,
    "start_time": "2022-08-16T08:40:43.321Z"
   },
   {
    "duration": 12,
    "start_time": "2022-08-16T08:42:19.522Z"
   },
   {
    "duration": 14,
    "start_time": "2022-08-16T08:43:06.523Z"
   },
   {
    "duration": 1443,
    "start_time": "2022-08-16T08:43:56.498Z"
   },
   {
    "duration": 4,
    "start_time": "2022-08-16T08:44:37.770Z"
   },
   {
    "duration": 11,
    "start_time": "2022-08-16T08:46:04.355Z"
   },
   {
    "duration": 7,
    "start_time": "2022-08-16T08:46:15.899Z"
   },
   {
    "duration": 7,
    "start_time": "2022-08-16T09:02:09.986Z"
   },
   {
    "duration": 81,
    "start_time": "2022-08-16T09:03:22.568Z"
   },
   {
    "duration": 5,
    "start_time": "2022-08-16T09:03:30.184Z"
   },
   {
    "duration": 6,
    "start_time": "2022-08-16T09:04:34.431Z"
   },
   {
    "duration": 10,
    "start_time": "2022-08-16T09:11:12.831Z"
   },
   {
    "duration": 12,
    "start_time": "2022-08-16T09:13:28.975Z"
   },
   {
    "duration": 10,
    "start_time": "2022-08-16T09:17:21.672Z"
   },
   {
    "duration": 6,
    "start_time": "2022-08-16T09:17:56.613Z"
   },
   {
    "duration": 6,
    "start_time": "2022-08-16T09:19:05.596Z"
   },
   {
    "duration": 6,
    "start_time": "2022-08-16T09:19:25.073Z"
   },
   {
    "duration": 8,
    "start_time": "2022-08-16T09:20:24.600Z"
   },
   {
    "duration": 5,
    "start_time": "2022-08-16T09:20:43.478Z"
   },
   {
    "duration": 11,
    "start_time": "2022-08-16T09:27:07.076Z"
   },
   {
    "duration": 4,
    "start_time": "2022-08-16T09:31:32.724Z"
   },
   {
    "duration": 9,
    "start_time": "2022-08-16T09:31:52.556Z"
   },
   {
    "duration": 6,
    "start_time": "2022-08-16T09:32:29.308Z"
   },
   {
    "duration": 6,
    "start_time": "2022-08-16T09:32:52.322Z"
   },
   {
    "duration": 9,
    "start_time": "2022-08-16T09:35:08.123Z"
   },
   {
    "duration": 5,
    "start_time": "2022-08-16T09:35:55.370Z"
   },
   {
    "duration": 10,
    "start_time": "2022-08-16T09:39:12.235Z"
   },
   {
    "duration": 5,
    "start_time": "2022-08-16T09:39:20.851Z"
   },
   {
    "duration": 8,
    "start_time": "2022-08-16T09:40:02.242Z"
   },
   {
    "duration": 8,
    "start_time": "2022-08-16T09:40:08.130Z"
   },
   {
    "duration": 8,
    "start_time": "2022-08-16T09:40:32.266Z"
   },
   {
    "duration": 8,
    "start_time": "2022-08-16T09:41:08.500Z"
   },
   {
    "duration": 7,
    "start_time": "2022-08-16T09:51:34.392Z"
   },
   {
    "duration": 6,
    "start_time": "2022-08-16T09:51:56.938Z"
   },
   {
    "duration": 80,
    "start_time": "2022-08-16T09:52:23.712Z"
   },
   {
    "duration": 5,
    "start_time": "2022-08-16T09:52:37.888Z"
   },
   {
    "duration": 4,
    "start_time": "2022-08-16T09:55:51.059Z"
   },
   {
    "duration": 6,
    "start_time": "2022-08-16T09:56:09.112Z"
   },
   {
    "duration": 6,
    "start_time": "2022-08-16T09:56:21.696Z"
   },
   {
    "duration": 11,
    "start_time": "2022-08-16T10:09:26.984Z"
   },
   {
    "duration": 11,
    "start_time": "2022-08-16T10:10:08.974Z"
   },
   {
    "duration": 13,
    "start_time": "2022-08-16T10:16:06.783Z"
   },
   {
    "duration": 12,
    "start_time": "2022-08-16T10:16:11.630Z"
   },
   {
    "duration": 12,
    "start_time": "2022-08-16T10:16:30.324Z"
   },
   {
    "duration": 9,
    "start_time": "2022-08-16T10:17:08.230Z"
   },
   {
    "duration": 9,
    "start_time": "2022-08-16T10:21:42.484Z"
   },
   {
    "duration": 8,
    "start_time": "2022-08-16T10:21:58.021Z"
   },
   {
    "duration": 13,
    "start_time": "2022-08-16T10:22:04.037Z"
   },
   {
    "duration": 16,
    "start_time": "2022-08-16T10:22:08.436Z"
   },
   {
    "duration": 14,
    "start_time": "2022-08-16T10:22:16.052Z"
   },
   {
    "duration": 7,
    "start_time": "2022-08-16T10:23:24.572Z"
   },
   {
    "duration": 16,
    "start_time": "2022-08-16T10:24:36.870Z"
   },
   {
    "duration": 7,
    "start_time": "2022-08-16T10:25:02.229Z"
   },
   {
    "duration": 9,
    "start_time": "2022-08-16T10:26:31.941Z"
   },
   {
    "duration": 6,
    "start_time": "2022-08-16T10:26:54.869Z"
   },
   {
    "duration": 8,
    "start_time": "2022-08-16T10:27:04.261Z"
   },
   {
    "duration": 7,
    "start_time": "2022-08-16T10:30:27.780Z"
   },
   {
    "duration": 8,
    "start_time": "2022-08-16T10:35:40.828Z"
   },
   {
    "duration": 418,
    "start_time": "2022-08-16T17:56:12.569Z"
   },
   {
    "duration": 20,
    "start_time": "2022-08-16T17:56:12.989Z"
   },
   {
    "duration": 16,
    "start_time": "2022-08-16T17:56:13.010Z"
   },
   {
    "duration": 11,
    "start_time": "2022-08-16T17:56:13.028Z"
   },
   {
    "duration": 30,
    "start_time": "2022-08-16T17:56:13.040Z"
   },
   {
    "duration": 3,
    "start_time": "2022-08-16T17:56:13.071Z"
   },
   {
    "duration": 10,
    "start_time": "2022-08-16T17:56:13.075Z"
   },
   {
    "duration": 4,
    "start_time": "2022-08-16T17:56:13.086Z"
   },
   {
    "duration": 9,
    "start_time": "2022-08-16T17:56:13.091Z"
   },
   {
    "duration": 4,
    "start_time": "2022-08-16T17:56:13.101Z"
   },
   {
    "duration": 58,
    "start_time": "2022-08-16T17:56:13.106Z"
   },
   {
    "duration": 8,
    "start_time": "2022-08-16T17:56:13.166Z"
   },
   {
    "duration": 6,
    "start_time": "2022-08-16T17:56:13.176Z"
   },
   {
    "duration": 13,
    "start_time": "2022-08-16T17:56:13.184Z"
   },
   {
    "duration": 17,
    "start_time": "2022-08-16T17:56:13.198Z"
   },
   {
    "duration": 32,
    "start_time": "2022-08-16T17:56:13.216Z"
   },
   {
    "duration": 3,
    "start_time": "2022-08-16T17:56:13.250Z"
   },
   {
    "duration": 13,
    "start_time": "2022-08-16T17:56:13.254Z"
   },
   {
    "duration": 5,
    "start_time": "2022-08-16T17:56:13.268Z"
   },
   {
    "duration": 6,
    "start_time": "2022-08-16T17:56:13.274Z"
   },
   {
    "duration": 11,
    "start_time": "2022-08-16T17:56:13.282Z"
   },
   {
    "duration": 6,
    "start_time": "2022-08-16T17:56:13.295Z"
   },
   {
    "duration": 11,
    "start_time": "2022-08-16T17:56:13.302Z"
   },
   {
    "duration": 28,
    "start_time": "2022-08-16T17:56:13.315Z"
   },
   {
    "duration": 6,
    "start_time": "2022-08-16T17:56:13.345Z"
   },
   {
    "duration": 61,
    "start_time": "2022-08-17T11:15:41.534Z"
   },
   {
    "duration": 687,
    "start_time": "2022-08-17T11:50:41.038Z"
   },
   {
    "duration": 25,
    "start_time": "2022-08-17T11:50:41.727Z"
   },
   {
    "duration": 17,
    "start_time": "2022-08-17T11:50:41.753Z"
   },
   {
    "duration": 9,
    "start_time": "2022-08-17T11:50:41.773Z"
   },
   {
    "duration": 51,
    "start_time": "2022-08-17T11:50:41.784Z"
   },
   {
    "duration": 5,
    "start_time": "2022-08-17T11:50:41.837Z"
   },
   {
    "duration": 12,
    "start_time": "2022-08-17T11:50:41.844Z"
   },
   {
    "duration": 5,
    "start_time": "2022-08-17T11:50:41.858Z"
   },
   {
    "duration": 10,
    "start_time": "2022-08-17T11:50:41.865Z"
   },
   {
    "duration": 28,
    "start_time": "2022-08-17T11:50:41.878Z"
   },
   {
    "duration": 45,
    "start_time": "2022-08-17T11:50:41.908Z"
   },
   {
    "duration": 12,
    "start_time": "2022-08-17T11:50:41.954Z"
   },
   {
    "duration": 9,
    "start_time": "2022-08-17T11:50:41.968Z"
   },
   {
    "duration": 17,
    "start_time": "2022-08-17T11:50:41.978Z"
   },
   {
    "duration": 21,
    "start_time": "2022-08-17T11:50:42.004Z"
   },
   {
    "duration": 20,
    "start_time": "2022-08-17T11:50:42.027Z"
   },
   {
    "duration": 4,
    "start_time": "2022-08-17T11:50:42.049Z"
   },
   {
    "duration": 21,
    "start_time": "2022-08-17T11:50:42.055Z"
   },
   {
    "duration": 26,
    "start_time": "2022-08-17T11:50:42.078Z"
   },
   {
    "duration": 11,
    "start_time": "2022-08-17T11:50:42.106Z"
   },
   {
    "duration": 22,
    "start_time": "2022-08-17T11:50:42.119Z"
   },
   {
    "duration": 11,
    "start_time": "2022-08-17T11:50:42.143Z"
   },
   {
    "duration": 9,
    "start_time": "2022-08-17T11:50:42.156Z"
   },
   {
    "duration": 9,
    "start_time": "2022-08-17T11:50:42.166Z"
   },
   {
    "duration": 9,
    "start_time": "2022-08-17T11:50:42.177Z"
   },
   {
    "duration": 63,
    "start_time": "2022-08-17T11:57:35.129Z"
   },
   {
    "duration": 3,
    "start_time": "2022-08-17T11:59:27.879Z"
   },
   {
    "duration": 14,
    "start_time": "2022-08-17T12:41:10.554Z"
   },
   {
    "duration": 11,
    "start_time": "2022-08-17T12:44:18.874Z"
   },
   {
    "duration": 28,
    "start_time": "2022-08-17T12:44:33.490Z"
   },
   {
    "duration": 461,
    "start_time": "2022-08-17T12:50:50.994Z"
   },
   {
    "duration": 79,
    "start_time": "2022-08-17T12:50:51.458Z"
   },
   {
    "duration": 24,
    "start_time": "2022-08-17T12:50:51.538Z"
   },
   {
    "duration": 16,
    "start_time": "2022-08-17T12:50:51.564Z"
   },
   {
    "duration": 25,
    "start_time": "2022-08-17T12:50:51.582Z"
   },
   {
    "duration": 35,
    "start_time": "2022-08-17T12:50:51.609Z"
   },
   {
    "duration": 4,
    "start_time": "2022-08-17T12:50:51.646Z"
   },
   {
    "duration": 12,
    "start_time": "2022-08-17T12:50:51.652Z"
   },
   {
    "duration": 5,
    "start_time": "2022-08-17T12:50:51.665Z"
   },
   {
    "duration": 10,
    "start_time": "2022-08-17T12:50:51.705Z"
   },
   {
    "duration": 5,
    "start_time": "2022-08-17T12:50:51.717Z"
   },
   {
    "duration": 39,
    "start_time": "2022-08-17T12:50:51.724Z"
   },
   {
    "duration": 40,
    "start_time": "2022-08-17T12:50:51.765Z"
   },
   {
    "duration": 4,
    "start_time": "2022-08-17T12:50:51.807Z"
   },
   {
    "duration": 14,
    "start_time": "2022-08-17T12:50:51.812Z"
   },
   {
    "duration": 21,
    "start_time": "2022-08-17T12:50:51.827Z"
   },
   {
    "duration": 20,
    "start_time": "2022-08-17T12:50:51.849Z"
   },
   {
    "duration": 33,
    "start_time": "2022-08-17T12:50:51.870Z"
   },
   {
    "duration": 12,
    "start_time": "2022-08-17T12:50:51.905Z"
   },
   {
    "duration": 6,
    "start_time": "2022-08-17T12:50:51.919Z"
   },
   {
    "duration": 3,
    "start_time": "2022-08-17T12:50:51.927Z"
   },
   {
    "duration": 15,
    "start_time": "2022-08-17T12:50:51.932Z"
   },
   {
    "duration": 14,
    "start_time": "2022-08-17T12:50:51.949Z"
   },
   {
    "duration": 42,
    "start_time": "2022-08-17T12:50:51.965Z"
   },
   {
    "duration": 7,
    "start_time": "2022-08-17T12:50:52.009Z"
   },
   {
    "duration": 8,
    "start_time": "2022-08-17T12:50:52.018Z"
   },
   {
    "duration": 29,
    "start_time": "2022-08-17T12:53:08.327Z"
   },
   {
    "duration": 12,
    "start_time": "2022-08-17T13:12:27.907Z"
   },
   {
    "duration": 1270,
    "start_time": "2022-08-17T13:13:08.587Z"
   },
   {
    "duration": 10,
    "start_time": "2022-08-17T13:13:26.051Z"
   },
   {
    "duration": 433,
    "start_time": "2022-08-17T13:14:57.900Z"
   },
   {
    "duration": 79,
    "start_time": "2022-08-17T13:14:58.336Z"
   },
   {
    "duration": 27,
    "start_time": "2022-08-17T13:14:58.417Z"
   },
   {
    "duration": 41,
    "start_time": "2022-08-17T13:14:58.447Z"
   },
   {
    "duration": 37,
    "start_time": "2022-08-17T13:14:58.490Z"
   },
   {
    "duration": 76,
    "start_time": "2022-08-17T13:14:58.529Z"
   },
   {
    "duration": 5,
    "start_time": "2022-08-17T13:14:58.607Z"
   },
   {
    "duration": 43,
    "start_time": "2022-08-17T13:14:58.613Z"
   },
   {
    "duration": 30,
    "start_time": "2022-08-17T13:14:58.659Z"
   },
   {
    "duration": 30,
    "start_time": "2022-08-17T13:14:58.693Z"
   },
   {
    "duration": 21,
    "start_time": "2022-08-17T13:14:58.725Z"
   },
   {
    "duration": 66,
    "start_time": "2022-08-17T13:14:58.747Z"
   },
   {
    "duration": 11,
    "start_time": "2022-08-17T13:14:58.815Z"
   },
   {
    "duration": 31,
    "start_time": "2022-08-17T13:14:58.827Z"
   },
   {
    "duration": 40,
    "start_time": "2022-08-17T13:14:58.860Z"
   },
   {
    "duration": 57,
    "start_time": "2022-08-17T13:14:58.903Z"
   },
   {
    "duration": 47,
    "start_time": "2022-08-17T13:14:58.962Z"
   },
   {
    "duration": 17,
    "start_time": "2022-08-17T13:14:59.012Z"
   },
   {
    "duration": 39,
    "start_time": "2022-08-17T13:14:59.031Z"
   },
   {
    "duration": 67,
    "start_time": "2022-08-17T13:14:59.072Z"
   },
   {
    "duration": 58,
    "start_time": "2022-08-17T13:14:59.142Z"
   },
   {
    "duration": 64,
    "start_time": "2022-08-17T13:14:59.202Z"
   },
   {
    "duration": 38,
    "start_time": "2022-08-17T13:14:59.268Z"
   },
   {
    "duration": 45,
    "start_time": "2022-08-17T13:14:59.308Z"
   },
   {
    "duration": 13,
    "start_time": "2022-08-17T13:14:59.355Z"
   },
   {
    "duration": 29,
    "start_time": "2022-08-17T13:14:59.370Z"
   },
   {
    "duration": 56,
    "start_time": "2022-08-19T09:20:37.586Z"
   },
   {
    "duration": 420,
    "start_time": "2022-08-19T09:20:48.334Z"
   },
   {
    "duration": 378,
    "start_time": "2022-08-19T09:20:48.756Z"
   },
   {
    "duration": 23,
    "start_time": "2022-08-19T09:20:49.135Z"
   },
   {
    "duration": 14,
    "start_time": "2022-08-19T09:20:49.160Z"
   },
   {
    "duration": 8,
    "start_time": "2022-08-19T09:20:49.176Z"
   },
   {
    "duration": 34,
    "start_time": "2022-08-19T09:20:49.185Z"
   },
   {
    "duration": 3,
    "start_time": "2022-08-19T09:20:49.221Z"
   },
   {
    "duration": 18,
    "start_time": "2022-08-19T09:20:49.225Z"
   },
   {
    "duration": 5,
    "start_time": "2022-08-19T09:20:49.245Z"
   },
   {
    "duration": 9,
    "start_time": "2022-08-19T09:20:49.253Z"
   },
   {
    "duration": 5,
    "start_time": "2022-08-19T09:20:49.263Z"
   },
   {
    "duration": 64,
    "start_time": "2022-08-19T09:20:49.270Z"
   },
   {
    "duration": 9,
    "start_time": "2022-08-19T09:20:49.336Z"
   },
   {
    "duration": 4,
    "start_time": "2022-08-19T09:20:49.346Z"
   },
   {
    "duration": 14,
    "start_time": "2022-08-19T09:20:49.351Z"
   },
   {
    "duration": 21,
    "start_time": "2022-08-19T09:20:49.366Z"
   },
   {
    "duration": 39,
    "start_time": "2022-08-19T09:20:49.388Z"
   },
   {
    "duration": 4,
    "start_time": "2022-08-19T09:20:49.429Z"
   },
   {
    "duration": 20,
    "start_time": "2022-08-19T09:20:49.435Z"
   },
   {
    "duration": 9,
    "start_time": "2022-08-19T09:20:49.457Z"
   },
   {
    "duration": 4,
    "start_time": "2022-08-19T09:20:49.468Z"
   },
   {
    "duration": 24,
    "start_time": "2022-08-19T09:20:49.474Z"
   },
   {
    "duration": 22,
    "start_time": "2022-08-19T09:20:49.500Z"
   },
   {
    "duration": 29,
    "start_time": "2022-08-19T09:20:49.523Z"
   },
   {
    "duration": 6,
    "start_time": "2022-08-19T09:20:49.554Z"
   },
   {
    "duration": 7,
    "start_time": "2022-08-19T09:20:49.561Z"
   },
   {
    "duration": 9,
    "start_time": "2022-08-19T09:21:18.407Z"
   },
   {
    "duration": 8,
    "start_time": "2022-08-19T09:21:55.222Z"
   },
   {
    "duration": 152,
    "start_time": "2022-08-19T09:29:38.911Z"
   },
   {
    "duration": 20,
    "start_time": "2022-08-19T09:29:56.302Z"
   },
   {
    "duration": 23,
    "start_time": "2022-08-19T09:31:53.206Z"
   },
   {
    "duration": 29,
    "start_time": "2022-08-19T09:32:19.141Z"
   },
   {
    "duration": 24,
    "start_time": "2022-08-19T09:32:26.510Z"
   },
   {
    "duration": 31,
    "start_time": "2022-08-19T09:32:37.885Z"
   },
   {
    "duration": 17,
    "start_time": "2022-08-19T09:33:23.765Z"
   },
   {
    "duration": 32,
    "start_time": "2022-08-19T09:33:33.303Z"
   },
   {
    "duration": 19,
    "start_time": "2022-08-19T09:34:25.342Z"
   },
   {
    "duration": 21,
    "start_time": "2022-08-19T09:36:11.406Z"
   },
   {
    "duration": 17,
    "start_time": "2022-08-19T09:47:34.580Z"
   },
   {
    "duration": 19,
    "start_time": "2022-08-19T09:48:59.458Z"
   },
   {
    "duration": 17,
    "start_time": "2022-08-19T09:49:06.628Z"
   },
   {
    "duration": 21,
    "start_time": "2022-08-19T09:51:15.859Z"
   },
   {
    "duration": 31,
    "start_time": "2022-08-19T09:51:55.595Z"
   },
   {
    "duration": 22,
    "start_time": "2022-08-19T09:52:40.154Z"
   },
   {
    "duration": 53,
    "start_time": "2022-08-19T09:54:56.883Z"
   },
   {
    "duration": 18,
    "start_time": "2022-08-19T09:55:05.186Z"
   },
   {
    "duration": 22,
    "start_time": "2022-08-19T09:55:48.441Z"
   },
   {
    "duration": 22,
    "start_time": "2022-08-19T09:56:24.221Z"
   },
   {
    "duration": 23,
    "start_time": "2022-08-19T09:58:36.248Z"
   },
   {
    "duration": 22,
    "start_time": "2022-08-19T10:00:30.097Z"
   },
   {
    "duration": 22,
    "start_time": "2022-08-19T10:07:59.440Z"
   },
   {
    "duration": 10,
    "start_time": "2022-08-19T10:09:47.031Z"
   },
   {
    "duration": 10,
    "start_time": "2022-08-19T10:11:38.863Z"
   },
   {
    "duration": 391,
    "start_time": "2022-08-19T10:15:05.740Z"
   },
   {
    "duration": 81,
    "start_time": "2022-08-19T10:15:06.133Z"
   },
   {
    "duration": 21,
    "start_time": "2022-08-19T10:15:06.216Z"
   },
   {
    "duration": 14,
    "start_time": "2022-08-19T10:15:06.239Z"
   },
   {
    "duration": 11,
    "start_time": "2022-08-19T10:15:06.254Z"
   },
   {
    "duration": 52,
    "start_time": "2022-08-19T10:15:06.266Z"
   },
   {
    "duration": 3,
    "start_time": "2022-08-19T10:15:06.320Z"
   },
   {
    "duration": 13,
    "start_time": "2022-08-19T10:15:06.325Z"
   },
   {
    "duration": 4,
    "start_time": "2022-08-19T10:15:06.339Z"
   },
   {
    "duration": 9,
    "start_time": "2022-08-19T10:15:06.346Z"
   },
   {
    "duration": 5,
    "start_time": "2022-08-19T10:15:06.356Z"
   },
   {
    "duration": 50,
    "start_time": "2022-08-19T10:15:06.362Z"
   },
   {
    "duration": 9,
    "start_time": "2022-08-19T10:15:06.414Z"
   },
   {
    "duration": 4,
    "start_time": "2022-08-19T10:15:06.424Z"
   },
   {
    "duration": 13,
    "start_time": "2022-08-19T10:15:06.430Z"
   },
   {
    "duration": 19,
    "start_time": "2022-08-19T10:15:06.444Z"
   },
   {
    "duration": 38,
    "start_time": "2022-08-19T10:15:06.465Z"
   },
   {
    "duration": 6,
    "start_time": "2022-08-19T10:15:06.505Z"
   },
   {
    "duration": 18,
    "start_time": "2022-08-19T10:15:06.513Z"
   },
   {
    "duration": 11,
    "start_time": "2022-08-19T10:15:06.533Z"
   },
   {
    "duration": 8,
    "start_time": "2022-08-19T10:15:06.545Z"
   },
   {
    "duration": 12,
    "start_time": "2022-08-19T10:15:06.554Z"
   },
   {
    "duration": 8,
    "start_time": "2022-08-19T10:15:06.568Z"
   },
   {
    "duration": 33,
    "start_time": "2022-08-19T10:15:06.578Z"
   },
   {
    "duration": 24,
    "start_time": "2022-08-19T10:15:06.612Z"
   },
   {
    "duration": 8,
    "start_time": "2022-08-19T10:15:06.638Z"
   },
   {
    "duration": 366,
    "start_time": "2022-08-19T11:06:37.844Z"
   },
   {
    "duration": 71,
    "start_time": "2022-08-19T11:06:38.212Z"
   },
   {
    "duration": 19,
    "start_time": "2022-08-19T11:06:38.285Z"
   },
   {
    "duration": 22,
    "start_time": "2022-08-19T11:06:38.305Z"
   },
   {
    "duration": 17,
    "start_time": "2022-08-19T11:06:38.329Z"
   },
   {
    "duration": 51,
    "start_time": "2022-08-19T11:06:38.347Z"
   },
   {
    "duration": 8,
    "start_time": "2022-08-19T11:06:38.400Z"
   },
   {
    "duration": 27,
    "start_time": "2022-08-19T11:06:38.409Z"
   },
   {
    "duration": 26,
    "start_time": "2022-08-19T11:06:38.438Z"
   },
   {
    "duration": 26,
    "start_time": "2022-08-19T11:06:38.466Z"
   },
   {
    "duration": 13,
    "start_time": "2022-08-19T11:06:38.494Z"
   },
   {
    "duration": 50,
    "start_time": "2022-08-19T11:06:38.508Z"
   },
   {
    "duration": 8,
    "start_time": "2022-08-19T11:06:38.560Z"
   },
   {
    "duration": 19,
    "start_time": "2022-08-19T11:06:38.570Z"
   },
   {
    "duration": 21,
    "start_time": "2022-08-19T11:06:38.590Z"
   },
   {
    "duration": 56,
    "start_time": "2022-08-19T11:06:38.612Z"
   },
   {
    "duration": 25,
    "start_time": "2022-08-19T11:06:38.669Z"
   },
   {
    "duration": 10,
    "start_time": "2022-08-19T11:06:38.695Z"
   },
   {
    "duration": 16,
    "start_time": "2022-08-19T11:06:38.706Z"
   },
   {
    "duration": 9,
    "start_time": "2022-08-19T11:06:38.724Z"
   },
   {
    "duration": 12,
    "start_time": "2022-08-19T11:06:38.734Z"
   },
   {
    "duration": 31,
    "start_time": "2022-08-19T11:06:38.747Z"
   },
   {
    "duration": 30,
    "start_time": "2022-08-19T11:06:38.779Z"
   },
   {
    "duration": 23,
    "start_time": "2022-08-19T11:06:38.811Z"
   },
   {
    "duration": 22,
    "start_time": "2022-08-19T11:06:38.836Z"
   },
   {
    "duration": 27,
    "start_time": "2022-08-19T11:06:38.859Z"
   },
   {
    "duration": 60,
    "start_time": "2022-08-19T11:06:38.888Z"
   },
   {
    "duration": 354,
    "start_time": "2022-08-19T13:27:59.854Z"
   },
   {
    "duration": 137,
    "start_time": "2022-08-19T13:28:00.210Z"
   },
   {
    "duration": 22,
    "start_time": "2022-08-19T13:28:00.348Z"
   },
   {
    "duration": 14,
    "start_time": "2022-08-19T13:28:00.372Z"
   },
   {
    "duration": 13,
    "start_time": "2022-08-19T13:28:00.389Z"
   },
   {
    "duration": 38,
    "start_time": "2022-08-19T13:28:00.404Z"
   },
   {
    "duration": 3,
    "start_time": "2022-08-19T13:28:00.444Z"
   },
   {
    "duration": 12,
    "start_time": "2022-08-19T13:28:00.448Z"
   },
   {
    "duration": 3,
    "start_time": "2022-08-19T13:28:00.462Z"
   },
   {
    "duration": 10,
    "start_time": "2022-08-19T13:28:00.466Z"
   },
   {
    "duration": 6,
    "start_time": "2022-08-19T13:28:00.477Z"
   },
   {
    "duration": 47,
    "start_time": "2022-08-19T13:28:00.485Z"
   },
   {
    "duration": 8,
    "start_time": "2022-08-19T13:28:00.534Z"
   },
   {
    "duration": 7,
    "start_time": "2022-08-19T13:28:00.544Z"
   },
   {
    "duration": 13,
    "start_time": "2022-08-19T13:28:00.552Z"
   },
   {
    "duration": 19,
    "start_time": "2022-08-19T13:28:00.566Z"
   },
   {
    "duration": 32,
    "start_time": "2022-08-19T13:28:00.586Z"
   },
   {
    "duration": 4,
    "start_time": "2022-08-19T13:28:00.620Z"
   },
   {
    "duration": 12,
    "start_time": "2022-08-19T13:28:00.626Z"
   },
   {
    "duration": 8,
    "start_time": "2022-08-19T13:28:00.640Z"
   },
   {
    "duration": 3,
    "start_time": "2022-08-19T13:28:00.649Z"
   },
   {
    "duration": 13,
    "start_time": "2022-08-19T13:28:00.654Z"
   },
   {
    "duration": 8,
    "start_time": "2022-08-19T13:28:00.668Z"
   },
   {
    "duration": 42,
    "start_time": "2022-08-19T13:28:00.677Z"
   },
   {
    "duration": 21,
    "start_time": "2022-08-19T13:28:00.721Z"
   },
   {
    "duration": 8,
    "start_time": "2022-08-19T13:28:00.744Z"
   },
   {
    "duration": 7,
    "start_time": "2022-08-19T13:32:33.135Z"
   },
   {
    "duration": 3,
    "start_time": "2022-08-19T13:34:02.580Z"
   },
   {
    "duration": 435,
    "start_time": "2022-08-19T13:34:06.562Z"
   },
   {
    "duration": 9,
    "start_time": "2022-08-19T13:34:20.117Z"
   },
   {
    "duration": 8,
    "start_time": "2022-08-19T13:34:37.021Z"
   },
   {
    "duration": 9,
    "start_time": "2022-08-19T13:34:45.219Z"
   },
   {
    "duration": 9,
    "start_time": "2022-08-19T13:34:56.854Z"
   },
   {
    "duration": 10,
    "start_time": "2022-08-19T13:35:15.062Z"
   },
   {
    "duration": 9,
    "start_time": "2022-08-19T13:39:09.448Z"
   },
   {
    "duration": 258,
    "start_time": "2022-08-19T13:43:45.576Z"
   },
   {
    "duration": 230,
    "start_time": "2022-08-19T13:43:57.652Z"
   },
   {
    "duration": 135,
    "start_time": "2022-08-19T13:44:41.100Z"
   },
   {
    "duration": 127,
    "start_time": "2022-08-19T13:44:54.317Z"
   },
   {
    "duration": 6,
    "start_time": "2022-08-19T13:45:11.707Z"
   },
   {
    "duration": 11,
    "start_time": "2022-08-19T13:45:32.621Z"
   },
   {
    "duration": 387,
    "start_time": "2022-08-19T13:46:01.901Z"
   },
   {
    "duration": 68,
    "start_time": "2022-08-19T13:46:02.290Z"
   },
   {
    "duration": 19,
    "start_time": "2022-08-19T13:46:02.360Z"
   },
   {
    "duration": 14,
    "start_time": "2022-08-19T13:46:02.380Z"
   },
   {
    "duration": 12,
    "start_time": "2022-08-19T13:46:02.395Z"
   },
   {
    "duration": 42,
    "start_time": "2022-08-19T13:46:02.408Z"
   },
   {
    "duration": 3,
    "start_time": "2022-08-19T13:46:02.452Z"
   },
   {
    "duration": 14,
    "start_time": "2022-08-19T13:46:02.456Z"
   },
   {
    "duration": 5,
    "start_time": "2022-08-19T13:46:02.472Z"
   },
   {
    "duration": 9,
    "start_time": "2022-08-19T13:46:02.479Z"
   },
   {
    "duration": 6,
    "start_time": "2022-08-19T13:46:02.490Z"
   },
   {
    "duration": 50,
    "start_time": "2022-08-19T13:46:02.497Z"
   },
   {
    "duration": 7,
    "start_time": "2022-08-19T13:46:02.549Z"
   },
   {
    "duration": 3,
    "start_time": "2022-08-19T13:46:02.559Z"
   },
   {
    "duration": 21,
    "start_time": "2022-08-19T13:46:02.563Z"
   },
   {
    "duration": 19,
    "start_time": "2022-08-19T13:46:02.586Z"
   },
   {
    "duration": 21,
    "start_time": "2022-08-19T13:46:02.606Z"
   },
   {
    "duration": 14,
    "start_time": "2022-08-19T13:46:02.629Z"
   },
   {
    "duration": 15,
    "start_time": "2022-08-19T13:46:02.645Z"
   },
   {
    "duration": 6,
    "start_time": "2022-08-19T13:46:02.662Z"
   },
   {
    "duration": 23,
    "start_time": "2022-08-19T13:46:02.669Z"
   },
   {
    "duration": 15,
    "start_time": "2022-08-19T13:46:02.694Z"
   },
   {
    "duration": 38,
    "start_time": "2022-08-19T13:46:02.711Z"
   },
   {
    "duration": 12,
    "start_time": "2022-08-19T13:46:02.751Z"
   },
   {
    "duration": 328,
    "start_time": "2022-08-19T13:46:02.765Z"
   },
   {
    "duration": 31,
    "start_time": "2022-08-19T13:46:03.095Z"
   },
   {
    "duration": 23,
    "start_time": "2022-08-19T13:46:03.128Z"
   },
   {
    "duration": 11,
    "start_time": "2022-08-19T13:46:03.152Z"
   },
   {
    "duration": 150,
    "start_time": "2022-08-19T13:49:56.618Z"
   },
   {
    "duration": 49,
    "start_time": "2022-08-19T14:19:43.725Z"
   },
   {
    "duration": 409,
    "start_time": "2022-08-19T14:19:51.346Z"
   },
   {
    "duration": 293,
    "start_time": "2022-08-19T14:19:51.758Z"
   },
   {
    "duration": 23,
    "start_time": "2022-08-19T14:19:52.053Z"
   },
   {
    "duration": 19,
    "start_time": "2022-08-19T14:19:52.078Z"
   },
   {
    "duration": 11,
    "start_time": "2022-08-19T14:19:52.100Z"
   },
   {
    "duration": 57,
    "start_time": "2022-08-19T14:19:52.113Z"
   },
   {
    "duration": 4,
    "start_time": "2022-08-19T14:19:52.172Z"
   },
   {
    "duration": 43,
    "start_time": "2022-08-19T14:19:52.177Z"
   },
   {
    "duration": 16,
    "start_time": "2022-08-19T14:19:52.222Z"
   },
   {
    "duration": 26,
    "start_time": "2022-08-19T14:19:52.241Z"
   },
   {
    "duration": 5,
    "start_time": "2022-08-19T14:19:52.269Z"
   },
   {
    "duration": 38,
    "start_time": "2022-08-19T14:19:52.275Z"
   },
   {
    "duration": 9,
    "start_time": "2022-08-19T14:19:52.315Z"
   },
   {
    "duration": 5,
    "start_time": "2022-08-19T14:19:52.326Z"
   },
   {
    "duration": 26,
    "start_time": "2022-08-19T14:19:52.332Z"
   },
   {
    "duration": 18,
    "start_time": "2022-08-19T14:19:52.360Z"
   },
   {
    "duration": 16,
    "start_time": "2022-08-19T14:19:52.380Z"
   },
   {
    "duration": 3,
    "start_time": "2022-08-19T14:19:52.398Z"
   },
   {
    "duration": 15,
    "start_time": "2022-08-19T14:19:52.403Z"
   },
   {
    "duration": 10,
    "start_time": "2022-08-19T14:19:52.419Z"
   },
   {
    "duration": 28,
    "start_time": "2022-08-19T14:19:52.430Z"
   },
   {
    "duration": 14,
    "start_time": "2022-08-19T14:19:52.461Z"
   },
   {
    "duration": 22,
    "start_time": "2022-08-19T14:19:52.476Z"
   },
   {
    "duration": 6,
    "start_time": "2022-08-19T14:19:52.500Z"
   },
   {
    "duration": 450,
    "start_time": "2022-08-19T14:19:52.508Z"
   },
   {
    "duration": 28,
    "start_time": "2022-08-19T14:19:52.960Z"
   },
   {
    "duration": 25,
    "start_time": "2022-08-19T14:19:52.990Z"
   },
   {
    "duration": 39,
    "start_time": "2022-08-19T14:19:53.018Z"
   }
  ],
  "colab": {
   "name": "dpp_template_part2.ipynb",
   "provenance": []
  },
  "kernelspec": {
   "display_name": "Python 3 (ipykernel)",
   "language": "python",
   "name": "python3"
  },
  "language_info": {
   "codemirror_mode": {
    "name": "ipython",
    "version": 3
   },
   "file_extension": ".py",
   "mimetype": "text/x-python",
   "name": "python",
   "nbconvert_exporter": "python",
   "pygments_lexer": "ipython3",
   "version": "3.9.12"
  },
  "toc": {
   "base_numbering": "1",
   "nav_menu": {
    "height": "359px",
    "width": "851px"
   },
   "number_sections": true,
   "sideBar": true,
   "skip_h1_title": true,
   "title_cell": "Содержание",
   "title_sidebar": "Contents",
   "toc_cell": true,
   "toc_position": {},
   "toc_section_display": true,
   "toc_window_display": true
  }
 },
 "nbformat": 4,
 "nbformat_minor": 5
}
