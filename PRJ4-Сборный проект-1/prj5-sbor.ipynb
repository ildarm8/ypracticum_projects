{
 "cells": [
  {
   "cell_type": "markdown",
   "id": "23a296e0",
   "metadata": {},
   "source": [
    "# Описание проекта\n",
    "\n",
    "В проекте используютсяданные интернет-магазина «Стримчик», который продаёт по всему миру компьютерные игры. Из открытых источников доступны исторические данные о продажах игр, оценки пользователей и экспертов, жанры и платформы (например, Xbox или PlayStation). Нам нужно выявить определяющие успешность игры закономерности. Это позволит сделать ставку на потенциально популярный продукт и спланировать рекламные кампании.\n",
    "Перед нами данные до 2016 года. Представим, что сейчас декабрь 2016 г., и мы планируете кампанию на 2017-й. Нужно отработать принцип работы с данными. Неважно, прогнозируете ли вы продажи на 2017 год по данным 2016-го или же 2027-й — по данным 2026 года.\n",
    "В наборе данных попадается аббревиатура ESRB (Entertainment Software Rating Board) — это ассоциация, определяющая возрастной рейтинг компьютерных игр. ESRB оценивает игровой контент и присваивает ему подходящую возрастную категорию, например, «Для взрослых», «Для детей младшего возраста» или «Для подростков»."
   ]
  },
  {
   "cell_type": "markdown",
   "id": "30a6e26b",
   "metadata": {},
   "source": [
    "## Общие данные"
   ]
  },
  {
   "cell_type": "markdown",
   "id": "53338b4f",
   "metadata": {},
   "source": [
    "***Цели***:   \n",
    "\n",
    "***1.Изучить предоставленные данные.***   \n",
    "\n",
    "***2. Выполнить предобработку данных и изучить их. Выполнить преобразования, необходимые для дальнейшего анализа.***\n",
    "\n",
    "***3. Провести исследовательский анализ данных и ответить на поставленные вопросы.***  \n",
    " - Посмотрите, сколько игр выпускалось в разные годы. Важны ли данные за все периоды?\n",
    " - Посмотрите, как менялись продажи по платформам. Выберите платформы с наибольшими суммарными продажами и постройте распределение по годам. За какой характерный срок появляются новые и исчезают старые платформы?\n",
    " - Возьмите данные за соответствующий актуальный период. Актуальный период определите самостоятельно в результате исследования предыдущих вопросов. Основной фактор — эти данные помогут построить прогноз на 2017 год.\n",
    " - Не учитывайте в работе данные за предыдущие годы. Какие платформы лидируют по продажам, растут или падают? Выберите несколько потенциально прибыльных платформ.\n",
    " - Постройте график «ящик с усами» по глобальным продажам игр в разбивке по платформам. Опишите результат.\n",
    " - Посмотрите, как влияют на продажи внутри одной популярной платформы отзывы пользователей и критиков. Постройте диаграмму рассеяния и посчитайте корреляцию между отзывами и продажами. Сформулируйте выводы.\n",
    " - Соотнесите выводы с продажами игр на других платформах.\n",
    " - Посмотрите на общее распределение игр по жанрам. Что можно сказать о самых прибыльных жанрах? Выделяются ли жанры с высокими и низкими продажами?\n",
    " \n",
    "***4. Составьте портрет пользователя каждого региона***\n",
    "    Определите для пользователя каждого региона (NA, EU, JP):\n",
    " - Самые популярные платформы (топ-5). Опишите различия в долях продаж.\n",
    " - Самые популярные жанры (топ-5). Поясните разницу.\n",
    " - Влияет ли рейтинг ESRB на продажи в отдельном регионе?\n",
    " \n",
    "***5. Проверьте гипотезы***\n",
    " - Средние пользовательские рейтинги платформ Xbox One и PC одинаковые;\n",
    " - Средние пользовательские рейтинги жанров Action (англ. «действие», экшен-игры) и Sports (англ. «спортивные соревнования») разные.\n",
    " - Задайте самостоятельно пороговое значение alpha.\n",
    "    Поясните:\n",
    "     - Как вы сформулировали нулевую и альтернативную гипотезы;\n",
    "     - Какой критерий применили для проверки гипотез и почему.\n",
    "     \n",
    "***6. Напишите общий вывод***\n",
    " "
   ]
  },
  {
   "cell_type": "markdown",
   "id": "958292dc",
   "metadata": {},
   "source": [
    "***Описание данных:***\n",
    " - Name — название игры\n",
    " - Platform — платформа\n",
    " - Year_of_Release — год выпуска\n",
    " - Genre — жанр игры\n",
    " - NA_sales — продажи в Северной Америке (миллионы проданных копий)\n",
    " - EU_sales — продажи в Европе (миллионы проданных копий)\n",
    " - JP_sales — продажи в Японии (миллионы проданных копий)\n",
    " - Other_sales — продажи в других странах (миллионы проданных копий)\n",
    " - Critic_Score — оценка критиков (максимум 100)\n",
    " - User_Score — оценка пользователей (максимум 10)\n",
    " - Rating — рейтинг от организации ESRB (англ. Entertainment Software Rating Board). Эта ассоциация определяет рейтинг компьютерных игр и присваивает им подходящую возрастную категорию.\n",
    " \n",
    "Данные за 2016 год могут быть неполными."
   ]
  },
  {
   "cell_type": "markdown",
   "id": "4bb5f6ef",
   "metadata": {},
   "source": [
    "### Изучим общую информацию. \n"
   ]
  },
  {
   "cell_type": "markdown",
   "id": "449906bb",
   "metadata": {},
   "source": [
    "#### Импортируем библиотеку pandas. Считаем данные из csv-файла в датафрейм и сохраним в переменную data."
   ]
  },
  {
   "cell_type": "code",
   "execution_count": 1,
   "id": "8b94800c",
   "metadata": {},
   "outputs": [],
   "source": [
    "import pandas as pd\n",
    "import matplotlib.pyplot as plt\n",
    "import numpy as np\n",
    "import seaborn as sns\n",
    "from scipy import stats as st"
   ]
  },
  {
   "cell_type": "code",
   "execution_count": 2,
   "id": "f22eb660",
   "metadata": {},
   "outputs": [],
   "source": [
    "try:\n",
    "    data = pd.read_csv('/datasets/games.csv', sep=',')\n",
    "except:\n",
    "    data = pd.read_csv('games.csv', sep=',')   "
   ]
  },
  {
   "cell_type": "markdown",
   "id": "178297e7",
   "metadata": {},
   "source": [
    "#### Выведим первые 10 строчек датафрейма data на экран."
   ]
  },
  {
   "cell_type": "code",
   "execution_count": 3,
   "id": "be1b0023",
   "metadata": {},
   "outputs": [
    {
     "data": {
      "text/html": [
       "<div>\n",
       "<style scoped>\n",
       "    .dataframe tbody tr th:only-of-type {\n",
       "        vertical-align: middle;\n",
       "    }\n",
       "\n",
       "    .dataframe tbody tr th {\n",
       "        vertical-align: top;\n",
       "    }\n",
       "\n",
       "    .dataframe thead th {\n",
       "        text-align: right;\n",
       "    }\n",
       "</style>\n",
       "<table border=\"1\" class=\"dataframe\">\n",
       "  <thead>\n",
       "    <tr style=\"text-align: right;\">\n",
       "      <th></th>\n",
       "      <th>Name</th>\n",
       "      <th>Platform</th>\n",
       "      <th>Year_of_Release</th>\n",
       "      <th>Genre</th>\n",
       "      <th>NA_sales</th>\n",
       "      <th>EU_sales</th>\n",
       "      <th>JP_sales</th>\n",
       "      <th>Other_sales</th>\n",
       "      <th>Critic_Score</th>\n",
       "      <th>User_Score</th>\n",
       "      <th>Rating</th>\n",
       "    </tr>\n",
       "  </thead>\n",
       "  <tbody>\n",
       "    <tr>\n",
       "      <th>0</th>\n",
       "      <td>Wii Sports</td>\n",
       "      <td>Wii</td>\n",
       "      <td>2006.0</td>\n",
       "      <td>Sports</td>\n",
       "      <td>41.36</td>\n",
       "      <td>28.96</td>\n",
       "      <td>3.77</td>\n",
       "      <td>8.45</td>\n",
       "      <td>76.0</td>\n",
       "      <td>8</td>\n",
       "      <td>E</td>\n",
       "    </tr>\n",
       "    <tr>\n",
       "      <th>1</th>\n",
       "      <td>Super Mario Bros.</td>\n",
       "      <td>NES</td>\n",
       "      <td>1985.0</td>\n",
       "      <td>Platform</td>\n",
       "      <td>29.08</td>\n",
       "      <td>3.58</td>\n",
       "      <td>6.81</td>\n",
       "      <td>0.77</td>\n",
       "      <td>NaN</td>\n",
       "      <td>NaN</td>\n",
       "      <td>NaN</td>\n",
       "    </tr>\n",
       "    <tr>\n",
       "      <th>2</th>\n",
       "      <td>Mario Kart Wii</td>\n",
       "      <td>Wii</td>\n",
       "      <td>2008.0</td>\n",
       "      <td>Racing</td>\n",
       "      <td>15.68</td>\n",
       "      <td>12.76</td>\n",
       "      <td>3.79</td>\n",
       "      <td>3.29</td>\n",
       "      <td>82.0</td>\n",
       "      <td>8.3</td>\n",
       "      <td>E</td>\n",
       "    </tr>\n",
       "    <tr>\n",
       "      <th>3</th>\n",
       "      <td>Wii Sports Resort</td>\n",
       "      <td>Wii</td>\n",
       "      <td>2009.0</td>\n",
       "      <td>Sports</td>\n",
       "      <td>15.61</td>\n",
       "      <td>10.93</td>\n",
       "      <td>3.28</td>\n",
       "      <td>2.95</td>\n",
       "      <td>80.0</td>\n",
       "      <td>8</td>\n",
       "      <td>E</td>\n",
       "    </tr>\n",
       "    <tr>\n",
       "      <th>4</th>\n",
       "      <td>Pokemon Red/Pokemon Blue</td>\n",
       "      <td>GB</td>\n",
       "      <td>1996.0</td>\n",
       "      <td>Role-Playing</td>\n",
       "      <td>11.27</td>\n",
       "      <td>8.89</td>\n",
       "      <td>10.22</td>\n",
       "      <td>1.00</td>\n",
       "      <td>NaN</td>\n",
       "      <td>NaN</td>\n",
       "      <td>NaN</td>\n",
       "    </tr>\n",
       "    <tr>\n",
       "      <th>5</th>\n",
       "      <td>Tetris</td>\n",
       "      <td>GB</td>\n",
       "      <td>1989.0</td>\n",
       "      <td>Puzzle</td>\n",
       "      <td>23.20</td>\n",
       "      <td>2.26</td>\n",
       "      <td>4.22</td>\n",
       "      <td>0.58</td>\n",
       "      <td>NaN</td>\n",
       "      <td>NaN</td>\n",
       "      <td>NaN</td>\n",
       "    </tr>\n",
       "    <tr>\n",
       "      <th>6</th>\n",
       "      <td>New Super Mario Bros.</td>\n",
       "      <td>DS</td>\n",
       "      <td>2006.0</td>\n",
       "      <td>Platform</td>\n",
       "      <td>11.28</td>\n",
       "      <td>9.14</td>\n",
       "      <td>6.50</td>\n",
       "      <td>2.88</td>\n",
       "      <td>89.0</td>\n",
       "      <td>8.5</td>\n",
       "      <td>E</td>\n",
       "    </tr>\n",
       "    <tr>\n",
       "      <th>7</th>\n",
       "      <td>Wii Play</td>\n",
       "      <td>Wii</td>\n",
       "      <td>2006.0</td>\n",
       "      <td>Misc</td>\n",
       "      <td>13.96</td>\n",
       "      <td>9.18</td>\n",
       "      <td>2.93</td>\n",
       "      <td>2.84</td>\n",
       "      <td>58.0</td>\n",
       "      <td>6.6</td>\n",
       "      <td>E</td>\n",
       "    </tr>\n",
       "    <tr>\n",
       "      <th>8</th>\n",
       "      <td>New Super Mario Bros. Wii</td>\n",
       "      <td>Wii</td>\n",
       "      <td>2009.0</td>\n",
       "      <td>Platform</td>\n",
       "      <td>14.44</td>\n",
       "      <td>6.94</td>\n",
       "      <td>4.70</td>\n",
       "      <td>2.24</td>\n",
       "      <td>87.0</td>\n",
       "      <td>8.4</td>\n",
       "      <td>E</td>\n",
       "    </tr>\n",
       "    <tr>\n",
       "      <th>9</th>\n",
       "      <td>Duck Hunt</td>\n",
       "      <td>NES</td>\n",
       "      <td>1984.0</td>\n",
       "      <td>Shooter</td>\n",
       "      <td>26.93</td>\n",
       "      <td>0.63</td>\n",
       "      <td>0.28</td>\n",
       "      <td>0.47</td>\n",
       "      <td>NaN</td>\n",
       "      <td>NaN</td>\n",
       "      <td>NaN</td>\n",
       "    </tr>\n",
       "  </tbody>\n",
       "</table>\n",
       "</div>"
      ],
      "text/plain": [
       "                        Name Platform  Year_of_Release         Genre  \\\n",
       "0                 Wii Sports      Wii           2006.0        Sports   \n",
       "1          Super Mario Bros.      NES           1985.0      Platform   \n",
       "2             Mario Kart Wii      Wii           2008.0        Racing   \n",
       "3          Wii Sports Resort      Wii           2009.0        Sports   \n",
       "4   Pokemon Red/Pokemon Blue       GB           1996.0  Role-Playing   \n",
       "5                     Tetris       GB           1989.0        Puzzle   \n",
       "6      New Super Mario Bros.       DS           2006.0      Platform   \n",
       "7                   Wii Play      Wii           2006.0          Misc   \n",
       "8  New Super Mario Bros. Wii      Wii           2009.0      Platform   \n",
       "9                  Duck Hunt      NES           1984.0       Shooter   \n",
       "\n",
       "   NA_sales  EU_sales  JP_sales  Other_sales  Critic_Score User_Score Rating  \n",
       "0     41.36     28.96      3.77         8.45          76.0          8      E  \n",
       "1     29.08      3.58      6.81         0.77           NaN        NaN    NaN  \n",
       "2     15.68     12.76      3.79         3.29          82.0        8.3      E  \n",
       "3     15.61     10.93      3.28         2.95          80.0          8      E  \n",
       "4     11.27      8.89     10.22         1.00           NaN        NaN    NaN  \n",
       "5     23.20      2.26      4.22         0.58           NaN        NaN    NaN  \n",
       "6     11.28      9.14      6.50         2.88          89.0        8.5      E  \n",
       "7     13.96      9.18      2.93         2.84          58.0        6.6      E  \n",
       "8     14.44      6.94      4.70         2.24          87.0        8.4      E  \n",
       "9     26.93      0.63      0.28         0.47           NaN        NaN    NaN  "
      ]
     },
     "execution_count": 3,
     "metadata": {},
     "output_type": "execute_result"
    }
   ],
   "source": [
    "data.head(10)"
   ]
  },
  {
   "cell_type": "code",
   "execution_count": 4,
   "id": "09e9643a",
   "metadata": {},
   "outputs": [
    {
     "name": "stdout",
     "output_type": "stream",
     "text": [
      "<class 'pandas.core.frame.DataFrame'>\n",
      "RangeIndex: 16715 entries, 0 to 16714\n",
      "Data columns (total 11 columns):\n",
      " #   Column           Non-Null Count  Dtype  \n",
      "---  ------           --------------  -----  \n",
      " 0   Name             16713 non-null  object \n",
      " 1   Platform         16715 non-null  object \n",
      " 2   Year_of_Release  16446 non-null  float64\n",
      " 3   Genre            16713 non-null  object \n",
      " 4   NA_sales         16715 non-null  float64\n",
      " 5   EU_sales         16715 non-null  float64\n",
      " 6   JP_sales         16715 non-null  float64\n",
      " 7   Other_sales      16715 non-null  float64\n",
      " 8   Critic_Score     8137 non-null   float64\n",
      " 9   User_Score       10014 non-null  object \n",
      " 10  Rating           9949 non-null   object \n",
      "dtypes: float64(6), object(5)\n",
      "memory usage: 1.4+ MB\n"
     ]
    },
    {
     "data": {
      "text/plain": [
       "(16715, 11)"
      ]
     },
     "execution_count": 4,
     "metadata": {},
     "output_type": "execute_result"
    }
   ],
   "source": [
    "data.info()\n",
    "data.shape"
   ]
  },
  {
   "cell_type": "markdown",
   "id": "4bac634c",
   "metadata": {},
   "source": [
    "***Вывели общую информацию. Датафрейм состоит из 16715 строк и 11. Большая часть пропушенных значений находится в столбцах с оценками и рейтингом ESRB.***"
   ]
  },
  {
   "cell_type": "markdown",
   "id": "018a1879",
   "metadata": {},
   "source": [
    "## Предобработка данных"
   ]
  },
  {
   "cell_type": "markdown",
   "id": "d7a8f24b",
   "metadata": {},
   "source": [
    "### Заменим названия столбцов (приведите к нижнему регистру)"
   ]
  },
  {
   "cell_type": "code",
   "execution_count": 5,
   "id": "a9cccd02",
   "metadata": {},
   "outputs": [
    {
     "data": {
      "text/html": [
       "<div>\n",
       "<style scoped>\n",
       "    .dataframe tbody tr th:only-of-type {\n",
       "        vertical-align: middle;\n",
       "    }\n",
       "\n",
       "    .dataframe tbody tr th {\n",
       "        vertical-align: top;\n",
       "    }\n",
       "\n",
       "    .dataframe thead th {\n",
       "        text-align: right;\n",
       "    }\n",
       "</style>\n",
       "<table border=\"1\" class=\"dataframe\">\n",
       "  <thead>\n",
       "    <tr style=\"text-align: right;\">\n",
       "      <th></th>\n",
       "      <th>name</th>\n",
       "      <th>platform</th>\n",
       "      <th>year_of_release</th>\n",
       "      <th>genre</th>\n",
       "      <th>na_sales</th>\n",
       "      <th>eu_sales</th>\n",
       "      <th>jp_sales</th>\n",
       "      <th>other_sales</th>\n",
       "      <th>critic_score</th>\n",
       "      <th>user_score</th>\n",
       "      <th>rating</th>\n",
       "    </tr>\n",
       "  </thead>\n",
       "  <tbody>\n",
       "    <tr>\n",
       "      <th>0</th>\n",
       "      <td>Wii Sports</td>\n",
       "      <td>Wii</td>\n",
       "      <td>2006.0</td>\n",
       "      <td>Sports</td>\n",
       "      <td>41.36</td>\n",
       "      <td>28.96</td>\n",
       "      <td>3.77</td>\n",
       "      <td>8.45</td>\n",
       "      <td>76.0</td>\n",
       "      <td>8</td>\n",
       "      <td>E</td>\n",
       "    </tr>\n",
       "    <tr>\n",
       "      <th>1</th>\n",
       "      <td>Super Mario Bros.</td>\n",
       "      <td>NES</td>\n",
       "      <td>1985.0</td>\n",
       "      <td>Platform</td>\n",
       "      <td>29.08</td>\n",
       "      <td>3.58</td>\n",
       "      <td>6.81</td>\n",
       "      <td>0.77</td>\n",
       "      <td>NaN</td>\n",
       "      <td>NaN</td>\n",
       "      <td>NaN</td>\n",
       "    </tr>\n",
       "    <tr>\n",
       "      <th>2</th>\n",
       "      <td>Mario Kart Wii</td>\n",
       "      <td>Wii</td>\n",
       "      <td>2008.0</td>\n",
       "      <td>Racing</td>\n",
       "      <td>15.68</td>\n",
       "      <td>12.76</td>\n",
       "      <td>3.79</td>\n",
       "      <td>3.29</td>\n",
       "      <td>82.0</td>\n",
       "      <td>8.3</td>\n",
       "      <td>E</td>\n",
       "    </tr>\n",
       "    <tr>\n",
       "      <th>3</th>\n",
       "      <td>Wii Sports Resort</td>\n",
       "      <td>Wii</td>\n",
       "      <td>2009.0</td>\n",
       "      <td>Sports</td>\n",
       "      <td>15.61</td>\n",
       "      <td>10.93</td>\n",
       "      <td>3.28</td>\n",
       "      <td>2.95</td>\n",
       "      <td>80.0</td>\n",
       "      <td>8</td>\n",
       "      <td>E</td>\n",
       "    </tr>\n",
       "    <tr>\n",
       "      <th>4</th>\n",
       "      <td>Pokemon Red/Pokemon Blue</td>\n",
       "      <td>GB</td>\n",
       "      <td>1996.0</td>\n",
       "      <td>Role-Playing</td>\n",
       "      <td>11.27</td>\n",
       "      <td>8.89</td>\n",
       "      <td>10.22</td>\n",
       "      <td>1.00</td>\n",
       "      <td>NaN</td>\n",
       "      <td>NaN</td>\n",
       "      <td>NaN</td>\n",
       "    </tr>\n",
       "  </tbody>\n",
       "</table>\n",
       "</div>"
      ],
      "text/plain": [
       "                       name platform  year_of_release         genre  na_sales  \\\n",
       "0                Wii Sports      Wii           2006.0        Sports     41.36   \n",
       "1         Super Mario Bros.      NES           1985.0      Platform     29.08   \n",
       "2            Mario Kart Wii      Wii           2008.0        Racing     15.68   \n",
       "3         Wii Sports Resort      Wii           2009.0        Sports     15.61   \n",
       "4  Pokemon Red/Pokemon Blue       GB           1996.0  Role-Playing     11.27   \n",
       "\n",
       "   eu_sales  jp_sales  other_sales  critic_score user_score rating  \n",
       "0     28.96      3.77         8.45          76.0          8      E  \n",
       "1      3.58      6.81         0.77           NaN        NaN    NaN  \n",
       "2     12.76      3.79         3.29          82.0        8.3      E  \n",
       "3     10.93      3.28         2.95          80.0          8      E  \n",
       "4      8.89     10.22         1.00           NaN        NaN    NaN  "
      ]
     },
     "execution_count": 5,
     "metadata": {},
     "output_type": "execute_result"
    }
   ],
   "source": [
    "data.columns = map(str.lower, data.columns)\n",
    "data.head()"
   ]
  },
  {
   "cell_type": "markdown",
   "id": "561fc7c5",
   "metadata": {},
   "source": [
    "### Обработайте пропуски при необходимости, преобразуйте данные в нужные типы. "
   ]
  },
  {
   "cell_type": "code",
   "execution_count": 6,
   "id": "a991dcb8",
   "metadata": {},
   "outputs": [
    {
     "data": {
      "text/plain": [
       "name                  2\n",
       "platform              0\n",
       "year_of_release     269\n",
       "genre                 2\n",
       "na_sales              0\n",
       "eu_sales              0\n",
       "jp_sales              0\n",
       "other_sales           0\n",
       "critic_score       8578\n",
       "user_score         6701\n",
       "rating             6766\n",
       "dtype: int64"
      ]
     },
     "execution_count": 6,
     "metadata": {},
     "output_type": "execute_result"
    }
   ],
   "source": [
    "data.isna().sum()"
   ]
  },
  {
   "cell_type": "markdown",
   "id": "36f02b3d",
   "metadata": {},
   "source": [
    "***Как мы видим больше всего пропусков в столбцах с оценками. Обработать их нет возможности т.к. всё это оценки пользователей\\критиков, и зачастую они являются оценочным суждением, и применять к пропускам среднее значение или медиану будет не корректно***"
   ]
  },
  {
   "cell_type": "code",
   "execution_count": 7,
   "id": "3d45f501",
   "metadata": {},
   "outputs": [
    {
     "data": {
      "text/plain": [
       "0"
      ]
     },
     "execution_count": 7,
     "metadata": {},
     "output_type": "execute_result"
    }
   ],
   "source": [
    "data.duplicated().sum()"
   ]
  },
  {
   "cell_type": "markdown",
   "id": "8f6b5961",
   "metadata": {},
   "source": [
    "***Явных дубликатов не обнуржено***"
   ]
  },
  {
   "cell_type": "code",
   "execution_count": 8,
   "id": "3c5efdd6",
   "metadata": {},
   "outputs": [
    {
     "data": {
      "text/html": [
       "<div>\n",
       "<style scoped>\n",
       "    .dataframe tbody tr th:only-of-type {\n",
       "        vertical-align: middle;\n",
       "    }\n",
       "\n",
       "    .dataframe tbody tr th {\n",
       "        vertical-align: top;\n",
       "    }\n",
       "\n",
       "    .dataframe thead th {\n",
       "        text-align: right;\n",
       "    }\n",
       "</style>\n",
       "<table border=\"1\" class=\"dataframe\">\n",
       "  <thead>\n",
       "    <tr style=\"text-align: right;\">\n",
       "      <th></th>\n",
       "      <th>name</th>\n",
       "      <th>platform</th>\n",
       "      <th>year_of_release</th>\n",
       "      <th>genre</th>\n",
       "      <th>na_sales</th>\n",
       "      <th>eu_sales</th>\n",
       "      <th>jp_sales</th>\n",
       "      <th>other_sales</th>\n",
       "      <th>critic_score</th>\n",
       "      <th>user_score</th>\n",
       "      <th>rating</th>\n",
       "    </tr>\n",
       "  </thead>\n",
       "  <tbody>\n",
       "    <tr>\n",
       "      <th>659</th>\n",
       "      <td>NaN</td>\n",
       "      <td>GEN</td>\n",
       "      <td>1993.0</td>\n",
       "      <td>NaN</td>\n",
       "      <td>1.78</td>\n",
       "      <td>0.53</td>\n",
       "      <td>0.00</td>\n",
       "      <td>0.08</td>\n",
       "      <td>NaN</td>\n",
       "      <td>NaN</td>\n",
       "      <td>NaN</td>\n",
       "    </tr>\n",
       "    <tr>\n",
       "      <th>14244</th>\n",
       "      <td>NaN</td>\n",
       "      <td>GEN</td>\n",
       "      <td>1993.0</td>\n",
       "      <td>NaN</td>\n",
       "      <td>0.00</td>\n",
       "      <td>0.00</td>\n",
       "      <td>0.03</td>\n",
       "      <td>0.00</td>\n",
       "      <td>NaN</td>\n",
       "      <td>NaN</td>\n",
       "      <td>NaN</td>\n",
       "    </tr>\n",
       "  </tbody>\n",
       "</table>\n",
       "</div>"
      ],
      "text/plain": [
       "      name platform  year_of_release genre  na_sales  eu_sales  jp_sales  \\\n",
       "659    NaN      GEN           1993.0   NaN      1.78      0.53      0.00   \n",
       "14244  NaN      GEN           1993.0   NaN      0.00      0.00      0.03   \n",
       "\n",
       "       other_sales  critic_score user_score rating  \n",
       "659           0.08           NaN        NaN    NaN  \n",
       "14244         0.00           NaN        NaN    NaN  "
      ]
     },
     "execution_count": 8,
     "metadata": {},
     "output_type": "execute_result"
    }
   ],
   "source": [
    "data[data['name'].isnull()]"
   ]
  },
  {
   "cell_type": "code",
   "execution_count": 9,
   "id": "9742ff7e",
   "metadata": {},
   "outputs": [],
   "source": [
    "data = data.dropna(subset=['name'])"
   ]
  },
  {
   "cell_type": "markdown",
   "id": "854fd282",
   "metadata": {},
   "source": [
    "***Как мы видим пропуски в столбце `year` и `genre` совпадают, игры выпущены в 1993г. и они никак не повлияют на определение успешности в 2017г, поэтому мы можем их удалить.***"
   ]
  },
  {
   "cell_type": "code",
   "execution_count": 10,
   "id": "d284b196",
   "metadata": {},
   "outputs": [],
   "source": [
    "data = data.dropna(subset=['year_of_release'])"
   ]
  },
  {
   "cell_type": "code",
   "execution_count": 11,
   "id": "8ae62899",
   "metadata": {},
   "outputs": [],
   "source": [
    "data['rating'] = data['rating'].fillna('no info')"
   ]
  },
  {
   "cell_type": "markdown",
   "id": "a5bb9e20",
   "metadata": {},
   "source": [
    "***Пропуски в разделе `rating` заменим на значение `no info`, что бы они не мешали нам в дальнейших вычеслениях. Пропуски в столбце `year_of_release` удалим т.к. лишь малая часть из них попадает в исследуемый период, и они не повлияют на результат.***"
   ]
  },
  {
   "cell_type": "code",
   "execution_count": 12,
   "id": "0610e45c",
   "metadata": {},
   "outputs": [],
   "source": [
    "data['year_of_release'] = data['year_of_release'].astype('Int64')"
   ]
  },
  {
   "cell_type": "code",
   "execution_count": 13,
   "id": "a7b2a701",
   "metadata": {},
   "outputs": [],
   "source": [
    "data['user_score'] = data['user_score'].replace('tbd', np.NaN, regex=True)"
   ]
  },
  {
   "cell_type": "code",
   "execution_count": 14,
   "id": "dc73a2dd",
   "metadata": {},
   "outputs": [],
   "source": [
    "data['user_score'] = data['user_score'].astype('float64')"
   ]
  },
  {
   "cell_type": "markdown",
   "id": "2f07a65a",
   "metadata": {},
   "source": [
    "***Преобразуем столбец `year` в целочисленные значения и столбец `user_score` в вещественные, предаврительно заменив \"tbd\" на NaN. Вероятнее всего сокращение \"tbd\" в данном контексте значит \"To Be Determined\" или \"Будет опеределно позже\" т.е. игроки еще не поставили свою оценку после покупки игры, поэтому заменяем на NaN.***"
   ]
  },
  {
   "cell_type": "markdown",
   "id": "ef4aea33",
   "metadata": {},
   "source": [
    "#### Посчитайте суммарные продажи во всех регионах и запишите их в отдельный столбец."
   ]
  },
  {
   "cell_type": "code",
   "execution_count": 15,
   "id": "c6efedf0",
   "metadata": {},
   "outputs": [],
   "source": [
    "data['total_sales'] = data['na_sales'] + data['eu_sales'] + data['jp_sales'] + data['other_sales']"
   ]
  },
  {
   "cell_type": "code",
   "execution_count": 16,
   "id": "0105609b",
   "metadata": {},
   "outputs": [
    {
     "name": "stdout",
     "output_type": "stream",
     "text": [
      "<class 'pandas.core.frame.DataFrame'>\n",
      "Int64Index: 16444 entries, 0 to 16714\n",
      "Data columns (total 12 columns):\n",
      " #   Column           Non-Null Count  Dtype  \n",
      "---  ------           --------------  -----  \n",
      " 0   name             16444 non-null  object \n",
      " 1   platform         16444 non-null  object \n",
      " 2   year_of_release  16444 non-null  Int64  \n",
      " 3   genre            16444 non-null  object \n",
      " 4   na_sales         16444 non-null  float64\n",
      " 5   eu_sales         16444 non-null  float64\n",
      " 6   jp_sales         16444 non-null  float64\n",
      " 7   other_sales      16444 non-null  float64\n",
      " 8   critic_score     7983 non-null   float64\n",
      " 9   user_score       7463 non-null   float64\n",
      " 10  rating           16444 non-null  object \n",
      " 11  total_sales      16444 non-null  float64\n",
      "dtypes: Int64(1), float64(7), object(4)\n",
      "memory usage: 1.6+ MB\n"
     ]
    }
   ],
   "source": [
    "# check\n",
    "data.info()"
   ]
  },
  {
   "cell_type": "markdown",
   "id": "511d8105",
   "metadata": {},
   "source": [
    "## Исследовательский анализ данных"
   ]
  },
  {
   "cell_type": "markdown",
   "id": "b7c8ea1b",
   "metadata": {},
   "source": [
    "### Посмотрите, сколько игр выпускалось в разные годы. Важны ли данные за все периоды?"
   ]
  },
  {
   "cell_type": "code",
   "execution_count": 17,
   "id": "98bb0085",
   "metadata": {},
   "outputs": [
    {
     "data": {
      "image/png": "[encoded data removed]",
      "text/plain": [
       "<Figure size 864x432 with 1 Axes>"
      ]
     },
     "metadata": {
      "needs_background": "light"
     },
     "output_type": "display_data"
    }
   ],
   "source": [
    "data['year_of_release'].hist(bins = 90, figsize = (12,6));"
   ]
  },
  {
   "cell_type": "markdown",
   "id": "17702f65",
   "metadata": {},
   "source": [
    "***Мы видим, что пик релизов приходиться на 2008-2009г. Гистограмма скошена вправо, это логично, ведь в период до 1995г. индустрия игр была развята слабо, по причине отсутствия относительно мощной техники. Так же наблюдается спад в период 2013-2015г. Возможно это связано с тем, что после выпуска игр, студиям нужно время для создаяния новой игры.***"
   ]
  },
  {
   "cell_type": "markdown",
   "id": "731e065c",
   "metadata": {},
   "source": [
    "### Посмотрите, как менялись продажи по платформам."
   ]
  },
  {
   "cell_type": "code",
   "execution_count": 18,
   "id": "63304da4",
   "metadata": {
    "scrolled": true
   },
   "outputs": [
    {
     "data": {
      "text/html": [
       "<style type=\"text/css\">\n",
       "#T_98774_row0_col0 {\n",
       "  background-color: #03466e;\n",
       "  color: #f1f1f1;\n",
       "}\n",
       "#T_98774_row1_col0 {\n",
       "  background-color: #0872b1;\n",
       "  color: #f1f1f1;\n",
       "}\n",
       "#T_98774_row2_col0 {\n",
       "  background-color: #1278b4;\n",
       "  color: #f1f1f1;\n",
       "}\n",
       "#T_98774_row3_col0 {\n",
       "  background-color: #1e80b8;\n",
       "  color: #f1f1f1;\n",
       "}\n",
       "#T_98774_row4_col0 {\n",
       "  background-color: #3991c1;\n",
       "  color: #f1f1f1;\n",
       "}\n",
       "#T_98774_row5_col0 {\n",
       "  background-color: #569dc8;\n",
       "  color: #f1f1f1;\n",
       "}\n",
       "#T_98774_row6_col0, #T_98774_row7_col0 {\n",
       "  background-color: #d2d3e7;\n",
       "  color: #000000;\n",
       "}\n",
       "#T_98774_row8_col0 {\n",
       "  background-color: #d6d6e9;\n",
       "  color: #000000;\n",
       "}\n",
       "#T_98774_row9_col0, #T_98774_row10_col0, #T_98774_row11_col0 {\n",
       "  background-color: #dcdaeb;\n",
       "  color: #000000;\n",
       "}\n",
       "#T_98774_row12_col0, #T_98774_row13_col0 {\n",
       "  background-color: #dddbec;\n",
       "  color: #000000;\n",
       "}\n",
       "#T_98774_row14_col0 {\n",
       "  background-color: #e3e0ee;\n",
       "  color: #000000;\n",
       "}\n",
       "#T_98774_row15_col0 {\n",
       "  background-color: #e6e2ef;\n",
       "  color: #000000;\n",
       "}\n",
       "#T_98774_row16_col0 {\n",
       "  background-color: #e7e3f0;\n",
       "  color: #000000;\n",
       "}\n",
       "#T_98774_row17_col0 {\n",
       "  background-color: #ede7f2;\n",
       "  color: #000000;\n",
       "}\n",
       "#T_98774_row18_col0 {\n",
       "  background-color: #f5eef6;\n",
       "  color: #000000;\n",
       "}\n",
       "#T_98774_row19_col0 {\n",
       "  background-color: #f5eff6;\n",
       "  color: #000000;\n",
       "}\n",
       "#T_98774_row20_col0 {\n",
       "  background-color: #f9f2f8;\n",
       "  color: #000000;\n",
       "}\n",
       "#T_98774_row21_col0 {\n",
       "  background-color: #fbf4f9;\n",
       "  color: #000000;\n",
       "}\n",
       "#T_98774_row22_col0 {\n",
       "  background-color: #fcf4fa;\n",
       "  color: #000000;\n",
       "}\n",
       "#T_98774_row23_col0 {\n",
       "  background-color: #fdf5fa;\n",
       "  color: #000000;\n",
       "}\n",
       "#T_98774_row24_col0, #T_98774_row25_col0, #T_98774_row26_col0, #T_98774_row27_col0, #T_98774_row28_col0, #T_98774_row29_col0, #T_98774_row30_col0 {\n",
       "  background-color: #fff7fb;\n",
       "  color: #000000;\n",
       "}\n",
       "</style>\n",
       "<table id=\"T_98774\">\n",
       "  <thead>\n",
       "    <tr>\n",
       "      <th class=\"blank level0\" >&nbsp;</th>\n",
       "      <th id=\"T_98774_level0_col0\" class=\"col_heading level0 col0\" >sum</th>\n",
       "    </tr>\n",
       "    <tr>\n",
       "      <th class=\"blank level1\" >&nbsp;</th>\n",
       "      <th id=\"T_98774_level1_col0\" class=\"col_heading level1 col0\" >total_sales</th>\n",
       "    </tr>\n",
       "    <tr>\n",
       "      <th class=\"index_name level0\" >platform</th>\n",
       "      <th class=\"blank col0\" >&nbsp;</th>\n",
       "    </tr>\n",
       "  </thead>\n",
       "  <tbody>\n",
       "    <tr>\n",
       "      <th id=\"T_98774_level0_row0\" class=\"row_heading level0 row0\" >PS2</th>\n",
       "      <td id=\"T_98774_row0_col0\" class=\"data row0 col0\" >1233.560000</td>\n",
       "    </tr>\n",
       "    <tr>\n",
       "      <th id=\"T_98774_level0_row1\" class=\"row_heading level0 row1\" >X360</th>\n",
       "      <td id=\"T_98774_row1_col0\" class=\"data row1 col0\" >961.240000</td>\n",
       "    </tr>\n",
       "    <tr>\n",
       "      <th id=\"T_98774_level0_row2\" class=\"row_heading level0 row2\" >PS3</th>\n",
       "      <td id=\"T_98774_row2_col0\" class=\"data row2 col0\" >931.340000</td>\n",
       "    </tr>\n",
       "    <tr>\n",
       "      <th id=\"T_98774_level0_row3\" class=\"row_heading level0 row3\" >Wii</th>\n",
       "      <td id=\"T_98774_row3_col0\" class=\"data row3 col0\" >891.180000</td>\n",
       "    </tr>\n",
       "    <tr>\n",
       "      <th id=\"T_98774_level0_row4\" class=\"row_heading level0 row4\" >DS</th>\n",
       "      <td id=\"T_98774_row4_col0\" class=\"data row4 col0\" >802.780000</td>\n",
       "    </tr>\n",
       "    <tr>\n",
       "      <th id=\"T_98774_level0_row5\" class=\"row_heading level0 row5\" >PS</th>\n",
       "      <td id=\"T_98774_row5_col0\" class=\"data row5 col0\" >727.580000</td>\n",
       "    </tr>\n",
       "    <tr>\n",
       "      <th id=\"T_98774_level0_row6\" class=\"row_heading level0 row6\" >PS4</th>\n",
       "      <td id=\"T_98774_row6_col0\" class=\"data row6 col0\" >314.140000</td>\n",
       "    </tr>\n",
       "    <tr>\n",
       "      <th id=\"T_98774_level0_row7\" class=\"row_heading level0 row7\" >GBA</th>\n",
       "      <td id=\"T_98774_row7_col0\" class=\"data row7 col0\" >312.880000</td>\n",
       "    </tr>\n",
       "    <tr>\n",
       "      <th id=\"T_98774_level0_row8\" class=\"row_heading level0 row8\" >PSP</th>\n",
       "      <td id=\"T_98774_row8_col0\" class=\"data row8 col0\" >289.530000</td>\n",
       "    </tr>\n",
       "    <tr>\n",
       "      <th id=\"T_98774_level0_row9\" class=\"row_heading level0 row9\" >3DS</th>\n",
       "      <td id=\"T_98774_row9_col0\" class=\"data row9 col0\" >257.810000</td>\n",
       "    </tr>\n",
       "    <tr>\n",
       "      <th id=\"T_98774_level0_row10\" class=\"row_heading level0 row10\" >PC</th>\n",
       "      <td id=\"T_98774_row10_col0\" class=\"data row10 col0\" >255.760000</td>\n",
       "    </tr>\n",
       "    <tr>\n",
       "      <th id=\"T_98774_level0_row11\" class=\"row_heading level0 row11\" >GB</th>\n",
       "      <td id=\"T_98774_row11_col0\" class=\"data row11 col0\" >254.430000</td>\n",
       "    </tr>\n",
       "    <tr>\n",
       "      <th id=\"T_98774_level0_row12\" class=\"row_heading level0 row12\" >XB</th>\n",
       "      <td id=\"T_98774_row12_col0\" class=\"data row12 col0\" >251.570000</td>\n",
       "    </tr>\n",
       "    <tr>\n",
       "      <th id=\"T_98774_level0_row13\" class=\"row_heading level0 row13\" >NES</th>\n",
       "      <td id=\"T_98774_row13_col0\" class=\"data row13 col0\" >251.050000</td>\n",
       "    </tr>\n",
       "    <tr>\n",
       "      <th id=\"T_98774_level0_row14\" class=\"row_heading level0 row14\" >N64</th>\n",
       "      <td id=\"T_98774_row14_col0\" class=\"data row14 col0\" >218.010000</td>\n",
       "    </tr>\n",
       "    <tr>\n",
       "      <th id=\"T_98774_level0_row15\" class=\"row_heading level0 row15\" >SNES</th>\n",
       "      <td id=\"T_98774_row15_col0\" class=\"data row15 col0\" >200.040000</td>\n",
       "    </tr>\n",
       "    <tr>\n",
       "      <th id=\"T_98774_level0_row16\" class=\"row_heading level0 row16\" >GC</th>\n",
       "      <td id=\"T_98774_row16_col0\" class=\"data row16 col0\" >196.730000</td>\n",
       "    </tr>\n",
       "    <tr>\n",
       "      <th id=\"T_98774_level0_row17\" class=\"row_heading level0 row17\" >XOne</th>\n",
       "      <td id=\"T_98774_row17_col0\" class=\"data row17 col0\" >159.320000</td>\n",
       "    </tr>\n",
       "    <tr>\n",
       "      <th id=\"T_98774_level0_row18\" class=\"row_heading level0 row18\" >2600</th>\n",
       "      <td id=\"T_98774_row18_col0\" class=\"data row18 col0\" >86.480000</td>\n",
       "    </tr>\n",
       "    <tr>\n",
       "      <th id=\"T_98774_level0_row19\" class=\"row_heading level0 row19\" >WiiU</th>\n",
       "      <td id=\"T_98774_row19_col0\" class=\"data row19 col0\" >82.190000</td>\n",
       "    </tr>\n",
       "    <tr>\n",
       "      <th id=\"T_98774_level0_row20\" class=\"row_heading level0 row20\" >PSV</th>\n",
       "      <td id=\"T_98774_row20_col0\" class=\"data row20 col0\" >53.810000</td>\n",
       "    </tr>\n",
       "    <tr>\n",
       "      <th id=\"T_98774_level0_row21\" class=\"row_heading level0 row21\" >SAT</th>\n",
       "      <td id=\"T_98774_row21_col0\" class=\"data row21 col0\" >33.590000</td>\n",
       "    </tr>\n",
       "    <tr>\n",
       "      <th id=\"T_98774_level0_row22\" class=\"row_heading level0 row22\" >GEN</th>\n",
       "      <td id=\"T_98774_row22_col0\" class=\"data row22 col0\" >28.350000</td>\n",
       "    </tr>\n",
       "    <tr>\n",
       "      <th id=\"T_98774_level0_row23\" class=\"row_heading level0 row23\" >DC</th>\n",
       "      <td id=\"T_98774_row23_col0\" class=\"data row23 col0\" >15.950000</td>\n",
       "    </tr>\n",
       "    <tr>\n",
       "      <th id=\"T_98774_level0_row24\" class=\"row_heading level0 row24\" >SCD</th>\n",
       "      <td id=\"T_98774_row24_col0\" class=\"data row24 col0\" >1.860000</td>\n",
       "    </tr>\n",
       "    <tr>\n",
       "      <th id=\"T_98774_level0_row25\" class=\"row_heading level0 row25\" >NG</th>\n",
       "      <td id=\"T_98774_row25_col0\" class=\"data row25 col0\" >1.440000</td>\n",
       "    </tr>\n",
       "    <tr>\n",
       "      <th id=\"T_98774_level0_row26\" class=\"row_heading level0 row26\" >WS</th>\n",
       "      <td id=\"T_98774_row26_col0\" class=\"data row26 col0\" >1.420000</td>\n",
       "    </tr>\n",
       "    <tr>\n",
       "      <th id=\"T_98774_level0_row27\" class=\"row_heading level0 row27\" >TG16</th>\n",
       "      <td id=\"T_98774_row27_col0\" class=\"data row27 col0\" >0.160000</td>\n",
       "    </tr>\n",
       "    <tr>\n",
       "      <th id=\"T_98774_level0_row28\" class=\"row_heading level0 row28\" >3DO</th>\n",
       "      <td id=\"T_98774_row28_col0\" class=\"data row28 col0\" >0.100000</td>\n",
       "    </tr>\n",
       "    <tr>\n",
       "      <th id=\"T_98774_level0_row29\" class=\"row_heading level0 row29\" >GG</th>\n",
       "      <td id=\"T_98774_row29_col0\" class=\"data row29 col0\" >0.040000</td>\n",
       "    </tr>\n",
       "    <tr>\n",
       "      <th id=\"T_98774_level0_row30\" class=\"row_heading level0 row30\" >PCFX</th>\n",
       "      <td id=\"T_98774_row30_col0\" class=\"data row30 col0\" >0.030000</td>\n",
       "    </tr>\n",
       "  </tbody>\n",
       "</table>\n"
      ],
      "text/plain": [
       "<pandas.io.formats.style.Styler at 0x7f52ffa61670>"
      ]
     },
     "execution_count": 18,
     "metadata": {},
     "output_type": "execute_result"
    }
   ],
   "source": [
    "data.pivot_table(index='platform', values='total_sales', aggfunc=['sum']).\\\n",
    "sort_values(by = ('sum','total_sales'), ascending=False).\\\n",
    "style.background_gradient(subset = 'sum', vmin=0, vmax=1300)"
   ]
  },
  {
   "cell_type": "code",
   "execution_count": 19,
   "id": "be7b9a63",
   "metadata": {
    "scrolled": false
   },
   "outputs": [
    {
     "data": {
      "image/png": "[encoded data removed]",
      "text/plain": [
       "<Figure size 1080x432 with 1 Axes>"
      ]
     },
     "metadata": {
      "needs_background": "light"
     },
     "output_type": "display_data"
    }
   ],
   "source": [
    "tsp = data.pivot_table(index='platform', values='total_sales', aggfunc='sum').\\\n",
    "sort_values(by = 'total_sales',ascending=False)\n",
    "\n",
    "plt.figure(figsize=(15,6))\n",
    "sns.barplot(x=tsp.index,y=tsp['total_sales'])\n",
    "plt.title('Продажи по платформам за весь период')\n",
    "plt.xlabel('Название платформы')\n",
    "plt.ylabel('Количество проданных игр');\n"
   ]
  },
  {
   "cell_type": "markdown",
   "id": "25c525fe",
   "metadata": {},
   "source": [
    "***Как мы видим по общим продажам, больше всего проданных игр у PS2, следом идет группа: Х360, PS3, Wii, DS и PS.***"
   ]
  },
  {
   "cell_type": "markdown",
   "id": "c79c8d91",
   "metadata": {},
   "source": [
    "#### Выберите платформы с наибольшими суммарными продажами и постройте распределение по годам. За какой характерный срок появляются новые и исчезают старые платформы?"
   ]
  },
  {
   "cell_type": "code",
   "execution_count": 20,
   "id": "e1f43116",
   "metadata": {},
   "outputs": [
    {
     "data": {
      "image/png": "[encoded data removed]",
      "text/plain": [
       "<Figure size 1152x576 with 1 Axes>"
      ]
     },
     "metadata": {
      "needs_background": "light"
     },
     "output_type": "display_data"
    }
   ],
   "source": [
    "\n",
    "data[data['year_of_release']>2010].pivot_table(index='year_of_release', columns = 'platform',\\\n",
    "values='total_sales', aggfunc='sum').plot(grid=True, figsize=(16, 8), title = 'График продаж по платформам',\\\n",
    "xlabel='Год выпуска', ylabel='Количество проданных игр', )\n",
    "plt.legend(loc='center left', bbox_to_anchor=(1, 0.55));"
   ]
  },
  {
   "cell_type": "markdown",
   "id": "f38d4f94",
   "metadata": {},
   "source": [
    "***Как мы видим, продолжительность жизни большинства платформ составляет 10 лет. В первую половину идет резкий рост продаж, а во вторую спад. В дальнейшем платформа либо обновляется, либо на нее перестают выпускать игры.***"
   ]
  },
  {
   "cell_type": "markdown",
   "id": "5ee2e215",
   "metadata": {},
   "source": [
    "#### Какие платформы лидируют по продажам, растут или падают? Выберите несколько потенциально прибыльных платформ."
   ]
  },
  {
   "cell_type": "code",
   "execution_count": 21,
   "id": "a810c337",
   "metadata": {},
   "outputs": [
    {
     "data": {
      "text/html": [
       "<div>\n",
       "<style scoped>\n",
       "    .dataframe tbody tr th:only-of-type {\n",
       "        vertical-align: middle;\n",
       "    }\n",
       "\n",
       "    .dataframe tbody tr th {\n",
       "        vertical-align: top;\n",
       "    }\n",
       "\n",
       "    .dataframe thead th {\n",
       "        text-align: right;\n",
       "    }\n",
       "</style>\n",
       "<table border=\"1\" class=\"dataframe\">\n",
       "  <thead>\n",
       "    <tr style=\"text-align: right;\">\n",
       "      <th>year_of_release</th>\n",
       "      <th>2013</th>\n",
       "      <th>2014</th>\n",
       "      <th>2015</th>\n",
       "      <th>2016</th>\n",
       "    </tr>\n",
       "    <tr>\n",
       "      <th>platform</th>\n",
       "      <th></th>\n",
       "      <th></th>\n",
       "      <th></th>\n",
       "      <th></th>\n",
       "    </tr>\n",
       "  </thead>\n",
       "  <tbody>\n",
       "    <tr>\n",
       "      <th>3DS</th>\n",
       "      <td>56.57</td>\n",
       "      <td>43.76</td>\n",
       "      <td>27.78</td>\n",
       "      <td>15.14</td>\n",
       "    </tr>\n",
       "    <tr>\n",
       "      <th>DS</th>\n",
       "      <td>1.54</td>\n",
       "      <td>NaN</td>\n",
       "      <td>NaN</td>\n",
       "      <td>NaN</td>\n",
       "    </tr>\n",
       "    <tr>\n",
       "      <th>PC</th>\n",
       "      <td>12.38</td>\n",
       "      <td>13.28</td>\n",
       "      <td>8.52</td>\n",
       "      <td>5.25</td>\n",
       "    </tr>\n",
       "    <tr>\n",
       "      <th>PS3</th>\n",
       "      <td>113.25</td>\n",
       "      <td>47.76</td>\n",
       "      <td>16.82</td>\n",
       "      <td>3.60</td>\n",
       "    </tr>\n",
       "    <tr>\n",
       "      <th>PS4</th>\n",
       "      <td>25.99</td>\n",
       "      <td>100.00</td>\n",
       "      <td>118.90</td>\n",
       "      <td>69.25</td>\n",
       "    </tr>\n",
       "    <tr>\n",
       "      <th>PSP</th>\n",
       "      <td>3.14</td>\n",
       "      <td>0.24</td>\n",
       "      <td>0.12</td>\n",
       "      <td>NaN</td>\n",
       "    </tr>\n",
       "    <tr>\n",
       "      <th>PSV</th>\n",
       "      <td>10.59</td>\n",
       "      <td>11.90</td>\n",
       "      <td>6.25</td>\n",
       "      <td>4.25</td>\n",
       "    </tr>\n",
       "    <tr>\n",
       "      <th>Wii</th>\n",
       "      <td>8.59</td>\n",
       "      <td>3.75</td>\n",
       "      <td>1.14</td>\n",
       "      <td>0.18</td>\n",
       "    </tr>\n",
       "    <tr>\n",
       "      <th>WiiU</th>\n",
       "      <td>21.65</td>\n",
       "      <td>22.03</td>\n",
       "      <td>16.35</td>\n",
       "      <td>4.60</td>\n",
       "    </tr>\n",
       "    <tr>\n",
       "      <th>X360</th>\n",
       "      <td>88.58</td>\n",
       "      <td>34.74</td>\n",
       "      <td>11.96</td>\n",
       "      <td>1.52</td>\n",
       "    </tr>\n",
       "    <tr>\n",
       "      <th>XOne</th>\n",
       "      <td>18.96</td>\n",
       "      <td>54.07</td>\n",
       "      <td>60.14</td>\n",
       "      <td>26.15</td>\n",
       "    </tr>\n",
       "  </tbody>\n",
       "</table>\n",
       "</div>"
      ],
      "text/plain": [
       "year_of_release    2013    2014    2015   2016\n",
       "platform                                      \n",
       "3DS               56.57   43.76   27.78  15.14\n",
       "DS                 1.54     NaN     NaN    NaN\n",
       "PC                12.38   13.28    8.52   5.25\n",
       "PS3              113.25   47.76   16.82   3.60\n",
       "PS4               25.99  100.00  118.90  69.25\n",
       "PSP                3.14    0.24    0.12    NaN\n",
       "PSV               10.59   11.90    6.25   4.25\n",
       "Wii                8.59    3.75    1.14   0.18\n",
       "WiiU              21.65   22.03   16.35   4.60\n",
       "X360              88.58   34.74   11.96   1.52\n",
       "XOne              18.96   54.07   60.14  26.15"
      ]
     },
     "execution_count": 21,
     "metadata": {},
     "output_type": "execute_result"
    }
   ],
   "source": [
    "data[data['year_of_release']>2012].pivot_table(index='platform', columns = 'year_of_release',\\\n",
    "values='total_sales', aggfunc='sum')"
   ]
  },
  {
   "cell_type": "markdown",
   "id": "d73abc1b",
   "metadata": {},
   "source": [
    "***Из сводной таблицы по продажам за псоледние несколько лет видно, что с большим отрывом лидирует PS4, следом идет XOne. Их более ранние версии (PS3 и Х360) теряют продужи. Так же падают в продажах 3DS и WiiU, но все еще достаточно популярны. Исходя из динамики продаж можно предположить, что самыми популярными платформами будут эти 4: PS4, XOne, 3DS, WiiU и PC. Их и рассмотрим более подробно. Акутальным периодом будем считать 2014-2016г., т.к. с 2014г старые платформы доживают свое, а новые начинают развиваться.***"
   ]
  },
  {
   "cell_type": "code",
   "execution_count": null,
   "id": "9da85978",
   "metadata": {},
   "outputs": [],
   "source": []
  },
  {
   "cell_type": "markdown",
   "id": "7ff3c4c4",
   "metadata": {
    "scrolled": false
   },
   "source": [
    "#### Постройте график «ящик с усами» по глобальным продажам игр в разбивке по платформам. Опишите результат."
   ]
  },
  {
   "cell_type": "code",
   "execution_count": 22,
   "id": "989c4b56",
   "metadata": {
    "scrolled": false
   },
   "outputs": [],
   "source": [
    "profit_platform = data[data['year_of_release'] >= 2014]"
   ]
  },
  {
   "cell_type": "code",
   "execution_count": 23,
   "id": "dd972949",
   "metadata": {
    "scrolled": false
   },
   "outputs": [
    {
     "data": {
      "image/png": "[encoded data removed]",
      "text/plain": [
       "<Figure size 1152x720 with 1 Axes>"
      ]
     },
     "metadata": {
      "needs_background": "light"
     },
     "output_type": "display_data"
    }
   ],
   "source": [
    "plt.figure(figsize=(16,10))\n",
    "plt.xlim(0, 1.6)\n",
    "sns.boxplot(x=profit_platform['total_sales'],\n",
    "            y=profit_platform['platform'],\n",
    "           showmeans=True,\n",
    "           linewidth=True)\n",
    "plt.grid(True)\n",
    "plt.xlabel('Количество проданных игр')\n",
    "plt.ylabel('Платформа')\n",
    "plt.title('Диаграмма размаха по глобальным продажам');"
   ]
  },
  {
   "cell_type": "code",
   "execution_count": null,
   "id": "c3c447c1",
   "metadata": {},
   "outputs": [],
   "source": []
  },
  {
   "cell_type": "markdown",
   "id": "cce1539c",
   "metadata": {},
   "source": [
    "- ***Как мы видими из общей группы сразу выбиваются PS4 и XOne, WiiU, у них у всех высокие продажи и большая разница между медианой и средним значением. Это говорит о том,  что на этих платформах выпускаются игры с очень высокими продажами, соответственно их популярность растет.Туда же можно отнести и 3DS, хоть общие продажи там и меньше.*** \n",
    "\n",
    "- ***PS3, X360, Wii, PSV теряют популрность, их обще продажи уменьшаются, сердние значения приблежаются к медианным.***"
   ]
  },
  {
   "cell_type": "markdown",
   "id": "4eb2a2f8",
   "metadata": {},
   "source": [
    "#### Посмотрите, как влияют на продажи внутри одной популярной платформы отзывы пользователей и критиков."
   ]
  },
  {
   "cell_type": "markdown",
   "id": "57005829",
   "metadata": {},
   "source": [
    "***Построим диаграмму рассеяния и посчитаем корреляцию между отзывами и продажами на платформе PS4.***"
   ]
  },
  {
   "cell_type": "code",
   "execution_count": 24,
   "id": "0c044ea3",
   "metadata": {},
   "outputs": [
    {
     "data": {
      "text/plain": [
       "-0.040131589472697356"
      ]
     },
     "execution_count": 24,
     "metadata": {},
     "output_type": "execute_result"
    }
   ],
   "source": [
    "data[(data['year_of_release']>=2014) &(data['platform']=='PS4')]['total_sales'].corr(data['user_score'])"
   ]
  },
  {
   "cell_type": "code",
   "execution_count": 25,
   "id": "a426efb3",
   "metadata": {},
   "outputs": [
    {
     "data": {
      "image/png": "[encoded data removed]",
      "text/plain": [
       "<Figure size 720x432 with 1 Axes>"
      ]
     },
     "metadata": {
      "needs_background": "light"
     },
     "output_type": "display_data"
    }
   ],
   "source": [
    "data[(data['year_of_release']>=2014) & (data['platform']=='PS4')].plot(x='user_score', y='total_sales', kind='scatter',\\\n",
    "alpha=0.3, figsize= (10,6), grid=True, xlabel = 'Оценки пользователей', ylabel = 'Продажи', ylim=(0,5),\\\n",
    "title = 'Диаграмма рассеяния продаж по отношению к оценкам пользователей PS4');"
   ]
  },
  {
   "cell_type": "markdown",
   "id": "4aa2ea27",
   "metadata": {},
   "source": [
    "***Как мы видим корреляция почти нулевая, что подтверждается графиком. Прямой зависимости между продажами и отзывами пользоватлей не обнаружено.***"
   ]
  },
  {
   "cell_type": "code",
   "execution_count": 26,
   "id": "4b43d4f0",
   "metadata": {},
   "outputs": [
    {
     "data": {
      "text/plain": [
       "0.40266141068104083"
      ]
     },
     "execution_count": 26,
     "metadata": {},
     "output_type": "execute_result"
    }
   ],
   "source": [
    "data[(data['year_of_release']>=2014) & (data['platform']=='PS4')]['total_sales'].corr(data['critic_score'])"
   ]
  },
  {
   "cell_type": "code",
   "execution_count": 27,
   "id": "d511b46a",
   "metadata": {},
   "outputs": [
    {
     "data": {
      "image/png": "[encoded data removed]",
      "text/plain": [
       "<Figure size 720x432 with 1 Axes>"
      ]
     },
     "metadata": {
      "needs_background": "light"
     },
     "output_type": "display_data"
    }
   ],
   "source": [
    "data[(data['year_of_release']>=2014) & (data['platform']=='PS4')].plot(x='critic_score', y='total_sales', kind='scatter',\\\n",
    "alpha=0.3, figsize= (10,6), grid=True, xlabel = 'Оценки пользователей', ylabel = 'Продажи', ylim=(0,8),\\\n",
    "title = 'Диаграмма рассеяния продаж по отношению к оценкам критиков PS4');"
   ]
  },
  {
   "cell_type": "markdown",
   "id": "bcad72ce",
   "metadata": {},
   "source": [
    "***В случае с оценками критиков ситуация немного изменилась. Мы видим, что зависимость есть, выражена умеренно. Это можно объяснить тем, что возможно, часть пользователей при покупке игр все же опирается на мнение критиков.***"
   ]
  },
  {
   "cell_type": "markdown",
   "id": "47b5500a",
   "metadata": {},
   "source": [
    "#### Соотнесите выводы с продажами игр на других платформах."
   ]
  },
  {
   "cell_type": "markdown",
   "id": "6a2b25e2",
   "metadata": {},
   "source": [
    "***Рассмотрим платформу Xone.***"
   ]
  },
  {
   "cell_type": "code",
   "execution_count": 28,
   "id": "8a58ac7c",
   "metadata": {},
   "outputs": [
    {
     "data": {
      "text/plain": [
       "-0.0703839280647581"
      ]
     },
     "execution_count": 28,
     "metadata": {},
     "output_type": "execute_result"
    }
   ],
   "source": [
    "data[(data['year_of_release']>=2014) & (data['platform']=='XOne')]['total_sales'].corr(data['user_score'])"
   ]
  },
  {
   "cell_type": "code",
   "execution_count": 29,
   "id": "f645dca7",
   "metadata": {},
   "outputs": [
    {
     "data": {
      "image/png": "[encoded data removed]",
      "text/plain": [
       "<Figure size 720x432 with 1 Axes>"
      ]
     },
     "metadata": {
      "needs_background": "light"
     },
     "output_type": "display_data"
    }
   ],
   "source": [
    "data[(data['year_of_release']>=2014) & (data['platform']=='XOne')].plot(x='user_score', y='total_sales', kind='scatter',\\\n",
    "alpha=0.3, figsize= (10,6), grid=True, xlabel = 'Оценки пользователей', ylabel = 'Продажи', ylim=(0,5),\\\n",
    "title = 'Диаграмма рассеяния продаж по отношению к оценкам пользователей XOne');"
   ]
  },
  {
   "cell_type": "code",
   "execution_count": 30,
   "id": "0e9691d8",
   "metadata": {},
   "outputs": [
    {
     "data": {
      "text/plain": [
       "0.42867694370333226"
      ]
     },
     "execution_count": 30,
     "metadata": {},
     "output_type": "execute_result"
    }
   ],
   "source": [
    "data[(data['year_of_release']>=2014) & (data['platform']=='XOne')]['total_sales'].corr(data['critic_score'])"
   ]
  },
  {
   "cell_type": "code",
   "execution_count": 31,
   "id": "7745b58c",
   "metadata": {},
   "outputs": [
    {
     "data": {
      "image/png": "[encoded data removed]",
      "text/plain": [
       "<Figure size 720x432 with 1 Axes>"
      ]
     },
     "metadata": {
      "needs_background": "light"
     },
     "output_type": "display_data"
    }
   ],
   "source": [
    "data[(data['year_of_release']>=2014) & (data['platform']=='XOne')].plot(x='critic_score', y='total_sales', kind='scatter',\\\n",
    "alpha=0.3, figsize= (10,6), grid=True, xlabel = 'Оценки пользователей', ylabel = 'Продажи', ylim=(0,8),\\\n",
    "title = 'Диаграмма рассеяния продаж по отношению к оценкам критиков XOne');"
   ]
  },
  {
   "cell_type": "markdown",
   "id": "61913c10",
   "metadata": {},
   "source": [
    "***Полученные значения Xone очень схожи с показаниями PS4. Зависимость между оценками пользователей и продажами почти нулевая. Зависмость между продажами и оценками критиков тут чуть выше, умеренная.*** "
   ]
  },
  {
   "cell_type": "code",
   "execution_count": null,
   "id": "67defc74",
   "metadata": {},
   "outputs": [],
   "source": []
  },
  {
   "cell_type": "markdown",
   "id": "06012dcc",
   "metadata": {},
   "source": [
    "***Рассмотрим платформу WiiU.*** "
   ]
  },
  {
   "cell_type": "code",
   "execution_count": 32,
   "id": "8746be76",
   "metadata": {},
   "outputs": [
    {
     "data": {
      "text/plain": [
       "0.4079264579217078"
      ]
     },
     "execution_count": 32,
     "metadata": {},
     "output_type": "execute_result"
    }
   ],
   "source": [
    "data[(data['year_of_release']>=2014) & (data['platform']=='WiiU')]['total_sales'].corr(data['user_score'])"
   ]
  },
  {
   "cell_type": "code",
   "execution_count": 33,
   "id": "71fad41b",
   "metadata": {},
   "outputs": [
    {
     "data": {
      "image/png": "[encoded data removed]",
      "text/plain": [
       "<Figure size 720x432 with 1 Axes>"
      ]
     },
     "metadata": {
      "needs_background": "light"
     },
     "output_type": "display_data"
    }
   ],
   "source": [
    "data[(data['year_of_release']>=2014) & (data['platform']=='WiiU')].plot(x='user_score', y='total_sales', kind='scatter',\\\n",
    "alpha=0.3, figsize= (10,6), grid=True, xlabel = 'Оценки пользователей', ylabel = 'Продажи', ylim=(0,5),\\\n",
    "title = 'Диаграмма рассеяния продаж по отношению к оценкам пользователей WiiU');"
   ]
  },
  {
   "cell_type": "code",
   "execution_count": 34,
   "id": "57442f37",
   "metadata": {},
   "outputs": [
    {
     "data": {
      "text/plain": [
       "0.370201412480884"
      ]
     },
     "execution_count": 34,
     "metadata": {},
     "output_type": "execute_result"
    }
   ],
   "source": [
    "data[(data['year_of_release']>=2014) & (data['platform']=='WiiU')]['total_sales'].corr(data['critic_score'])"
   ]
  },
  {
   "cell_type": "code",
   "execution_count": 35,
   "id": "7646520a",
   "metadata": {},
   "outputs": [
    {
     "data": {
      "image/png": "[encoded data removed]",
      "text/plain": [
       "<Figure size 720x432 with 1 Axes>"
      ]
     },
     "metadata": {
      "needs_background": "light"
     },
     "output_type": "display_data"
    }
   ],
   "source": [
    "data[(data['year_of_release']>=2014) & (data['platform']=='WiiU')].plot(x='critic_score', y='total_sales', kind='scatter',\\\n",
    "alpha=0.3, figsize= (10,6), grid=True, xlabel = 'Оценки пользователей', ylabel = 'Продажи', ylim=(0,8),\\\n",
    "title = 'Диаграмма рассеяния продаж по отношению к оценкам критиков WiiU');"
   ]
  },
  {
   "cell_type": "markdown",
   "id": "6d37dbaf",
   "metadata": {},
   "source": [
    "***Пользователи платформы WiiU больше ореинтируются на отзывы пользователей. Тут значения корреляции намного выше в сравнение с двумя другими платформами.***"
   ]
  },
  {
   "cell_type": "markdown",
   "id": "0891f6db",
   "metadata": {},
   "source": [
    "***Рассмотрим платформу 3DS***"
   ]
  },
  {
   "cell_type": "code",
   "execution_count": 36,
   "id": "f8d4cdff",
   "metadata": {},
   "outputs": [
    {
     "data": {
      "text/plain": [
       "0.2151932718527028"
      ]
     },
     "execution_count": 36,
     "metadata": {},
     "output_type": "execute_result"
    }
   ],
   "source": [
    "data[(data['year_of_release']>=2014) & (data['platform']=='3DS')]['total_sales'].corr(data['user_score'])"
   ]
  },
  {
   "cell_type": "code",
   "execution_count": 37,
   "id": "666f50e0",
   "metadata": {},
   "outputs": [
    {
     "data": {
      "image/png": "[encoded data removed]",
      "text/plain": [
       "<Figure size 720x432 with 1 Axes>"
      ]
     },
     "metadata": {
      "needs_background": "light"
     },
     "output_type": "display_data"
    }
   ],
   "source": [
    "data[(data['year_of_release']>=2014) & (data['platform']=='3DS')].plot(x='user_score', y='total_sales', kind='scatter',\\\n",
    "alpha=0.3, figsize= (10,6), grid=True, xlabel = 'Оценки пользователей', ylabel = 'Продажи', ylim=(0,5),\\\n",
    "title = 'Диаграмма рассеяния продаж по отношению к оценкам пользователей 3DS');"
   ]
  },
  {
   "cell_type": "code",
   "execution_count": 38,
   "id": "f5fd8e5d",
   "metadata": {},
   "outputs": [
    {
     "data": {
      "text/plain": [
       "0.31411749286905105"
      ]
     },
     "execution_count": 38,
     "metadata": {},
     "output_type": "execute_result"
    }
   ],
   "source": [
    "data[(data['year_of_release']>=2014) & (data['platform']=='3DS')]['total_sales'].corr(data['critic_score'])"
   ]
  },
  {
   "cell_type": "code",
   "execution_count": 39,
   "id": "85411856",
   "metadata": {},
   "outputs": [
    {
     "data": {
      "image/png": "[encoded data removed]",
      "text/plain": [
       "<Figure size 720x432 with 1 Axes>"
      ]
     },
     "metadata": {
      "needs_background": "light"
     },
     "output_type": "display_data"
    }
   ],
   "source": [
    "data[(data['year_of_release']>=2014) & (data['platform']=='3DS')].plot(x='critic_score', y='total_sales', kind='scatter',\\\n",
    "alpha=0.3, figsize= (10,6), grid=True, xlabel = 'Оценки пользователей', ylabel = 'Продажи', ylim=(0,8),\\\n",
    "title = 'Диаграмма рассеяния продаж по отношению к оценкам критиков 3DS');"
   ]
  },
  {
   "cell_type": "markdown",
   "id": "99456066",
   "metadata": {},
   "source": [
    "***Как мы видим продажи на платформе 3DS имеют слабо выраженную зависмость по отношению к оценкам пользователей.К оценкам критиков прислушиваются чуть больше.***"
   ]
  },
  {
   "cell_type": "markdown",
   "id": "ce0bf821",
   "metadata": {},
   "source": [
    "***Рассмотрим платформу PC***"
   ]
  },
  {
   "cell_type": "code",
   "execution_count": 40,
   "id": "9d1ed007",
   "metadata": {},
   "outputs": [
    {
     "data": {
      "text/plain": [
       "-0.07159665703472452"
      ]
     },
     "execution_count": 40,
     "metadata": {},
     "output_type": "execute_result"
    }
   ],
   "source": [
    "data[(data['year_of_release']>=2014) & (data['platform']=='PC')]['total_sales'].corr(data['user_score'])"
   ]
  },
  {
   "cell_type": "code",
   "execution_count": 41,
   "id": "3db9a5cc",
   "metadata": {},
   "outputs": [
    {
     "data": {
      "image/png": "[encoded data removed]",
      "text/plain": [
       "<Figure size 720x432 with 1 Axes>"
      ]
     },
     "metadata": {
      "needs_background": "light"
     },
     "output_type": "display_data"
    }
   ],
   "source": [
    "data[(data['year_of_release']>=2014) & (data['platform']=='PC')].plot(x='user_score', y='total_sales', kind='scatter',\\\n",
    "alpha=0.3, figsize= (10,6), grid=True, xlabel = 'Оценки пользователей', ylabel = 'Продажи', ylim=(0,5),\\\n",
    "title = 'Диаграмма рассеяния продаж по отношению к оценкам пользователей PC');"
   ]
  },
  {
   "cell_type": "code",
   "execution_count": 42,
   "id": "92071568",
   "metadata": {},
   "outputs": [
    {
     "data": {
      "text/plain": [
       "0.17463413769350036"
      ]
     },
     "execution_count": 42,
     "metadata": {},
     "output_type": "execute_result"
    }
   ],
   "source": [
    "data[(data['year_of_release']>=2014) & (data['platform']=='PC')]['total_sales'].corr(data['critic_score'])"
   ]
  },
  {
   "cell_type": "code",
   "execution_count": 43,
   "id": "6c8c28b5",
   "metadata": {},
   "outputs": [
    {
     "data": {
      "image/png": "[encoded data removed]",
      "text/plain": [
       "<Figure size 720x432 with 1 Axes>"
      ]
     },
     "metadata": {
      "needs_background": "light"
     },
     "output_type": "display_data"
    }
   ],
   "source": [
    "data[(data['year_of_release']>=2014) & (data['platform']=='PC')].plot(x='critic_score', y='total_sales', kind='scatter',\\\n",
    "alpha=0.3, figsize= (10,6), grid=True, xlabel = 'Оценки пользователей', ylabel = 'Продажи', ylim=(0,8),\\\n",
    "title = 'Диаграмма рассеяния продаж по отношению к оценкам критиков PC');"
   ]
  },
  {
   "cell_type": "markdown",
   "id": "d99af274",
   "metadata": {},
   "source": [
    "***Для платформы PC, взаимосвязь между продажами либо отсутствует(оценки пользователей), либо очень слабая (оценки криткиов).***"
   ]
  },
  {
   "cell_type": "markdown",
   "id": "648194b6",
   "metadata": {},
   "source": [
    "#### Распределение игр по жанрам. Что можно сказать о самых прибыльных жанрах? Выделяются ли жанры с высокими и низкими продажами?"
   ]
  },
  {
   "cell_type": "code",
   "execution_count": 44,
   "id": "d7abf5b6",
   "metadata": {},
   "outputs": [
    {
     "data": {
      "image/png": "[encoded data removed]",
      "text/plain": [
       "<Figure size 864x432 with 1 Axes>"
      ]
     },
     "metadata": {
      "needs_background": "light"
     },
     "output_type": "display_data"
    }
   ],
   "source": [
    "data[data['year_of_release']>=2014].pivot_table(index='genre', values='total_sales', aggfunc='sum').\\\n",
    "sort_values(by = 'total_sales',ascending=False).plot(kind='bar', grid='True',\\\n",
    "figsize=(12,6), xlabel='Жанр игры', title='Распределение игр по жанрам');"
   ]
  },
  {
   "cell_type": "markdown",
   "id": "dbe04c4b",
   "metadata": {},
   "source": [
    "***Самыми продаваемыми оказались игры с жанром Action, наменьшее количество продаж у пазлов и стратегий.***"
   ]
  },
  {
   "cell_type": "markdown",
   "id": "d0553f99",
   "metadata": {},
   "source": [
    "***Общие продажи не всегда показательны. Расичтаем коэфициент отношения общих продаж к выпущенным играм, по жанрам.***"
   ]
  },
  {
   "cell_type": "code",
   "execution_count": 45,
   "id": "364feab2",
   "metadata": {},
   "outputs": [
    {
     "data": {
      "text/html": [
       "<style type=\"text/css\">\n",
       "#T_96118_row0_col3 {\n",
       "  background-color: #023858;\n",
       "  color: #f1f1f1;\n",
       "}\n",
       "#T_96118_row1_col3 {\n",
       "  background-color: #2081b9;\n",
       "  color: #f1f1f1;\n",
       "}\n",
       "#T_96118_row2_col3 {\n",
       "  background-color: #7eadd1;\n",
       "  color: #f1f1f1;\n",
       "}\n",
       "#T_96118_row3_col3 {\n",
       "  background-color: #80aed2;\n",
       "  color: #f1f1f1;\n",
       "}\n",
       "#T_96118_row4_col3 {\n",
       "  background-color: #84b0d3;\n",
       "  color: #f1f1f1;\n",
       "}\n",
       "#T_96118_row5_col3 {\n",
       "  background-color: #9cb9d9;\n",
       "  color: #000000;\n",
       "}\n",
       "#T_96118_row6_col3 {\n",
       "  background-color: #b4c4df;\n",
       "  color: #000000;\n",
       "}\n",
       "#T_96118_row7_col3 {\n",
       "  background-color: #b8c6e0;\n",
       "  color: #000000;\n",
       "}\n",
       "#T_96118_row8_col3 {\n",
       "  background-color: #c0c9e2;\n",
       "  color: #000000;\n",
       "}\n",
       "#T_96118_row9_col3 {\n",
       "  background-color: #e5e1ef;\n",
       "  color: #000000;\n",
       "}\n",
       "#T_96118_row10_col3 {\n",
       "  background-color: #efe9f3;\n",
       "  color: #000000;\n",
       "}\n",
       "#T_96118_row11_col3 {\n",
       "  background-color: #f1ebf4;\n",
       "  color: #000000;\n",
       "}\n",
       "</style>\n",
       "<table id=\"T_96118\">\n",
       "  <thead>\n",
       "    <tr>\n",
       "      <th class=\"blank level0\" >&nbsp;</th>\n",
       "      <th id=\"T_96118_level0_col0\" class=\"col_heading level0 col0\" >genre</th>\n",
       "      <th id=\"T_96118_level0_col1\" class=\"col_heading level0 col1\" >genre_count</th>\n",
       "      <th id=\"T_96118_level0_col2\" class=\"col_heading level0 col2\" >total_sales_sum</th>\n",
       "      <th id=\"T_96118_level0_col3\" class=\"col_heading level0 col3\" >coef</th>\n",
       "    </tr>\n",
       "  </thead>\n",
       "  <tbody>\n",
       "    <tr>\n",
       "      <th id=\"T_96118_level0_row0\" class=\"row_heading level0 row0\" >8</th>\n",
       "      <td id=\"T_96118_row0_col0\" class=\"data row0 col0\" >Shooter</td>\n",
       "      <td id=\"T_96118_row0_col1\" class=\"data row0 col1\" >128</td>\n",
       "      <td id=\"T_96118_row0_col2\" class=\"data row0 col2\" >170.940000</td>\n",
       "      <td id=\"T_96118_row0_col3\" class=\"data row0 col3\" >1.335469</td>\n",
       "    </tr>\n",
       "    <tr>\n",
       "      <th id=\"T_96118_level0_row1\" class=\"row_heading level0 row1\" >10</th>\n",
       "      <td id=\"T_96118_row1_col0\" class=\"data row1 col0\" >Sports</td>\n",
       "      <td id=\"T_96118_row1_col1\" class=\"data row1 col1\" >161</td>\n",
       "      <td id=\"T_96118_row1_col2\" class=\"data row1 col2\" >109.480000</td>\n",
       "      <td id=\"T_96118_row1_col3\" class=\"data row1 col3\" >0.680000</td>\n",
       "    </tr>\n",
       "    <tr>\n",
       "      <th id=\"T_96118_level0_row2\" class=\"row_heading level0 row2\" >4</th>\n",
       "      <td id=\"T_96118_row2_col0\" class=\"data row2 col0\" >Platform</td>\n",
       "      <td id=\"T_96118_row2_col1\" class=\"data row2 col1\" >38</td>\n",
       "      <td id=\"T_96118_row2_col2\" class=\"data row2 col2\" >18.090000</td>\n",
       "      <td id=\"T_96118_row2_col3\" class=\"data row2 col3\" >0.476053</td>\n",
       "    </tr>\n",
       "    <tr>\n",
       "      <th id=\"T_96118_level0_row3\" class=\"row_heading level0 row3\" >2</th>\n",
       "      <td id=\"T_96118_row3_col0\" class=\"data row3 col0\" >Fighting</td>\n",
       "      <td id=\"T_96118_row3_col1\" class=\"data row3 col1\" >60</td>\n",
       "      <td id=\"T_96118_row3_col2\" class=\"data row3 col2\" >28.220000</td>\n",
       "      <td id=\"T_96118_row3_col3\" class=\"data row3 col3\" >0.470333</td>\n",
       "    </tr>\n",
       "    <tr>\n",
       "      <th id=\"T_96118_level0_row4\" class=\"row_heading level0 row4\" >7</th>\n",
       "      <td id=\"T_96118_row4_col0\" class=\"data row4 col0\" >Role-Playing</td>\n",
       "      <td id=\"T_96118_row4_col1\" class=\"data row4 col1\" >221</td>\n",
       "      <td id=\"T_96118_row4_col2\" class=\"data row4 col2\" >101.440000</td>\n",
       "      <td id=\"T_96118_row4_col3\" class=\"data row4 col3\" >0.459005</td>\n",
       "    </tr>\n",
       "    <tr>\n",
       "      <th id=\"T_96118_level0_row5\" class=\"row_heading level0 row5\" >6</th>\n",
       "      <td id=\"T_96118_row5_col0\" class=\"data row5 col0\" >Racing</td>\n",
       "      <td id=\"T_96118_row5_col1\" class=\"data row5 col1\" >69</td>\n",
       "      <td id=\"T_96118_row5_col2\" class=\"data row5 col2\" >27.520000</td>\n",
       "      <td id=\"T_96118_row5_col3\" class=\"data row5 col3\" >0.398841</td>\n",
       "    </tr>\n",
       "    <tr>\n",
       "      <th id=\"T_96118_level0_row6\" class=\"row_heading level0 row6\" >3</th>\n",
       "      <td id=\"T_96118_row6_col0\" class=\"data row6 col0\" >Misc</td>\n",
       "      <td id=\"T_96118_row6_col1\" class=\"data row6 col1\" >113</td>\n",
       "      <td id=\"T_96118_row6_col2\" class=\"data row6 col2\" >37.550000</td>\n",
       "      <td id=\"T_96118_row6_col3\" class=\"data row6 col3\" >0.332301</td>\n",
       "    </tr>\n",
       "    <tr>\n",
       "      <th id=\"T_96118_level0_row7\" class=\"row_heading level0 row7\" >0</th>\n",
       "      <td id=\"T_96118_row7_col0\" class=\"data row7 col0\" >Action</td>\n",
       "      <td id=\"T_96118_row7_col1\" class=\"data row7 col1\" >619</td>\n",
       "      <td id=\"T_96118_row7_col2\" class=\"data row7 col2\" >199.360000</td>\n",
       "      <td id=\"T_96118_row7_col3\" class=\"data row7 col3\" >0.322068</td>\n",
       "    </tr>\n",
       "    <tr>\n",
       "      <th id=\"T_96118_level0_row8\" class=\"row_heading level0 row8\" >9</th>\n",
       "      <td id=\"T_96118_row8_col0\" class=\"data row8 col0\" >Simulation</td>\n",
       "      <td id=\"T_96118_row8_col1\" class=\"data row8 col1\" >44</td>\n",
       "      <td id=\"T_96118_row8_col2\" class=\"data row8 col2\" >13.130000</td>\n",
       "      <td id=\"T_96118_row8_col3\" class=\"data row8 col3\" >0.298409</td>\n",
       "    </tr>\n",
       "    <tr>\n",
       "      <th id=\"T_96118_level0_row9\" class=\"row_heading level0 row9\" >5</th>\n",
       "      <td id=\"T_96118_row9_col0\" class=\"data row9 col0\" >Puzzle</td>\n",
       "      <td id=\"T_96118_row9_col1\" class=\"data row9 col1\" >14</td>\n",
       "      <td id=\"T_96118_row9_col2\" class=\"data row9 col2\" >2.210000</td>\n",
       "      <td id=\"T_96118_row9_col3\" class=\"data row9 col3\" >0.157857</td>\n",
       "    </tr>\n",
       "    <tr>\n",
       "      <th id=\"T_96118_level0_row10\" class=\"row_heading level0 row10\" >11</th>\n",
       "      <td id=\"T_96118_row10_col0\" class=\"data row10 col0\" >Strategy</td>\n",
       "      <td id=\"T_96118_row10_col1\" class=\"data row10 col1\" >37</td>\n",
       "      <td id=\"T_96118_row10_col2\" class=\"data row10 col2\" >3.960000</td>\n",
       "      <td id=\"T_96118_row10_col3\" class=\"data row10 col3\" >0.107027</td>\n",
       "    </tr>\n",
       "    <tr>\n",
       "      <th id=\"T_96118_level0_row11\" class=\"row_heading level0 row11\" >1</th>\n",
       "      <td id=\"T_96118_row11_col0\" class=\"data row11 col0\" >Adventure</td>\n",
       "      <td id=\"T_96118_row11_col1\" class=\"data row11 col1\" >185</td>\n",
       "      <td id=\"T_96118_row11_col2\" class=\"data row11 col2\" >17.550000</td>\n",
       "      <td id=\"T_96118_row11_col3\" class=\"data row11 col3\" >0.094865</td>\n",
       "    </tr>\n",
       "  </tbody>\n",
       "</table>\n"
      ],
      "text/plain": [
       "<pandas.io.formats.style.Styler at 0x7f52f732f370>"
      ]
     },
     "execution_count": 45,
     "metadata": {},
     "output_type": "execute_result"
    }
   ],
   "source": [
    "sales_coef = data[data['year_of_release']>=2014].groupby('genre').agg(genre_count=('genre','count'),\\\n",
    "                                                                      total_sales_sum=('total_sales', 'sum'))\n",
    "sales_coef = sales_coef.reset_index()\n",
    "sales_coef['coef'] = sales_coef['total_sales_sum']/sales_coef['genre_count']\n",
    "\n",
    "sales_coef.sort_values(by='coef', ascending=False).style.background_gradient(subset = 'coef', vmin=0, vmax=1)"
   ]
  },
  {
   "cell_type": "code",
   "execution_count": 46,
   "id": "6beea4e5",
   "metadata": {},
   "outputs": [
    {
     "data": {
      "image/png": "[encoded data removed]",
      "text/plain": [
       "<Figure size 864x432 with 1 Axes>"
      ]
     },
     "metadata": {
      "needs_background": "light"
     },
     "output_type": "display_data"
    }
   ],
   "source": [
    "sales_coef.plot(kind='bar',x='genre', y='coef', grid='True',\\\n",
    "figsize=(12,6), xlabel='Жанр игры', title='График отношения суммарных продаж к количеству выпущенных игр, по жанрам');"
   ]
  },
  {
   "cell_type": "markdown",
   "id": "eb3f0b6b",
   "metadata": {},
   "source": [
    "***Из вычеслений мы видим, что хоть игры в жанре Action и являются самыми продаваемыми, по соотношению количества выпущенных игр к продажам более популярными в актульный период, у пользователей оказались игры в жанре Shooter и Sports. Это так же может говорить о том, что в жанре Action большая конкуренция.***"
   ]
  },
  {
   "cell_type": "code",
   "execution_count": 47,
   "id": "911b4351",
   "metadata": {},
   "outputs": [
    {
     "data": {
      "image/png": "[encoded data removed]",
      "text/plain": [
       "<Figure size 1152x720 with 1 Axes>"
      ]
     },
     "metadata": {
      "needs_background": "light"
     },
     "output_type": "display_data"
    }
   ],
   "source": [
    "plt.figure(figsize=(16,10))\n",
    "plt.xlim(0,4)\n",
    "sns.boxplot(y=profit_platform['genre'],\n",
    "            x=profit_platform['total_sales'],\n",
    "           showmeans=True,\n",
    "           linewidth=True)\n",
    "plt.grid(True)\n",
    "plt.xlabel('Количество проданных игр')\n",
    "plt.ylabel('Жанр')\n",
    "plt.title('Диаграмма размаха по глобальным продажам, по жанрам');"
   ]
  },
  {
   "cell_type": "markdown",
   "id": "6d86b7f8",
   "metadata": {},
   "source": [
    "***Из диаграммы видно, что наиболее стабильно себя показывает жанр Shooter, Sports и Platform. У них достаточно высоко находятся показатели 0.25 кваньтили, и разница между медианой и средним по сравнению с другими меньше.***"
   ]
  },
  {
   "cell_type": "code",
   "execution_count": null,
   "id": "caa01487",
   "metadata": {},
   "outputs": [],
   "source": []
  },
  {
   "cell_type": "code",
   "execution_count": 48,
   "id": "0ff46e7b",
   "metadata": {},
   "outputs": [
    {
     "data": {
      "image/png": "[encoded data removed]",
      "text/plain": [
       "<Figure size 1152x720 with 1 Axes>"
      ]
     },
     "metadata": {
      "needs_background": "light"
     },
     "output_type": "display_data"
    }
   ],
   "source": [
    "# check\n",
    "plt.figure(figsize=(16,10))\n",
    "\n",
    "sns.boxplot(y=profit_platform['genre'],\n",
    "            x=profit_platform['total_sales'],\n",
    "           showmeans=True,\n",
    "           linewidth=True)\n",
    "plt.grid(True)\n",
    "plt.xlabel('Количество проданных игр')\n",
    "plt.ylabel('Жанр')\n",
    "plt.title('Диаграмма размаха по глобальным продажам, по жанрам');"
   ]
  },
  {
   "cell_type": "markdown",
   "id": "7944c37e",
   "metadata": {},
   "source": [
    "***Краткий вывод:***\n",
    " - Больше всего игр продавалось в период 2008-2009г. В среднем продолжительность жизни платформы 10 лет.\n",
    " - За последние несколько лет наиболее популярыми платформами стали PS4, XOne, 3DS и WiiU. PC занимает свою нишу и держит уровень продаж.\n",
    " - Для платформ PS4, XOne, 3DS, PC отзывы пользователей напрямую не влияют на количество продаж. Отзывы критиков оказывают умеренное влияние для всех кроме PC, там влияние выражено слабо. Для WiiU все отзывы оказывают умеренное влияние на продажи.\n",
    " - Наиболее продаваемыми жанрами оказались Action, Shooter, Sports, RPG."
   ]
  },
  {
   "cell_type": "markdown",
   "id": "aeab927b",
   "metadata": {},
   "source": [
    "## Составьте портрет пользователя каждого региона"
   ]
  },
  {
   "cell_type": "markdown",
   "id": "c44cb2b8",
   "metadata": {},
   "source": [
    "### Самые популярные платформы (топ-5) для пользователей каждого региона (NA, EU, JP)"
   ]
  },
  {
   "cell_type": "code",
   "execution_count": 49,
   "id": "78caa1ba",
   "metadata": {},
   "outputs": [
    {
     "data": {
      "text/html": [
       "<div>\n",
       "<style scoped>\n",
       "    .dataframe tbody tr th:only-of-type {\n",
       "        vertical-align: middle;\n",
       "    }\n",
       "\n",
       "    .dataframe tbody tr th {\n",
       "        vertical-align: top;\n",
       "    }\n",
       "\n",
       "    .dataframe thead th {\n",
       "        text-align: right;\n",
       "    }\n",
       "</style>\n",
       "<table border=\"1\" class=\"dataframe\">\n",
       "  <thead>\n",
       "    <tr style=\"text-align: right;\">\n",
       "      <th></th>\n",
       "      <th>na_sales</th>\n",
       "    </tr>\n",
       "    <tr>\n",
       "      <th>platform</th>\n",
       "      <th></th>\n",
       "    </tr>\n",
       "  </thead>\n",
       "  <tbody>\n",
       "    <tr>\n",
       "      <th>PS4</th>\n",
       "      <td>98.61</td>\n",
       "    </tr>\n",
       "    <tr>\n",
       "      <th>XOne</th>\n",
       "      <td>81.27</td>\n",
       "    </tr>\n",
       "    <tr>\n",
       "      <th>X360</th>\n",
       "      <td>28.30</td>\n",
       "    </tr>\n",
       "    <tr>\n",
       "      <th>3DS</th>\n",
       "      <td>22.64</td>\n",
       "    </tr>\n",
       "    <tr>\n",
       "      <th>PS3</th>\n",
       "      <td>22.05</td>\n",
       "    </tr>\n",
       "  </tbody>\n",
       "</table>\n",
       "</div>"
      ],
      "text/plain": [
       "          na_sales\n",
       "platform          \n",
       "PS4          98.61\n",
       "XOne         81.27\n",
       "X360         28.30\n",
       "3DS          22.64\n",
       "PS3          22.05"
      ]
     },
     "execution_count": 49,
     "metadata": {},
     "output_type": "execute_result"
    }
   ],
   "source": [
    "data[data['year_of_release']>=2014].pivot_table(index='platform', values='na_sales', aggfunc='sum').\\\n",
    "sort_values(by = 'na_sales',ascending=False).head()"
   ]
  },
  {
   "cell_type": "markdown",
   "id": "1ca14fce",
   "metadata": {},
   "source": [
    "***Самыми популярными платформами в Северной Америке оказались PS4 и Xone. Старая модель Х360 еще так же пользуется популярностью. Замыкают пятерку ЗDS и PS3.***"
   ]
  },
  {
   "cell_type": "code",
   "execution_count": 50,
   "id": "1255dee9",
   "metadata": {},
   "outputs": [
    {
     "data": {
      "text/html": [
       "<div>\n",
       "<style scoped>\n",
       "    .dataframe tbody tr th:only-of-type {\n",
       "        vertical-align: middle;\n",
       "    }\n",
       "\n",
       "    .dataframe tbody tr th {\n",
       "        vertical-align: top;\n",
       "    }\n",
       "\n",
       "    .dataframe thead th {\n",
       "        text-align: right;\n",
       "    }\n",
       "</style>\n",
       "<table border=\"1\" class=\"dataframe\">\n",
       "  <thead>\n",
       "    <tr style=\"text-align: right;\">\n",
       "      <th></th>\n",
       "      <th>eu_sales</th>\n",
       "    </tr>\n",
       "    <tr>\n",
       "      <th>platform</th>\n",
       "      <th></th>\n",
       "    </tr>\n",
       "  </thead>\n",
       "  <tbody>\n",
       "    <tr>\n",
       "      <th>PS4</th>\n",
       "      <td>130.04</td>\n",
       "    </tr>\n",
       "    <tr>\n",
       "      <th>XOne</th>\n",
       "      <td>46.25</td>\n",
       "    </tr>\n",
       "    <tr>\n",
       "      <th>PS3</th>\n",
       "      <td>25.54</td>\n",
       "    </tr>\n",
       "    <tr>\n",
       "      <th>PC</th>\n",
       "      <td>17.97</td>\n",
       "    </tr>\n",
       "    <tr>\n",
       "      <th>3DS</th>\n",
       "      <td>16.12</td>\n",
       "    </tr>\n",
       "  </tbody>\n",
       "</table>\n",
       "</div>"
      ],
      "text/plain": [
       "          eu_sales\n",
       "platform          \n",
       "PS4         130.04\n",
       "XOne         46.25\n",
       "PS3          25.54\n",
       "PC           17.97\n",
       "3DS          16.12"
      ]
     },
     "execution_count": 50,
     "metadata": {},
     "output_type": "execute_result"
    }
   ],
   "source": [
    "data[data['year_of_release']>=2014].pivot_table(index='platform', values='eu_sales', aggfunc='sum').\\\n",
    "sort_values(by = 'eu_sales',ascending=False).head()\n"
   ]
  },
  {
   "cell_type": "markdown",
   "id": "61406e5c",
   "metadata": {},
   "source": [
    "***В Европе наибольшей популярностью пользуются консоли PS4. ХOne значительно уступает им,(более чем в 2.5 раза) хотя в Америке разница была не столь велика. Так же в Европе еще популярны PS3. В списке так же появилась PC, чего в Америке не наблюдалось.***"
   ]
  },
  {
   "cell_type": "code",
   "execution_count": 51,
   "id": "74cf6ea1",
   "metadata": {},
   "outputs": [
    {
     "data": {
      "text/html": [
       "<div>\n",
       "<style scoped>\n",
       "    .dataframe tbody tr th:only-of-type {\n",
       "        vertical-align: middle;\n",
       "    }\n",
       "\n",
       "    .dataframe tbody tr th {\n",
       "        vertical-align: top;\n",
       "    }\n",
       "\n",
       "    .dataframe thead th {\n",
       "        text-align: right;\n",
       "    }\n",
       "</style>\n",
       "<table border=\"1\" class=\"dataframe\">\n",
       "  <thead>\n",
       "    <tr style=\"text-align: right;\">\n",
       "      <th></th>\n",
       "      <th>jp_sales</th>\n",
       "    </tr>\n",
       "    <tr>\n",
       "      <th>platform</th>\n",
       "      <th></th>\n",
       "    </tr>\n",
       "  </thead>\n",
       "  <tbody>\n",
       "    <tr>\n",
       "      <th>3DS</th>\n",
       "      <td>44.24</td>\n",
       "    </tr>\n",
       "    <tr>\n",
       "      <th>PS4</th>\n",
       "      <td>15.02</td>\n",
       "    </tr>\n",
       "    <tr>\n",
       "      <th>PSV</th>\n",
       "      <td>14.54</td>\n",
       "    </tr>\n",
       "    <tr>\n",
       "      <th>PS3</th>\n",
       "      <td>11.22</td>\n",
       "    </tr>\n",
       "    <tr>\n",
       "      <th>WiiU</th>\n",
       "      <td>7.31</td>\n",
       "    </tr>\n",
       "  </tbody>\n",
       "</table>\n",
       "</div>"
      ],
      "text/plain": [
       "          jp_sales\n",
       "platform          \n",
       "3DS          44.24\n",
       "PS4          15.02\n",
       "PSV          14.54\n",
       "PS3          11.22\n",
       "WiiU          7.31"
      ]
     },
     "execution_count": 51,
     "metadata": {},
     "output_type": "execute_result"
    }
   ],
   "source": [
    "data[data['year_of_release']>=2014].pivot_table(index='platform', values='jp_sales', aggfunc='sum').\\\n",
    "sort_values(by = 'jp_sales',ascending=False).head()"
   ]
  },
  {
   "cell_type": "markdown",
   "id": "7dcaa549",
   "metadata": {},
   "source": [
    "***В Японии картина меняется. Лидирует с большим отрывом портативная консоль 3DS, на 3 месет PSV, так же замыкает пятерку лидеров WiiU. Целых 3 портивыне консоли в топ 5. Вероятно японцы любят играть по дороге на работу, в метро, итд. и там портативные консоли очень удобны и популярны. В топ 5, нет консолей Xbox. На втором PS4, на четвертом PS3.***"
   ]
  },
  {
   "cell_type": "code",
   "execution_count": 52,
   "id": "a30f0b15",
   "metadata": {},
   "outputs": [],
   "source": [
    "actual = data[data['year_of_release']>=2014]"
   ]
  },
  {
   "cell_type": "code",
   "execution_count": 53,
   "id": "0d8c39a1",
   "metadata": {},
   "outputs": [],
   "source": [
    "eu_pie = actual.groupby('platform')['eu_sales'].sum().sort_values(ascending=False)\n",
    "na_pie = actual.groupby('platform')['na_sales'].sum().sort_values(ascending=False)\n",
    "jp_pie = actual.groupby('platform')['jp_sales'].sum().sort_values(ascending=False)"
   ]
  },
  {
   "cell_type": "code",
   "execution_count": 54,
   "id": "a26cfe75",
   "metadata": {},
   "outputs": [],
   "source": [
    "top5_eu = eu_pie.head().index\n",
    "top5_na = na_pie.head().index\n",
    "top5_jp = jp_pie.head().index"
   ]
  },
  {
   "cell_type": "code",
   "execution_count": 55,
   "id": "4ace0eb9",
   "metadata": {},
   "outputs": [],
   "source": [
    "for i in jp_pie.index:\n",
    "    if i in top5_jp:\n",
    "        pass\n",
    "    else:\n",
    "        jp_pie.rename(index={i:'Other'}, inplace=True)"
   ]
  },
  {
   "cell_type": "code",
   "execution_count": 56,
   "id": "33b8770b",
   "metadata": {},
   "outputs": [],
   "source": [
    "for z in eu_pie.index:\n",
    "    if z in top5_eu:\n",
    "        pass\n",
    "    else:\n",
    "        eu_pie.rename(index={z:'Other'}, inplace=True)"
   ]
  },
  {
   "cell_type": "code",
   "execution_count": 57,
   "id": "a23d575d",
   "metadata": {},
   "outputs": [],
   "source": [
    "for q in na_pie.index:\n",
    "    if q in top5_na:\n",
    "        pass\n",
    "    else:\n",
    "        na_pie.rename(index={q:'Other'}, inplace=True)"
   ]
  },
  {
   "cell_type": "code",
   "execution_count": 58,
   "id": "bb638f02",
   "metadata": {},
   "outputs": [],
   "source": [
    "eu_pie = eu_pie.reset_index().groupby('platform')['eu_sales'].sum().sort_values(ascending=False)\n",
    "na_pie = na_pie.reset_index().groupby('platform')['na_sales'].sum().sort_values(ascending=False)\n",
    "jp_pie = jp_pie.reset_index().groupby('platform')['jp_sales'].sum().sort_values(ascending=False)"
   ]
  },
  {
   "cell_type": "code",
   "execution_count": 59,
   "id": "2146d44f",
   "metadata": {},
   "outputs": [
    {
     "data": {
      "image/png": "[encoded data removed]",
      "text/plain": [
       "<Figure size 1080x360 with 3 Axes>"
      ]
     },
     "metadata": {},
     "output_type": "display_data"
    }
   ],
   "source": [
    "plt.suptitle('Топ 5 платформ в регионах', fontsize=\"large\")\n",
    "\n",
    "\n",
    "plt.subplot(1, 3, 1)\n",
    "eu_pie.plot.pie(figsize=(15,5), autopct=\"%.1f%%\", ylabel='', title='Europe')\n",
    "\n",
    "plt.subplot(1, 3, 2)\n",
    "na_pie.plot.pie(figsize=(15,5), autopct=\"%.1f%%\", ylabel='', title='North America')\n",
    "\n",
    "plt.subplot(1, 3, 3)\n",
    "jp_pie.plot.pie(figsize=(15,5), autopct=\"%.1f%%\", ylabel='', title='Japan');\n",
    "\n"
   ]
  },
  {
   "cell_type": "markdown",
   "id": "8d188d49",
   "metadata": {},
   "source": [
    "***На диаграммах отчетливо видно соотношение платформ по популярности. Стоит отметить, что продажи по платформам которые не вошли в топ 5 занимают лишь десятую часть в Европе и Америке, и лишь 0.8% в Японии.***"
   ]
  },
  {
   "cell_type": "code",
   "execution_count": null,
   "id": "fc585e19",
   "metadata": {},
   "outputs": [],
   "source": []
  },
  {
   "cell_type": "markdown",
   "id": "2265fb70",
   "metadata": {},
   "source": [
    "### Самые популярные жанры (топ-5). Поясните разницу."
   ]
  },
  {
   "cell_type": "code",
   "execution_count": 60,
   "id": "0e6c7742",
   "metadata": {},
   "outputs": [
    {
     "data": {
      "text/html": [
       "<div>\n",
       "<style scoped>\n",
       "    .dataframe tbody tr th:only-of-type {\n",
       "        vertical-align: middle;\n",
       "    }\n",
       "\n",
       "    .dataframe tbody tr th {\n",
       "        vertical-align: top;\n",
       "    }\n",
       "\n",
       "    .dataframe thead th {\n",
       "        text-align: right;\n",
       "    }\n",
       "</style>\n",
       "<table border=\"1\" class=\"dataframe\">\n",
       "  <thead>\n",
       "    <tr style=\"text-align: right;\">\n",
       "      <th></th>\n",
       "      <th>na_sales</th>\n",
       "    </tr>\n",
       "    <tr>\n",
       "      <th>genre</th>\n",
       "      <th></th>\n",
       "    </tr>\n",
       "  </thead>\n",
       "  <tbody>\n",
       "    <tr>\n",
       "      <th>Shooter</th>\n",
       "      <td>79.02</td>\n",
       "    </tr>\n",
       "    <tr>\n",
       "      <th>Action</th>\n",
       "      <td>72.53</td>\n",
       "    </tr>\n",
       "    <tr>\n",
       "      <th>Sports</th>\n",
       "      <td>46.13</td>\n",
       "    </tr>\n",
       "    <tr>\n",
       "      <th>Role-Playing</th>\n",
       "      <td>33.47</td>\n",
       "    </tr>\n",
       "    <tr>\n",
       "      <th>Misc</th>\n",
       "      <td>15.05</td>\n",
       "    </tr>\n",
       "  </tbody>\n",
       "</table>\n",
       "</div>"
      ],
      "text/plain": [
       "              na_sales\n",
       "genre                 \n",
       "Shooter          79.02\n",
       "Action           72.53\n",
       "Sports           46.13\n",
       "Role-Playing     33.47\n",
       "Misc             15.05"
      ]
     },
     "execution_count": 60,
     "metadata": {},
     "output_type": "execute_result"
    }
   ],
   "source": [
    "actual.pivot_table(index='genre', values='na_sales', aggfunc='sum').\\\n",
    "sort_values(by = 'na_sales',ascending=False).head()"
   ]
  },
  {
   "cell_type": "markdown",
   "id": "97a8424e",
   "metadata": {},
   "source": [
    "***Самыми популярными жанрами оказались Shooter и Action. Так же популярны Sport и RPG. Замыкают пятерку игры жанра Misc***"
   ]
  },
  {
   "cell_type": "code",
   "execution_count": 61,
   "id": "9778cd7d",
   "metadata": {},
   "outputs": [
    {
     "data": {
      "text/html": [
       "<div>\n",
       "<style scoped>\n",
       "    .dataframe tbody tr th:only-of-type {\n",
       "        vertical-align: middle;\n",
       "    }\n",
       "\n",
       "    .dataframe tbody tr th {\n",
       "        vertical-align: top;\n",
       "    }\n",
       "\n",
       "    .dataframe thead th {\n",
       "        text-align: right;\n",
       "    }\n",
       "</style>\n",
       "<table border=\"1\" class=\"dataframe\">\n",
       "  <thead>\n",
       "    <tr style=\"text-align: right;\">\n",
       "      <th></th>\n",
       "      <th>eu_sales</th>\n",
       "    </tr>\n",
       "    <tr>\n",
       "      <th>genre</th>\n",
       "      <th></th>\n",
       "    </tr>\n",
       "  </thead>\n",
       "  <tbody>\n",
       "    <tr>\n",
       "      <th>Action</th>\n",
       "      <td>74.68</td>\n",
       "    </tr>\n",
       "    <tr>\n",
       "      <th>Shooter</th>\n",
       "      <td>65.52</td>\n",
       "    </tr>\n",
       "    <tr>\n",
       "      <th>Sports</th>\n",
       "      <td>45.73</td>\n",
       "    </tr>\n",
       "    <tr>\n",
       "      <th>Role-Playing</th>\n",
       "      <td>28.17</td>\n",
       "    </tr>\n",
       "    <tr>\n",
       "      <th>Racing</th>\n",
       "      <td>14.13</td>\n",
       "    </tr>\n",
       "  </tbody>\n",
       "</table>\n",
       "</div>"
      ],
      "text/plain": [
       "              eu_sales\n",
       "genre                 \n",
       "Action           74.68\n",
       "Shooter          65.52\n",
       "Sports           45.73\n",
       "Role-Playing     28.17\n",
       "Racing           14.13"
      ]
     },
     "execution_count": 61,
     "metadata": {},
     "output_type": "execute_result"
    }
   ],
   "source": [
    "data[data['year_of_release']>=2014].pivot_table(index='genre', values='eu_sales', aggfunc='sum').\\\n",
    "sort_values(by = 'eu_sales',ascending=False).head()"
   ]
  },
  {
   "cell_type": "markdown",
   "id": "e0d0c2ab",
   "metadata": {},
   "source": [
    "***В Европе ситуаци почти идентичная и сопоставимая, только в шутры играют чуть меньше. На 5 месте оакзались гоночные симуляторы.***"
   ]
  },
  {
   "cell_type": "code",
   "execution_count": 62,
   "id": "58de597d",
   "metadata": {},
   "outputs": [
    {
     "data": {
      "text/html": [
       "<div>\n",
       "<style scoped>\n",
       "    .dataframe tbody tr th:only-of-type {\n",
       "        vertical-align: middle;\n",
       "    }\n",
       "\n",
       "    .dataframe tbody tr th {\n",
       "        vertical-align: top;\n",
       "    }\n",
       "\n",
       "    .dataframe thead th {\n",
       "        text-align: right;\n",
       "    }\n",
       "</style>\n",
       "<table border=\"1\" class=\"dataframe\">\n",
       "  <thead>\n",
       "    <tr style=\"text-align: right;\">\n",
       "      <th></th>\n",
       "      <th>jp_sales</th>\n",
       "    </tr>\n",
       "    <tr>\n",
       "      <th>genre</th>\n",
       "      <th></th>\n",
       "    </tr>\n",
       "  </thead>\n",
       "  <tbody>\n",
       "    <tr>\n",
       "      <th>Role-Playing</th>\n",
       "      <td>31.16</td>\n",
       "    </tr>\n",
       "    <tr>\n",
       "      <th>Action</th>\n",
       "      <td>29.58</td>\n",
       "    </tr>\n",
       "    <tr>\n",
       "      <th>Fighting</th>\n",
       "      <td>6.37</td>\n",
       "    </tr>\n",
       "    <tr>\n",
       "      <th>Misc</th>\n",
       "      <td>5.61</td>\n",
       "    </tr>\n",
       "    <tr>\n",
       "      <th>Shooter</th>\n",
       "      <td>4.87</td>\n",
       "    </tr>\n",
       "  </tbody>\n",
       "</table>\n",
       "</div>"
      ],
      "text/plain": [
       "              jp_sales\n",
       "genre                 \n",
       "Role-Playing     31.16\n",
       "Action           29.58\n",
       "Fighting          6.37\n",
       "Misc              5.61\n",
       "Shooter           4.87"
      ]
     },
     "execution_count": 62,
     "metadata": {},
     "output_type": "execute_result"
    }
   ],
   "source": [
    "data[data['year_of_release']>=2014].pivot_table(index='genre', values='jp_sales', aggfunc='sum').\\\n",
    "sort_values(by = 'jp_sales',ascending=False).head()"
   ]
  },
  {
   "cell_type": "markdown",
   "id": "d0a7f30c",
   "metadata": {},
   "source": [
    "***В Японии с большим отрывом лидируют игры в жанре Action. Так же популярны RPG. Зато шутеры по сравнению с другими регионами не очень популярны, хоть и находятся на 3 месте. Так же в Японии не популярны спортивные симляторы, их нет в топ 5.***"
   ]
  },
  {
   "cell_type": "code",
   "execution_count": 63,
   "id": "81b2d300",
   "metadata": {},
   "outputs": [],
   "source": [
    "na_genre = actual.pivot_table(index='genre', values='na_sales', aggfunc='sum').\\\n",
    "sort_values(by = 'na_sales',ascending=False).reset_index()\n",
    "eu_genre = actual.pivot_table(index='genre', values='eu_sales', aggfunc='sum').\\\n",
    "sort_values(by = 'eu_sales',ascending=False).reset_index()\n",
    "jp_genre = actual.pivot_table(index='genre', values='jp_sales', aggfunc='sum').\\\n",
    "sort_values(by = 'jp_sales',ascending=False).reset_index()"
   ]
  },
  {
   "cell_type": "code",
   "execution_count": 64,
   "id": "fefd68d0",
   "metadata": {},
   "outputs": [],
   "source": [
    "na_genre.iloc[5:,0]='other'\n",
    "eu_genre.iloc[5:,0]='other'\n",
    "jp_genre.iloc[5:,0]='other'"
   ]
  },
  {
   "cell_type": "code",
   "execution_count": 65,
   "id": "4e0e7f3f",
   "metadata": {},
   "outputs": [],
   "source": [
    "eu_genre = eu_genre.reset_index().groupby('genre')['eu_sales'].sum().sort_values(ascending=False)\n",
    "na_genre = na_genre.reset_index().groupby('genre')['na_sales'].sum().sort_values(ascending=False)\n",
    "jp_genre = jp_genre.reset_index().groupby('genre')['jp_sales'].sum().sort_values(ascending=False)"
   ]
  },
  {
   "cell_type": "code",
   "execution_count": 66,
   "id": "88f03b49",
   "metadata": {},
   "outputs": [
    {
     "data": {
      "image/png": "[encoded data removed]",
      "text/plain": [
       "<Figure size 1080x360 with 3 Axes>"
      ]
     },
     "metadata": {},
     "output_type": "display_data"
    }
   ],
   "source": [
    "plt.suptitle('Топ 5 популярных жанров по регионам', fontsize=\"large\")\n",
    "\n",
    "\n",
    "plt.subplot(1, 3, 1)\n",
    "eu_genre.plot.pie(figsize=(15,5), autopct=\"%.1f%%\", ylabel='', title='Europe')\n",
    "\n",
    "plt.subplot(1, 3, 2)\n",
    "na_genre.plot.pie(figsize=(15,5), autopct=\"%.1f%%\", ylabel='', title='North America')\n",
    "\n",
    "plt.subplot(1, 3, 3)\n",
    "jp_genre.plot.pie(figsize=(15,5), autopct=\"%.1f%%\", ylabel='', title='Japan');"
   ]
  },
  {
   "cell_type": "markdown",
   "id": "201dceee",
   "metadata": {},
   "source": [
    "***Как мы видим, доля всех жанров не входящих в топ 5, колеблится от 13% до 17%.***"
   ]
  },
  {
   "cell_type": "markdown",
   "id": "a54e4146",
   "metadata": {},
   "source": [
    "### Влияет ли рейтинг ESRB на продажи в отдельном регионе?"
   ]
  },
  {
   "cell_type": "code",
   "execution_count": 67,
   "id": "bfe62622",
   "metadata": {},
   "outputs": [
    {
     "data": {
      "text/html": [
       "<div>\n",
       "<style scoped>\n",
       "    .dataframe tbody tr th:only-of-type {\n",
       "        vertical-align: middle;\n",
       "    }\n",
       "\n",
       "    .dataframe tbody tr th {\n",
       "        vertical-align: top;\n",
       "    }\n",
       "\n",
       "    .dataframe thead th {\n",
       "        text-align: right;\n",
       "    }\n",
       "</style>\n",
       "<table border=\"1\" class=\"dataframe\">\n",
       "  <thead>\n",
       "    <tr style=\"text-align: right;\">\n",
       "      <th></th>\n",
       "      <th>na_sales</th>\n",
       "    </tr>\n",
       "    <tr>\n",
       "      <th>rating</th>\n",
       "      <th></th>\n",
       "    </tr>\n",
       "  </thead>\n",
       "  <tbody>\n",
       "    <tr>\n",
       "      <th>M</th>\n",
       "      <td>96.42</td>\n",
       "    </tr>\n",
       "    <tr>\n",
       "      <th>no info</th>\n",
       "      <td>64.72</td>\n",
       "    </tr>\n",
       "    <tr>\n",
       "      <th>E</th>\n",
       "      <td>50.74</td>\n",
       "    </tr>\n",
       "    <tr>\n",
       "      <th>T</th>\n",
       "      <td>38.95</td>\n",
       "    </tr>\n",
       "    <tr>\n",
       "      <th>E10+</th>\n",
       "      <td>33.23</td>\n",
       "    </tr>\n",
       "  </tbody>\n",
       "</table>\n",
       "</div>"
      ],
      "text/plain": [
       "         na_sales\n",
       "rating           \n",
       "M           96.42\n",
       "no info     64.72\n",
       "E           50.74\n",
       "T           38.95\n",
       "E10+        33.23"
      ]
     },
     "execution_count": 67,
     "metadata": {},
     "output_type": "execute_result"
    }
   ],
   "source": [
    "actual.pivot_table(index='rating', values='na_sales', aggfunc='sum').\\\n",
    "sort_values(by = 'na_sales',ascending=False)"
   ]
  },
  {
   "cell_type": "markdown",
   "id": "21a53c23",
   "metadata": {},
   "source": [
    "***В Америке наиболее популярны игры рейтинга М(17+). Следом идут игры без возрастных ограничений Е. Замыкают список игры с возрастным ограничеснием Т(13+) и игры для детей Е10+ (дети старше 10 лет). ***"
   ]
  },
  {
   "cell_type": "code",
   "execution_count": 68,
   "id": "5dae3e11",
   "metadata": {},
   "outputs": [
    {
     "data": {
      "text/html": [
       "<div>\n",
       "<style scoped>\n",
       "    .dataframe tbody tr th:only-of-type {\n",
       "        vertical-align: middle;\n",
       "    }\n",
       "\n",
       "    .dataframe tbody tr th {\n",
       "        vertical-align: top;\n",
       "    }\n",
       "\n",
       "    .dataframe thead th {\n",
       "        text-align: right;\n",
       "    }\n",
       "</style>\n",
       "<table border=\"1\" class=\"dataframe\">\n",
       "  <thead>\n",
       "    <tr style=\"text-align: right;\">\n",
       "      <th></th>\n",
       "      <th>eu_sales</th>\n",
       "    </tr>\n",
       "    <tr>\n",
       "      <th>rating</th>\n",
       "      <th></th>\n",
       "    </tr>\n",
       "  </thead>\n",
       "  <tbody>\n",
       "    <tr>\n",
       "      <th>M</th>\n",
       "      <td>93.44</td>\n",
       "    </tr>\n",
       "    <tr>\n",
       "      <th>no info</th>\n",
       "      <td>58.95</td>\n",
       "    </tr>\n",
       "    <tr>\n",
       "      <th>E</th>\n",
       "      <td>58.06</td>\n",
       "    </tr>\n",
       "    <tr>\n",
       "      <th>T</th>\n",
       "      <td>34.07</td>\n",
       "    </tr>\n",
       "    <tr>\n",
       "      <th>E10+</th>\n",
       "      <td>26.16</td>\n",
       "    </tr>\n",
       "  </tbody>\n",
       "</table>\n",
       "</div>"
      ],
      "text/plain": [
       "         eu_sales\n",
       "rating           \n",
       "M           93.44\n",
       "no info     58.95\n",
       "E           58.06\n",
       "T           34.07\n",
       "E10+        26.16"
      ]
     },
     "execution_count": 68,
     "metadata": {},
     "output_type": "execute_result"
    }
   ],
   "source": [
    "actual.pivot_table(index='rating', values='eu_sales', aggfunc='sum').\\\n",
    "sort_values(by = 'eu_sales',ascending=False)"
   ]
  },
  {
   "cell_type": "markdown",
   "id": "30042561",
   "metadata": {},
   "source": [
    "***В Европе ситуация идентичная.***"
   ]
  },
  {
   "cell_type": "code",
   "execution_count": 69,
   "id": "6d7f3e9c",
   "metadata": {},
   "outputs": [
    {
     "data": {
      "text/html": [
       "<div>\n",
       "<style scoped>\n",
       "    .dataframe tbody tr th:only-of-type {\n",
       "        vertical-align: middle;\n",
       "    }\n",
       "\n",
       "    .dataframe tbody tr th {\n",
       "        vertical-align: top;\n",
       "    }\n",
       "\n",
       "    .dataframe thead th {\n",
       "        text-align: right;\n",
       "    }\n",
       "</style>\n",
       "<table border=\"1\" class=\"dataframe\">\n",
       "  <thead>\n",
       "    <tr style=\"text-align: right;\">\n",
       "      <th></th>\n",
       "      <th>jp_sales</th>\n",
       "    </tr>\n",
       "    <tr>\n",
       "      <th>rating</th>\n",
       "      <th></th>\n",
       "    </tr>\n",
       "  </thead>\n",
       "  <tbody>\n",
       "    <tr>\n",
       "      <th>no info</th>\n",
       "      <td>56.90</td>\n",
       "    </tr>\n",
       "    <tr>\n",
       "      <th>T</th>\n",
       "      <td>14.78</td>\n",
       "    </tr>\n",
       "    <tr>\n",
       "      <th>E</th>\n",
       "      <td>8.94</td>\n",
       "    </tr>\n",
       "    <tr>\n",
       "      <th>M</th>\n",
       "      <td>8.01</td>\n",
       "    </tr>\n",
       "    <tr>\n",
       "      <th>E10+</th>\n",
       "      <td>4.46</td>\n",
       "    </tr>\n",
       "  </tbody>\n",
       "</table>\n",
       "</div>"
      ],
      "text/plain": [
       "         jp_sales\n",
       "rating           \n",
       "no info     56.90\n",
       "T           14.78\n",
       "E            8.94\n",
       "M            8.01\n",
       "E10+         4.46"
      ]
     },
     "execution_count": 69,
     "metadata": {},
     "output_type": "execute_result"
    }
   ],
   "source": [
    "actual.pivot_table(index='rating', values='jp_sales', aggfunc='sum').\\\n",
    "sort_values(by = 'jp_sales',ascending=False)"
   ]
  },
  {
   "cell_type": "markdown",
   "id": "5de9a295",
   "metadata": {},
   "source": [
    "***В Японии, в топе, идут игры с детским рейтингом. Игры с рейтингом М значительно отстают в продажах.***"
   ]
  },
  {
   "cell_type": "code",
   "execution_count": 70,
   "id": "3fafcda0",
   "metadata": {},
   "outputs": [
    {
     "data": {
      "image/png": "[encoded data removed]",
      "text/plain": [
       "<Figure size 1080x360 with 3 Axes>"
      ]
     },
     "metadata": {},
     "output_type": "display_data"
    }
   ],
   "source": [
    "plt.suptitle('Распределение продаж по рейтингу ESRB', fontsize=\"large\")\n",
    "\n",
    "\n",
    "plt.subplot(1, 3, 1)\n",
    "actual.groupby('rating')['eu_sales'].sum().sort_values(ascending=False).\\\n",
    "plot.pie(figsize=(15,5), autopct=\"%.1f%%\", ylabel='', title='Europe')\n",
    "\n",
    "plt.subplot(1, 3, 2)\n",
    "actual.groupby('rating')['na_sales'].sum().sort_values(ascending=False).\\\n",
    "plot.pie(figsize=(15,5), autopct=\"%.1f%%\", ylabel='', title='North America')\n",
    "\n",
    "plt.subplot(1, 3, 3)\n",
    "actual.groupby('rating')['jp_sales'].sum().sort_values(ascending=False).\\\n",
    "plot.pie(figsize=(15,5), autopct=\"%.1f%%\", ylabel='', title='Japan');"
   ]
  },
  {
   "cell_type": "markdown",
   "id": "d95ca8cd",
   "metadata": {},
   "source": [
    "***Как видно из диаграммы, в Японии продажи игр без рейтинга составляют 61%, тогда как в Европе и Америка 22%. Это можно связать с тем, что ESRB это американское рейтинговое агентство, и возможно в Японии не обязательно использовать их рейтинги при создании игр. Вероятнее всего у них есть свое агентство, которое это курирует.***"
   ]
  },
  {
   "cell_type": "code",
   "execution_count": null,
   "id": "87ef04ff",
   "metadata": {},
   "outputs": [],
   "source": []
  },
  {
   "cell_type": "markdown",
   "id": "e857fbe2",
   "metadata": {},
   "source": [
    "***Краткий вывод:***\n",
    "- Портреты пользователей для Америки и Европы очень похожи. В обоих случаях большинство игроков предпочитают PS4 или XOne. Наиболее популярные жанры это Shooter, Action и Sports. Самые популярные игры в рейтинег М(17+).\n",
    "- Портрет пользователей Японии отличается. Там преобладают мобильны платформы - топ: 3DS, хотя PS4 и PSV так же достаточно популярны. Так же отличаются предпочтения в жанрах, преобладают Action и RPG. В Японии рейтинги ESRB не влияют на продажи. По рейтингам ESRB преобладают игры c детскими рейтингами."
   ]
  },
  {
   "cell_type": "markdown",
   "id": "f2eb5465",
   "metadata": {},
   "source": [
    "## Проверьте гипотезы"
   ]
  },
  {
   "cell_type": "markdown",
   "id": "c7f5db22",
   "metadata": {},
   "source": [
    "### Средние пользовательские рейтинги платформ Xbox One и PC одинаковые."
   ]
  },
  {
   "cell_type": "markdown",
   "id": "fda93de9",
   "metadata": {},
   "source": [
    "Проверка гипотезы: cредние пользовательские рейтинги платформ Xbox One и PC одинаковые\n",
    "\n",
    "```\n",
    "H_0: Cредние пользовательские рейтинги платформы Xbox One = средние пользовательские рейтинги платформы PC`\n",
    "H_a: Cредние пользовательские рейтинги платформы Xbox One ≠ средние пользовательские рейтинги платформы PC\n",
    "alpha = 0.05\n",
    "```"
   ]
  },
  {
   "cell_type": "code",
   "execution_count": 71,
   "id": "88f45d5e",
   "metadata": {},
   "outputs": [],
   "source": [
    "rating = actual.dropna(subset=['user_score'])"
   ]
  },
  {
   "cell_type": "code",
   "execution_count": 72,
   "id": "1ae169a2",
   "metadata": {},
   "outputs": [],
   "source": [
    "xone_rating = rating[rating['platform']=='XOne']\n",
    "pc_rating = rating[rating['platform']=='PC']\n"
   ]
  },
  {
   "cell_type": "code",
   "execution_count": 73,
   "id": "90400955",
   "metadata": {},
   "outputs": [
    {
     "name": "stdout",
     "output_type": "stream",
     "text": [
      "0.10450507919348415\n",
      "Не получилось отвергнуть нулевую гипотезу\n"
     ]
    }
   ],
   "source": [
    "results = st.ttest_ind (xone_rating['user_score'], pc_rating['user_score'])  \n",
    "alpha = .05\n",
    "\n",
    "print (results.pvalue)  \n",
    "if results.pvalue < alpha:\n",
    "    print ('Отвергаем нулевую гипотезу')\n",
    "else:\n",
    "    print ('Не получилось отвергнуть нулевую гипотезу')"
   ]
  },
  {
   "cell_type": "markdown",
   "id": "3416ae70",
   "metadata": {},
   "source": [
    "***P-value больше альфа.Не получилось отвергнуть нулевую гипотезу, средние пользовательские рейтинги платформ одинаковые.***"
   ]
  },
  {
   "cell_type": "code",
   "execution_count": null,
   "id": "61ace542",
   "metadata": {},
   "outputs": [],
   "source": []
  },
  {
   "cell_type": "markdown",
   "id": "aab928ee",
   "metadata": {},
   "source": [
    "### Средние пользовательские рейтинги жанров Action и Sports разные."
   ]
  },
  {
   "cell_type": "markdown",
   "id": "4d95d68c",
   "metadata": {},
   "source": [
    "Проверка гипотезы: cредние пользовательские рейтинги жанров Action и Sports разные\n",
    "\n",
    "```\n",
    "H_0: cредние пользовательские рейтинги жанра Action = cредние пользовательские рейтинги жанра Sports\n",
    "H_a: cредние пользовательские рейтинги жанра Action ≠ cредние пользовательские рейтинги жанра Sports\n",
    "alpha = 0.05\n",
    "```"
   ]
  },
  {
   "cell_type": "code",
   "execution_count": 74,
   "id": "a047ffa9",
   "metadata": {},
   "outputs": [],
   "source": [
    "action_rating = rating[rating['genre']=='Action']\n",
    "sports_rating = rating[rating['genre']=='Sports']"
   ]
  },
  {
   "cell_type": "code",
   "execution_count": 75,
   "id": "82f053c3",
   "metadata": {},
   "outputs": [
    {
     "name": "stdout",
     "output_type": "stream",
     "text": [
      "2.8711147985105864e-19\n",
      "Отвергаем нулевую гипотезу\n"
     ]
    }
   ],
   "source": [
    "results = st.ttest_ind (sports_rating['user_score'], action_rating['user_score'])  \n",
    "alpha = .05\n",
    "\n",
    "print (results.pvalue)  \n",
    "if results.pvalue < alpha:\n",
    "    print ('Отвергаем нулевую гипотезу')\n",
    "else:\n",
    "    print ('Не получилось отвергнуть нулевую гипотезу')"
   ]
  },
  {
   "cell_type": "markdown",
   "id": "551b2c09",
   "metadata": {},
   "source": [
    "***P-value меньше альфа, соответственно отвергаем нулевую гипотезу, и принимаем альтернативную. Cредние пользовательские рейтинги разыне.***"
   ]
  },
  {
   "cell_type": "markdown",
   "id": "c14d2b16",
   "metadata": {},
   "source": [
    "## Общий вывод"
   ]
  },
  {
   "cell_type": "markdown",
   "id": "e31a0a83",
   "metadata": {},
   "source": [
    "- В ходе проделанной работы мы изучили общую информацию, произвели предобработку данных. Обработали пропущенные значения там, где это было возможно, заменили типы данных. \n",
    "- Провели исследовательский анализ, в ходе которого были выявлены следующие показатели:\n",
    " - Пик продаж приходиться на 2008-2009г. \n",
    " - За все время наблюдений, больше всего продаж приходится на платформы PS2, Х360, PS3, Wii, DS и PS. Они значительно опережат все другие платформы по продажам.\n",
    " - Выяснили, что продолжительность жизни платформы в среднем составляет 10 лет, после чего она обновляется.\n",
    " - Из динамики роста\\падения продаж по платформам, за последние несколько лет, выбрали наиболее прибыльные платформы. Это PS4, XOne, 3DS, PC и WiiU.\n",
    " - Выяснили, что для платформ PS4, XOne, 3DS, PC отзывы пользователей напрямую не влияют на количество продаж. Отзывы критиков оказывают умеренное влияние для всех кроме PC, там влияние выражено слабо. Для WiiU все отзывы оказывают умеренное влияние на продажи.\n",
    " - Выявили самые прибыльные жанры игр. Это оказались Action, Shooter,Sports и RPG. Так же стоит отметить, что отношение продаж к выпущенным играм самое большое у Shooter и Sports, а Action отстает от них. Это может говорить о том, что конкуренция в жанре Action высока, и для высоких продаж нужно делать качественные продукты.\n",
    "- Выявили определяющие успешность игры закономерности: \n",
    "\n",
    "    Для региона EU\\NA:\n",
    "    - Плтаформы PS4 и XOne\n",
    "    - Жанры Shooter, Action, Sports и RPG.\n",
    "    - Игры с возрастным рейтингом М(17+) \n",
    "    \n",
    "    Для региона JP:\n",
    "    - Плтаформы 3DS, PS4 и PSV\n",
    "    - Жанры Action и RPG.\n",
    "    - Рейтинг ESRB в Японии не катируется. Лишь 40% от всех продаж идут с рейтингом. И большая часть из них с детским рейтингом. \n",
    "    \n",
    "- Проверили гипотезы."
   ]
  }
 ],
 "metadata": {
  "ExecuteTimeLog": [
   {
    "duration": 1225,
    "start_time": "2022-09-26T15:36:12.296Z"
   },
   {
    "duration": 55,
    "start_time": "2022-09-26T15:36:13.523Z"
   },
   {
    "duration": 20,
    "start_time": "2022-09-26T15:36:13.580Z"
   },
   {
    "duration": 20,
    "start_time": "2022-09-26T15:36:13.602Z"
   },
   {
    "duration": 14,
    "start_time": "2022-09-26T15:36:13.624Z"
   },
   {
    "duration": 13,
    "start_time": "2022-09-26T15:36:13.639Z"
   },
   {
    "duration": 36,
    "start_time": "2022-09-26T15:36:13.654Z"
   },
   {
    "duration": 15,
    "start_time": "2022-09-26T15:36:13.692Z"
   },
   {
    "duration": 11,
    "start_time": "2022-09-26T15:36:13.709Z"
   },
   {
    "duration": 29,
    "start_time": "2022-09-26T15:36:13.722Z"
   },
   {
    "duration": 6,
    "start_time": "2022-09-26T15:36:13.754Z"
   },
   {
    "duration": 27,
    "start_time": "2022-09-26T15:36:13.762Z"
   },
   {
    "duration": 212,
    "start_time": "2022-09-26T15:36:13.791Z"
   },
   {
    "duration": 61,
    "start_time": "2022-09-26T15:36:14.006Z"
   },
   {
    "duration": 358,
    "start_time": "2022-09-26T15:36:14.069Z"
   },
   {
    "duration": 352,
    "start_time": "2022-09-26T15:36:14.428Z"
   },
   {
    "duration": 22,
    "start_time": "2022-09-26T15:36:14.782Z"
   },
   {
    "duration": 5,
    "start_time": "2022-09-26T15:36:14.806Z"
   },
   {
    "duration": 199,
    "start_time": "2022-09-26T15:36:14.813Z"
   },
   {
    "duration": 8,
    "start_time": "2022-09-26T15:36:15.015Z"
   },
   {
    "duration": 182,
    "start_time": "2022-09-26T15:36:15.025Z"
   },
   {
    "duration": 9,
    "start_time": "2022-09-26T15:36:15.209Z"
   },
   {
    "duration": 274,
    "start_time": "2022-09-26T15:36:15.220Z"
   },
   {
    "duration": 8,
    "start_time": "2022-09-26T15:36:15.495Z"
   },
   {
    "duration": 181,
    "start_time": "2022-09-26T15:36:15.505Z"
   },
   {
    "duration": 8,
    "start_time": "2022-09-26T15:36:15.688Z"
   },
   {
    "duration": 186,
    "start_time": "2022-09-26T15:36:15.697Z"
   },
   {
    "duration": 11,
    "start_time": "2022-09-26T15:36:15.884Z"
   },
   {
    "duration": 172,
    "start_time": "2022-09-26T15:36:15.897Z"
   },
   {
    "duration": 19,
    "start_time": "2022-09-26T15:36:16.071Z"
   },
   {
    "duration": 164,
    "start_time": "2022-09-26T15:36:16.092Z"
   },
   {
    "duration": 9,
    "start_time": "2022-09-26T15:36:16.257Z"
   },
   {
    "duration": 174,
    "start_time": "2022-09-26T15:36:16.268Z"
   },
   {
    "duration": 8,
    "start_time": "2022-09-26T15:36:16.444Z"
   },
   {
    "duration": 175,
    "start_time": "2022-09-26T15:36:16.454Z"
   },
   {
    "duration": 224,
    "start_time": "2022-09-26T15:36:16.631Z"
   },
   {
    "duration": 33,
    "start_time": "2022-09-26T15:36:16.857Z"
   },
   {
    "duration": 231,
    "start_time": "2022-09-26T15:36:16.891Z"
   },
   {
    "duration": 16,
    "start_time": "2022-09-26T15:36:17.123Z"
   },
   {
    "duration": 14,
    "start_time": "2022-09-26T15:36:17.141Z"
   },
   {
    "duration": 40,
    "start_time": "2022-09-26T15:36:17.158Z"
   },
   {
    "duration": 15,
    "start_time": "2022-09-26T15:36:17.200Z"
   },
   {
    "duration": 14,
    "start_time": "2022-09-26T15:36:17.217Z"
   },
   {
    "duration": 15,
    "start_time": "2022-09-26T15:36:17.233Z"
   },
   {
    "duration": 43,
    "start_time": "2022-09-26T15:36:17.250Z"
   },
   {
    "duration": 15,
    "start_time": "2022-09-26T15:36:17.295Z"
   },
   {
    "duration": 14,
    "start_time": "2022-09-26T15:36:17.311Z"
   },
   {
    "duration": 6,
    "start_time": "2022-09-26T15:36:17.327Z"
   },
   {
    "duration": 4,
    "start_time": "2022-09-26T15:36:17.335Z"
   },
   {
    "duration": 8,
    "start_time": "2022-09-26T15:36:17.341Z"
   },
   {
    "duration": 38,
    "start_time": "2022-09-26T15:36:17.351Z"
   },
   {
    "duration": 7,
    "start_time": "2022-09-26T15:36:17.391Z"
   },
   {
    "duration": 13,
    "start_time": "2022-09-26T15:56:30.512Z"
   },
   {
    "duration": 24,
    "start_time": "2022-09-26T16:05:57.494Z"
   },
   {
    "duration": 51,
    "start_time": "2022-09-29T21:18:39.272Z"
   },
   {
    "duration": 1363,
    "start_time": "2022-09-29T21:24:24.357Z"
   },
   {
    "duration": 52,
    "start_time": "2022-09-29T21:24:25.721Z"
   },
   {
    "duration": 17,
    "start_time": "2022-09-29T21:24:25.774Z"
   },
   {
    "duration": 19,
    "start_time": "2022-09-29T21:24:25.793Z"
   },
   {
    "duration": 12,
    "start_time": "2022-09-29T21:24:25.813Z"
   },
   {
    "duration": 17,
    "start_time": "2022-09-29T21:24:25.826Z"
   },
   {
    "duration": 22,
    "start_time": "2022-09-29T21:24:25.844Z"
   },
   {
    "duration": 10,
    "start_time": "2022-09-29T21:24:25.868Z"
   },
   {
    "duration": 8,
    "start_time": "2022-09-29T21:24:25.880Z"
   },
   {
    "duration": 23,
    "start_time": "2022-09-29T21:24:25.890Z"
   },
   {
    "duration": 7,
    "start_time": "2022-09-29T21:24:25.914Z"
   },
   {
    "duration": 6,
    "start_time": "2022-09-29T21:24:25.923Z"
   },
   {
    "duration": 18,
    "start_time": "2022-09-29T21:24:25.930Z"
   },
   {
    "duration": 3,
    "start_time": "2022-09-29T21:24:25.950Z"
   },
   {
    "duration": 5,
    "start_time": "2022-09-29T21:24:25.955Z"
   },
   {
    "duration": 16,
    "start_time": "2022-09-29T21:24:25.961Z"
   },
   {
    "duration": 273,
    "start_time": "2022-09-29T21:24:25.978Z"
   },
   {
    "duration": 76,
    "start_time": "2022-09-29T21:24:26.253Z"
   },
   {
    "duration": 320,
    "start_time": "2022-09-29T21:24:26.330Z"
   },
   {
    "duration": 377,
    "start_time": "2022-09-29T21:24:26.651Z"
   },
   {
    "duration": 17,
    "start_time": "2022-09-29T21:24:27.030Z"
   },
   {
    "duration": 3,
    "start_time": "2022-09-29T21:24:27.049Z"
   },
   {
    "duration": 316,
    "start_time": "2022-09-29T21:24:27.054Z"
   },
   {
    "duration": 8,
    "start_time": "2022-09-29T21:24:27.371Z"
   },
   {
    "duration": 166,
    "start_time": "2022-09-29T21:24:27.380Z"
   },
   {
    "duration": 8,
    "start_time": "2022-09-29T21:24:27.548Z"
   },
   {
    "duration": 179,
    "start_time": "2022-09-29T21:24:27.557Z"
   },
   {
    "duration": 8,
    "start_time": "2022-09-29T21:24:27.740Z"
   },
   {
    "duration": 168,
    "start_time": "2022-09-29T21:24:27.749Z"
   },
   {
    "duration": 10,
    "start_time": "2022-09-29T21:24:27.919Z"
   },
   {
    "duration": 182,
    "start_time": "2022-09-29T21:24:27.931Z"
   },
   {
    "duration": 8,
    "start_time": "2022-09-29T21:24:28.114Z"
   },
   {
    "duration": 158,
    "start_time": "2022-09-29T21:24:28.124Z"
   },
   {
    "duration": 8,
    "start_time": "2022-09-29T21:24:28.283Z"
   },
   {
    "duration": 169,
    "start_time": "2022-09-29T21:24:28.293Z"
   },
   {
    "duration": 9,
    "start_time": "2022-09-29T21:24:28.464Z"
   },
   {
    "duration": 167,
    "start_time": "2022-09-29T21:24:28.475Z"
   },
   {
    "duration": 9,
    "start_time": "2022-09-29T21:24:28.644Z"
   },
   {
    "duration": 173,
    "start_time": "2022-09-29T21:24:28.655Z"
   },
   {
    "duration": 8,
    "start_time": "2022-09-29T21:24:28.830Z"
   },
   {
    "duration": 169,
    "start_time": "2022-09-29T21:24:28.840Z"
   },
   {
    "duration": 8,
    "start_time": "2022-09-29T21:24:29.010Z"
   },
   {
    "duration": 229,
    "start_time": "2022-09-29T21:24:29.020Z"
   },
   {
    "duration": 205,
    "start_time": "2022-09-29T21:24:29.251Z"
   },
   {
    "duration": 17,
    "start_time": "2022-09-29T21:24:29.457Z"
   },
   {
    "duration": 209,
    "start_time": "2022-09-29T21:24:29.476Z"
   },
   {
    "duration": 323,
    "start_time": "2022-09-29T21:24:29.687Z"
   },
   {
    "duration": 331,
    "start_time": "2022-09-29T21:24:30.012Z"
   },
   {
    "duration": 12,
    "start_time": "2022-09-29T21:24:30.345Z"
   },
   {
    "duration": 55,
    "start_time": "2022-09-29T21:24:30.358Z"
   },
   {
    "duration": 48,
    "start_time": "2022-09-29T21:24:30.415Z"
   },
   {
    "duration": 16,
    "start_time": "2022-09-29T21:24:30.464Z"
   },
   {
    "duration": 28,
    "start_time": "2022-09-29T21:24:30.481Z"
   },
   {
    "duration": 21,
    "start_time": "2022-09-29T21:24:30.510Z"
   },
   {
    "duration": 22,
    "start_time": "2022-09-29T21:24:30.532Z"
   },
   {
    "duration": 25,
    "start_time": "2022-09-29T21:24:30.555Z"
   },
   {
    "duration": 65,
    "start_time": "2022-09-29T21:24:30.582Z"
   },
   {
    "duration": 28,
    "start_time": "2022-09-29T21:24:30.650Z"
   },
   {
    "duration": 317,
    "start_time": "2022-09-29T21:24:30.680Z"
   },
   {
    "duration": 13,
    "start_time": "2022-09-29T21:24:30.999Z"
   },
   {
    "duration": 54,
    "start_time": "2022-09-29T21:24:31.013Z"
   },
   {
    "duration": 14,
    "start_time": "2022-09-29T21:24:31.070Z"
   },
   {
    "duration": 32,
    "start_time": "2022-09-29T21:24:31.086Z"
   },
   {
    "duration": 23,
    "start_time": "2022-09-29T21:24:31.119Z"
   },
   {
    "duration": 23,
    "start_time": "2022-09-29T21:24:31.143Z"
   },
   {
    "duration": 308,
    "start_time": "2022-09-29T21:24:31.167Z"
   },
   {
    "duration": 10,
    "start_time": "2022-09-29T21:24:31.477Z"
   },
   {
    "duration": 35,
    "start_time": "2022-09-29T21:24:31.489Z"
   },
   {
    "duration": 14,
    "start_time": "2022-09-29T21:24:31.525Z"
   },
   {
    "duration": 348,
    "start_time": "2022-09-29T21:24:31.541Z"
   },
   {
    "duration": 5,
    "start_time": "2022-09-29T21:24:31.891Z"
   },
   {
    "duration": 20,
    "start_time": "2022-09-29T21:24:31.897Z"
   },
   {
    "duration": 119,
    "start_time": "2022-09-29T21:24:31.919Z"
   },
   {
    "duration": 7,
    "start_time": "2022-09-29T21:24:32.040Z"
   },
   {
    "duration": 13,
    "start_time": "2022-09-29T21:24:32.049Z"
   },
   {
    "duration": 57,
    "start_time": "2022-09-29T21:24:32.064Z"
   },
   {
    "duration": 3,
    "start_time": "2022-09-29T21:24:32.122Z"
   },
   {
    "duration": 13,
    "start_time": "2022-09-29T21:24:32.127Z"
   },
   {
    "duration": 6,
    "start_time": "2022-09-29T21:24:32.141Z"
   },
   {
    "duration": 10,
    "start_time": "2022-09-29T21:24:32.148Z"
   },
   {
    "duration": 7,
    "start_time": "2022-09-29T21:24:32.160Z"
   },
   {
    "duration": 6,
    "start_time": "2022-09-29T21:24:32.173Z"
   },
   {
    "duration": 621,
    "start_time": "2022-09-29T21:24:32.180Z"
   },
   {
    "duration": 570,
    "start_time": "2022-09-29T21:24:32.803Z"
   },
   {
    "duration": 10,
    "start_time": "2022-09-29T21:25:22.184Z"
   },
   {
    "duration": 4,
    "start_time": "2022-09-29T21:25:22.775Z"
   },
   {
    "duration": 5,
    "start_time": "2022-09-29T21:25:23.071Z"
   },
   {
    "duration": 6,
    "start_time": "2022-09-29T21:25:23.456Z"
   },
   {
    "duration": 7,
    "start_time": "2022-09-29T21:25:24.240Z"
   },
   {
    "duration": 560,
    "start_time": "2022-09-29T21:25:24.894Z"
   },
   {
    "duration": 568,
    "start_time": "2022-09-29T21:25:26.112Z"
   },
   {
    "duration": 2,
    "start_time": "2022-09-29T21:26:56.451Z"
   },
   {
    "duration": 8376,
    "start_time": "2022-09-29T21:27:06.540Z"
   },
   {
    "duration": 3,
    "start_time": "2022-09-29T21:28:33.007Z"
   },
   {
    "duration": 52,
    "start_time": "2022-09-29T21:28:33.438Z"
   },
   {
    "duration": 5,
    "start_time": "2022-09-29T21:28:33.838Z"
   },
   {
    "duration": 17,
    "start_time": "2022-09-29T21:28:34.134Z"
   },
   {
    "duration": 6,
    "start_time": "2022-09-29T21:28:34.414Z"
   },
   {
    "duration": 5,
    "start_time": "2022-09-29T21:28:34.701Z"
   },
   {
    "duration": 6,
    "start_time": "2022-09-29T21:28:35.007Z"
   },
   {
    "duration": 7,
    "start_time": "2022-09-29T21:28:35.278Z"
   },
   {
    "duration": 602,
    "start_time": "2022-09-29T21:28:35.797Z"
   },
   {
    "duration": 585,
    "start_time": "2022-09-29T21:28:36.409Z"
   },
   {
    "duration": 7,
    "start_time": "2022-09-29T21:28:49.351Z"
   }
  ],
  "kernelspec": {
   "display_name": "Python 3 (ipykernel)",
   "language": "python",
   "name": "python3"
  },
  "language_info": {
   "codemirror_mode": {
    "name": "ipython",
    "version": 3
   },
   "file_extension": ".py",
   "mimetype": "text/x-python",
   "name": "python",
   "nbconvert_exporter": "python",
   "pygments_lexer": "ipython3",
   "version": "3.9.12"
  },
  "toc": {
   "base_numbering": 1,
   "nav_menu": {},
   "number_sections": true,
   "sideBar": true,
   "skip_h1_title": true,
   "title_cell": "Table of Contents",
   "title_sidebar": "Contents",
   "toc_cell": false,
   "toc_position": {
    "height": "441px",
    "left": "462px",
    "top": "111.136px",
    "width": "213px"
   },
   "toc_section_display": true,
   "toc_window_display": true
  }
 },
 "nbformat": 4,
 "nbformat_minor": 5
}
