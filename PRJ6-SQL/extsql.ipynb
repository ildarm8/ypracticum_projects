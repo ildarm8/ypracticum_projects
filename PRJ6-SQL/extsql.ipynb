{
 "cells": [
  {
   "cell_type": "markdown",
   "id": "5049ea0e",
   "metadata": {},
   "source": [
    "# Part One"
   ]
  },
  {
   "cell_type": "markdown",
   "id": "43f28b8e",
   "metadata": {},
   "source": [
    "1.\n",
    "Найдите количество вопросов, которые набрали больше 300 очков или как минимум 100 раз были добавлены в «Закладки»."
   ]
  },
  {
   "cell_type": "raw",
   "id": "1ba03b7b",
   "metadata": {},
   "source": [
    "SELECT count(*)\n",
    "FROM stackoverflow.posts p\n",
    "join stackoverflow.post_types pt on p.post_type_id=pt.id\n",
    "where pt.type = 'Question' and \n",
    "(p.favorites_count>=100 or p.score>300)"
   ]
  },
  {
   "cell_type": "markdown",
   "id": "158ba61b",
   "metadata": {},
   "source": [
    "2.\n",
    "Сколько в среднем в день задавали вопросов с 1 по 18 ноября 2008 включительно? Результат округлите до целого числа."
   ]
  },
  {
   "cell_type": "raw",
   "id": "d71c6e3a",
   "metadata": {},
   "source": [
    "with q as (\n",
    "select distinct date_trunc('day', creation_date)::date,\n",
    "        count(id) over(partition by date_trunc('day', creation_date)::date ) as q_count\n",
    "from stackoverflow.posts\n",
    "where post_type_id=1 and\n",
    "creation_date::date between '2008-11-01' and '2008-11-18'\n",
    ")\n",
    "select round(avg(q_count))\n",
    "from q;"
   ]
  },
  {
   "cell_type": "markdown",
   "id": "ce704bc3",
   "metadata": {},
   "source": [
    "3.\n",
    "Сколько пользователей получили значки сразу в день регистрации? Выведите количество уникальных пользователей."
   ]
  },
  {
   "cell_type": "raw",
   "id": "794476d7",
   "metadata": {},
   "source": [
    "with q as(\n",
    "    select count(u.id) as us_count\n",
    "    from stackoverflow.users u\n",
    "    join stackoverflow.badges b on u.id=b.user_id\n",
    "    where u.creation_date::date = b.creation_date::date\n",
    "    group by u.id\n",
    "    )\n",
    "select count(us_count)    \n",
    "from q"
   ]
  },
  {
   "cell_type": "markdown",
   "id": "ae3dd531",
   "metadata": {},
   "source": [
    "4.\n",
    "Сколько уникальных постов пользователя с именем Joel Coehoorn получили хотя бы один голос?"
   ]
  },
  {
   "cell_type": "markdown",
   "id": "1b7a85eb",
   "metadata": {},
   "source": [
    "SELECT \n",
    "    COUNT(DISTINCT (p.id))\n",
    "FROM stackoverflow.votes v\n",
    "JOIN stackoverflow.posts p ON v.post_id = p.id\n",
    "JOIN  stackoverflow.users u ON u.id = p.user_id\n",
    "WHERE\n",
    "u.display_name = 'Joel Coehoorn'"
   ]
  },
  {
   "cell_type": "markdown",
   "id": "e0e9883e",
   "metadata": {},
   "source": [
    "5.\n",
    "Выгрузите все поля таблицы vote_types. Добавьте к таблице поле rank, в которое войдут номера записей в обратном порядке. Таблица должна быть отсортирована по полю id."
   ]
  },
  {
   "cell_type": "raw",
   "id": "965b5b3e",
   "metadata": {},
   "source": [
    "select *,\n",
    "        rank() over(order by id desc)\n",
    "from stackoverflow.vote_types\n",
    "order by id"
   ]
  },
  {
   "cell_type": "markdown",
   "id": "6f3e6ed1",
   "metadata": {},
   "source": [
    "6.\n",
    "Отберите 10 пользователей, которые поставили больше всего голосов типа Close. Отобразите таблицу из двух полей: идентификатором пользователя и количеством голосов. Отсортируйте данные сначала по убыванию количества голосов, потом по убыванию значения идентификатора пользователя."
   ]
  },
  {
   "cell_type": "raw",
   "id": "a3379b0f",
   "metadata": {},
   "source": [
    "select u.id,\n",
    "       count(*) \n",
    "from stackoverflow.users u \n",
    "join stackoverflow.votes v on u.id=v.user_id\n",
    "where vote_type_id in (\n",
    "        select id\n",
    "        from stackoverflow.vote_types\n",
    "        where name = 'Close'\n",
    "    )\n",
    "group by u.id\n",
    "order by 2 desc,\n",
    "    1 desc\n",
    "limit 10"
   ]
  },
  {
   "cell_type": "markdown",
   "id": "54e3d79a",
   "metadata": {},
   "source": [
    "7.\n",
    "Отберите 10 пользователей по количеству значков, полученных в период с 15 ноября по 15 декабря 2008 года включительно.\n",
    "Отобразите несколько полей:\n",
    "идентификатор пользователя;\n",
    "число значков;\n",
    "место в рейтинге — чем больше значков, тем выше рейтинг.\n",
    "Пользователям, которые набрали одинаковое количество значков, присвойте одно и то же место в рейтинге.\n",
    "Отсортируйте записи по количеству значков по убыванию, а затем по возрастанию значения идентификатора пользователя."
   ]
  },
  {
   "cell_type": "raw",
   "id": "dac07630",
   "metadata": {},
   "source": [
    "select u.id,\n",
    "        count(b.id) as b_count,\n",
    "        dense_rank() OVER (ORDER BY count(b.id) DESC)\n",
    "from stackoverflow.users u\n",
    "join stackoverflow.badges b on u.id=b.user_id\n",
    "where b.creation_date::date between '2008-11-15' and '2008-12-15'\n",
    "group by u.id\n",
    "limit 10"
   ]
  },
  {
   "cell_type": "markdown",
   "id": "3e59514f",
   "metadata": {},
   "source": [
    "8.\n",
    "Сколько в среднем очков получает пост каждого пользователя?\n",
    "Сформируйте таблицу из следующих полей:\n",
    "заголовок поста;\n",
    "идентификатор пользователя;\n",
    "число очков поста;\n",
    "среднее число очков пользователя за пост, округлённое до целого числа.\n",
    "Не учитывайте посты без заголовка, а также те, что набрали ноль очков."
   ]
  },
  {
   "cell_type": "raw",
   "id": "ad3bcff1",
   "metadata": {},
   "source": [
    "select title, user_id, score,\n",
    "    round(avg(score) over(partition by user_id))\n",
    "from stackoverflow.posts\n",
    "where score <>0 and title is not null"
   ]
  },
  {
   "cell_type": "markdown",
   "id": "a782051a",
   "metadata": {},
   "source": [
    "9.\n",
    "Отобразите заголовки постов, которые были написаны пользователями, получившими более 1000 значков. Посты без заголовков не должны попасть в список."
   ]
  },
  {
   "cell_type": "raw",
   "id": "814c45d9",
   "metadata": {},
   "source": [
    "select title\n",
    "from stackoverflow.posts\n",
    "where title is not null\n",
    "and user_id in(\n",
    "    select user_id\n",
    "    from stackoverflow.badges\n",
    "    group by user_id\n",
    "    having count(id)> 1000\n",
    "    )"
   ]
  },
  {
   "cell_type": "markdown",
   "id": "52894262",
   "metadata": {},
   "source": [
    "10.\n",
    "Напишите запрос, который выгрузит данные о пользователях из США (англ. United States). Разделите пользователей на три группы в зависимости от количества просмотров их профилей:\n",
    "пользователям с числом просмотров больше либо равным 350 присвойте группу 1;\n",
    "пользователям с числом просмотров меньше 350, но больше либо равно 100 — группу 2;\n",
    "пользователям с числом просмотров меньше 100 — группу 3.\n",
    "Отобразите в итоговой таблице идентификатор пользователя, количество просмотров профиля и группу. Пользователи с нулевым количеством просмотров не должны войти в итоговую таблицу."
   ]
  },
  {
   "cell_type": "raw",
   "id": "6f3663d4",
   "metadata": {},
   "source": [
    "select id, views,\n",
    "        case \n",
    "            when views >= 350 then 1\n",
    "            when views <= 350 and views >= 100 then 2\n",
    "            else 3\n",
    "            end\n",
    "from stackoverflow.users\n",
    "where views <>0 and location like '%United States%'"
   ]
  },
  {
   "cell_type": "markdown",
   "id": "3fc56859",
   "metadata": {},
   "source": [
    "11.\n",
    "Дополните предыдущий запрос. Отобразите лидеров каждой группы — пользователей, которые набрали максимальное число просмотров в своей группе. Выведите поля с идентификатором пользователя, группой и количеством просмотров. Отсортируйте таблицу по убыванию просмотров, а затем по возрастанию значения идентификатора."
   ]
  },
  {
   "cell_type": "raw",
   "id": "1043da62",
   "metadata": {},
   "source": [
    "with q as(\n",
    "\n",
    "select id, views,\n",
    "        case \n",
    "            when views >= 350 then 1\n",
    "            when views <= 350 and views >= 100 then 2\n",
    "            else 3\n",
    "            end\n",
    "from stackoverflow.users\n",
    "where views <>0 and location like '%United States%'\n",
    "    ),\n",
    "    \n",
    "w as (select q.id, q.case,q.views,\n",
    "           max(q.views) over (partition by q.case ) as max_v\n",
    "from q\n",
    "order by 3 desc, 1)\n",
    "\n",
    "select w.id,w.case, w.views\n",
    "from w\n",
    "where w.max_v=w.views\n",
    "order by 3 desc, 1"
   ]
  },
  {
   "cell_type": "markdown",
   "id": "07e6cace",
   "metadata": {},
   "source": [
    "12.\n",
    "Посчитайте ежедневный прирост новых пользователей в ноябре 2008 года. Сформируйте таблицу с полями:\n",
    "номер дня;\n",
    "число пользователей, зарегистрированных в этот день;\n",
    "сумму пользователей с накоплением."
   ]
  },
  {
   "cell_type": "raw",
   "id": "d8e1d346",
   "metadata": {},
   "source": [
    "select distinct extract(day from creation_date) as november,\n",
    "        count(*) over (partition by date_trunc('day', creation_date)::date) as day_count,\n",
    "        count(*) over (order by date_trunc('day', creation_date)::date) as users_sum\n",
    "from stackoverflow.users \n",
    "where extract(month from creation_date) = 11 and\n",
    "extract(year from creation_date) = 2008"
   ]
  },
  {
   "cell_type": "markdown",
   "id": "b9e36b97",
   "metadata": {},
   "source": [
    "13.\n",
    "Для каждого пользователя, который написал хотя бы один пост, найдите интервал между регистрацией и временем создания первого поста. Отобразите:\n",
    "идентификатор пользователя;\n",
    "разницу во времени между регистрацией и первым постом."
   ]
  },
  {
   "cell_type": "raw",
   "id": "f8d6a1c7",
   "metadata": {},
   "source": [
    " with q as (select u.id,\n",
    "                        u.creation_date as user_cr_date,\n",
    "                        display_name, \n",
    "                        p.creation_date as post_cr_date,\n",
    "                        row_number() over (partition by u.id order by p.creation_date) as rn\n",
    "            from stackoverflow.users u\n",
    "            join stackoverflow.posts p on u.id=p.user_id\n",
    "            )\n",
    "\n",
    "select q.id,\n",
    "       q.post_cr_date-q.user_cr_date as diff\n",
    "from q \n",
    "where rn=1\n",
    "order by 1"
   ]
  },
  {
   "cell_type": "markdown",
   "id": "a6f83cf2",
   "metadata": {},
   "source": [
    "# Part two\n"
   ]
  },
  {
   "cell_type": "code",
   "execution_count": null,
   "id": "2e387630",
   "metadata": {},
   "outputs": [],
   "source": []
  },
  {
   "cell_type": "markdown",
   "id": "3a2c2d74",
   "metadata": {},
   "source": [
    "1.\n",
    "Выведите общую сумму просмотров постов за каждый месяц 2008 года. Если данных за какой-либо месяц в базе нет, такой месяц можно пропустить. Результат отсортируйте по убыванию общего количества просмотров."
   ]
  },
  {
   "cell_type": "raw",
   "id": "5b58750f",
   "metadata": {},
   "source": [
    "select date_trunc('month',creation_date)::date,\n",
    "        sum(views_count)\n",
    "from stackoverflow.posts\n",
    "where extract(year from creation_date) =2008\n",
    "group by 1\n",
    "order by 2 desc"
   ]
  },
  {
   "cell_type": "markdown",
   "id": "1eb16631",
   "metadata": {},
   "source": [
    "2.\n",
    "Выведите имена самых активных пользователей, которые в первый месяц после регистрации (включая день регистрации) дали больше 100 ответов. Вопросы, которые задавали пользователи, не учитывайте. Для каждого имени пользователя выведите количество уникальных значений user_id. Отсортируйте результат по полю с именами в лексикографическом порядке."
   ]
  },
  {
   "cell_type": "raw",
   "id": "7e5bd2aa",
   "metadata": {},
   "source": [
    "select u.display_name,\n",
    "        COUNT(DISTINCT user_id)\n",
    "from stackoverflow.users u\n",
    "join stackoverflow.posts p on u.id=p.user_id\n",
    "where p.creation_date::date <= u.creation_date::date + interval '1 month' and post_type_id=2\n",
    "group by 1\n",
    "HAVING COUNT(*) > 100\n",
    "order by 1"
   ]
  },
  {
   "cell_type": "markdown",
   "id": "be3056af",
   "metadata": {},
   "source": [
    "3.\n",
    "Выведите количество постов за 2008 год по месяцам. Отберите посты от пользователей, которые зарегистрировались в сентябре 2008 года и сделали хотя бы один пост в декабре того же года. Отсортируйте таблицу по значению месяца по убыванию."
   ]
  },
  {
   "cell_type": "code",
   "execution_count": null,
   "id": "b5366bd0",
   "metadata": {},
   "outputs": [],
   "source": [
    "SELECT\n",
    "    DISTINCT DATE_TRUNC('MONTH', creation_date)::date AS dt,\n",
    "    COUNT(id) AS cnt\n",
    "FROM stackoverflow.posts\n",
    "WHERE user_id IN (\n",
    "        SELECT DISTINCT u.id\n",
    "        FROM stackoverflow.posts AS p\n",
    "        JOIN stackoverflow.users AS u ON p.user_id = u.id\n",
    "        WHERE\n",
    "            DATE_TRUNC('MONTH', u.creation_date) = '2008-09-01'\n",
    "            AND DATE_TRUNC('MONTH', p.creation_date) = '2008-12-01')\n",
    "GROUP BY 1\n",
    "ORDER BY 1 DESC"
   ]
  },
  {
   "cell_type": "markdown",
   "id": "d82bf882",
   "metadata": {},
   "source": [
    "4.\n",
    "Используя данные о постах, выведите несколько полей:\n",
    "идентификатор пользователя, который написал пост;\n",
    "дата создания поста;\n",
    "количество просмотров у текущего поста;\n",
    "сумму просмотров постов автора с накоплением.\n",
    "Данные в таблице должны быть отсортированы по возрастанию идентификаторов пользователей, а данные об одном и том же пользователе — по возрастанию даты создания поста."
   ]
  },
  {
   "cell_type": "raw",
   "id": "1271bd50",
   "metadata": {},
   "source": [
    "SELECT user_id, creation_date, views_count,\n",
    "        sum(views_count) over(partition by user_id order by creation_date)\n",
    "FROM stackoverflow.posts\n",
    "ORDER BY 1,2"
   ]
  },
  {
   "cell_type": "markdown",
   "id": "be570ae4",
   "metadata": {},
   "source": [
    "5.\n",
    "Сколько в среднем дней в период с 1 по 7 декабря 2008 года включительно пользователи взаимодействовали с платформой? Для каждого пользователя отберите дни, в которые он или она опубликовали хотя бы один пост. Нужно получить одно целое число — не забудьте округлить результат."
   ]
  },
  {
   "cell_type": "raw",
   "id": "1a14be56",
   "metadata": {},
   "source": [
    "with q as (\n",
    "SELECT user_id,\n",
    "        COUNT(distinct creation_date::date) as cnt\n",
    "FROM stackoverflow.posts\n",
    "WHERE creation_date::date BETWEEN '2008-12-01' AND '2008-12-07'\n",
    "GROUP BY 1)\n",
    "\n",
    "SELECT ROUND(AVG(cnt))\n",
    "FROM q"
   ]
  },
  {
   "cell_type": "markdown",
   "id": "f1ed2260",
   "metadata": {},
   "source": [
    "6.\n",
    "На сколько процентов менялось количество постов ежемесячно с 1 сентября по 31 декабря 2008 года? Отобразите таблицу со следующими полями:\n",
    "номер месяца;\n",
    "количество постов за месяц;\n",
    "процент, который показывает, насколько изменилось количество постов в текущем месяце по сравнению с предыдущим.\n",
    "Если постов стало меньше, значение процента должно быть отрицательным, если больше — положительным. Округлите значение процента до двух знаков после запятой.\n",
    "Напомним, что при делении одного целого числа на другое в PostgreSQL в результате получится целое число, округлённое до ближайшего целого вниз. Чтобы этого избежать, переведите делимое в тип numeric."
   ]
  },
  {
   "cell_type": "raw",
   "id": "b1323fa1",
   "metadata": {},
   "source": [
    "select extract(month from creation_date) as pmonth,\n",
    "            count(*) as pcount,\n",
    "            round((count(*)::numeric-lag(count(*)) over ())/lag(count(*)) over ()*100,2)\n",
    "from stackoverflow.posts\n",
    "WHERE creation_date::date BETWEEN '2008-09-01' AND '2008-12-31'\n",
    "group by 1"
   ]
  },
  {
   "cell_type": "markdown",
   "id": "3c8ed0b6",
   "metadata": {},
   "source": [
    "7.\n",
    "Выгрузите данные активности пользователя, который опубликовал больше всего постов за всё время. Выведите данные за октябрь 2008 года в таком виде:\n",
    "номер недели;\n",
    "дата и время последнего поста, опубликованного на этой неделе."
   ]
  },
  {
   "cell_type": "raw",
   "id": "a1456fe9",
   "metadata": {},
   "source": [
    "with q as (\n",
    "select  count(id),user_id\n",
    "from stackoverflow.posts\n",
    "group by user_id\n",
    "order by 1 desc\n",
    "limit 1)\n",
    "\n",
    "\n",
    "select distinct extract (week from creation_date::timestamp),\n",
    "        max(creation_date) over (partition by extract (week from creation_date::timestamp))\n",
    "from stackoverflow.posts p \n",
    "join q on p.user_id=q.user_id\n",
    "where \n",
    "creation_date::date BETWEEN '2008-10-01' AND '2008-10-31'"
   ]
  }
 ],
 "metadata": {
  "kernelspec": {
   "display_name": "Python 3 (ipykernel)",
   "language": "python",
   "name": "python3"
  },
  "language_info": {
   "codemirror_mode": {
    "name": "ipython",
    "version": 3
   },
   "file_extension": ".py",
   "mimetype": "text/x-python",
   "name": "python",
   "nbconvert_exporter": "python",
   "pygments_lexer": "ipython3",
   "version": "3.9.12"
  },
  "toc": {
   "base_numbering": 1,
   "nav_menu": {},
   "number_sections": true,
   "sideBar": true,
   "skip_h1_title": false,
   "title_cell": "Table of Contents",
   "title_sidebar": "Contents",
   "toc_cell": false,
   "toc_position": {},
   "toc_section_display": true,
   "toc_window_display": true
  }
 },
 "nbformat": 4,
 "nbformat_minor": 5
}
